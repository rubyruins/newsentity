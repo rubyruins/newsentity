{
 "cells": [
  {
   "cell_type": "code",
   "execution_count": 1,
   "metadata": {},
   "outputs": [],
   "source": [
    "from bs4 import BeautifulSoup\n",
    "import requests\n",
    "import pandas as pd"
   ]
  },
  {
   "cell_type": "code",
   "execution_count": 2,
   "metadata": {},
   "outputs": [],
   "source": [
    "r = requests.get(\"https://muckrack.com/sitemap.xml\")\n",
    "xml = r.text\n",
    "soup = BeautifulSoup(xml)\n",
    "sitemapTags = [i.findAll('loc')[0].text for i in soup.find_all(\"sitemap\") if 'sitemap-person' in str(i)]"
   ]
  },
  {
   "cell_type": "code",
   "execution_count": 3,
   "metadata": {},
   "outputs": [],
   "source": [
    "muckrack = pd.DataFrame (columns = ['last_modified', 'url'])"
   ]
  },
  {
   "cell_type": "code",
   "execution_count": 4,
   "metadata": {
    "scrolled": true
   },
   "outputs": [
    {
     "name": "stdout",
     "output_type": "stream",
     "text": [
      "https://muckrack.com/sitemaps/sitemap-person-1.xml\n",
      "https://muckrack.com/sitemaps/sitemap-person-2.xml\n",
      "https://muckrack.com/sitemaps/sitemap-person-3.xml\n",
      "https://muckrack.com/sitemaps/sitemap-person-4.xml\n",
      "https://muckrack.com/sitemaps/sitemap-person-5.xml\n",
      "https://muckrack.com/sitemaps/sitemap-person-6.xml\n",
      "https://muckrack.com/sitemaps/sitemap-person-7.xml\n",
      "https://muckrack.com/sitemaps/sitemap-person-8.xml\n",
      "https://muckrack.com/sitemaps/sitemap-person-9.xml\n",
      "https://muckrack.com/sitemaps/sitemap-person-10.xml\n",
      "https://muckrack.com/sitemaps/sitemap-person-11.xml\n",
      "https://muckrack.com/sitemaps/sitemap-person-12.xml\n",
      "https://muckrack.com/sitemaps/sitemap-person-13.xml\n",
      "https://muckrack.com/sitemaps/sitemap-person-14.xml\n",
      "https://muckrack.com/sitemaps/sitemap-person-15.xml\n",
      "https://muckrack.com/sitemaps/sitemap-person-16.xml\n",
      "https://muckrack.com/sitemaps/sitemap-person-17.xml\n",
      "https://muckrack.com/sitemaps/sitemap-person-18.xml\n",
      "https://muckrack.com/sitemaps/sitemap-person-19.xml\n",
      "https://muckrack.com/sitemaps/sitemap-person-20.xml\n",
      "https://muckrack.com/sitemaps/sitemap-person-21.xml\n",
      "https://muckrack.com/sitemaps/sitemap-person-22.xml\n",
      "https://muckrack.com/sitemaps/sitemap-person-23.xml\n",
      "https://muckrack.com/sitemaps/sitemap-person-24.xml\n",
      "https://muckrack.com/sitemaps/sitemap-person-25.xml\n",
      "https://muckrack.com/sitemaps/sitemap-person-26.xml\n",
      "https://muckrack.com/sitemaps/sitemap-person-27.xml\n",
      "https://muckrack.com/sitemaps/sitemap-person-28.xml\n",
      "https://muckrack.com/sitemaps/sitemap-person-29.xml\n",
      "https://muckrack.com/sitemaps/sitemap-person-30.xml\n",
      "https://muckrack.com/sitemaps/sitemap-person-31.xml\n",
      "https://muckrack.com/sitemaps/sitemap-person-32.xml\n",
      "https://muckrack.com/sitemaps/sitemap-person-33.xml\n",
      "https://muckrack.com/sitemaps/sitemap-person-34.xml\n",
      "https://muckrack.com/sitemaps/sitemap-person-35.xml\n",
      "https://muckrack.com/sitemaps/sitemap-person-36.xml\n",
      "https://muckrack.com/sitemaps/sitemap-person-37.xml\n",
      "https://muckrack.com/sitemaps/sitemap-person-38.xml\n",
      "https://muckrack.com/sitemaps/sitemap-person-39.xml\n",
      "https://muckrack.com/sitemaps/sitemap-person-40.xml\n",
      "https://muckrack.com/sitemaps/sitemap-person-41.xml\n",
      "https://muckrack.com/sitemaps/sitemap-person-42.xml\n",
      "https://muckrack.com/sitemaps/sitemap-person-43.xml\n",
      "https://muckrack.com/sitemaps/sitemap-person-44.xml\n",
      "https://muckrack.com/sitemaps/sitemap-person-45.xml\n",
      "https://muckrack.com/sitemaps/sitemap-person-46.xml\n",
      "https://muckrack.com/sitemaps/sitemap-person-47.xml\n",
      "https://muckrack.com/sitemaps/sitemap-person-48.xml\n",
      "https://muckrack.com/sitemaps/sitemap-person-49.xml\n",
      "https://muckrack.com/sitemaps/sitemap-person-50.xml\n",
      "https://muckrack.com/sitemaps/sitemap-person-51.xml\n",
      "https://muckrack.com/sitemaps/sitemap-person-52.xml\n",
      "https://muckrack.com/sitemaps/sitemap-person-53.xml\n",
      "https://muckrack.com/sitemaps/sitemap-person-54.xml\n",
      "https://muckrack.com/sitemaps/sitemap-person-55.xml\n",
      "https://muckrack.com/sitemaps/sitemap-person-56.xml\n",
      "https://muckrack.com/sitemaps/sitemap-person-57.xml\n",
      "https://muckrack.com/sitemaps/sitemap-person-58.xml\n",
      "https://muckrack.com/sitemaps/sitemap-person-59.xml\n",
      "https://muckrack.com/sitemaps/sitemap-person-60.xml\n",
      "https://muckrack.com/sitemaps/sitemap-person-61.xml\n",
      "https://muckrack.com/sitemaps/sitemap-person-62.xml\n",
      "https://muckrack.com/sitemaps/sitemap-person-63.xml\n",
      "https://muckrack.com/sitemaps/sitemap-person-64.xml\n",
      "https://muckrack.com/sitemaps/sitemap-person-65.xml\n",
      "https://muckrack.com/sitemaps/sitemap-person-66.xml\n",
      "https://muckrack.com/sitemaps/sitemap-person-67.xml\n"
     ]
    }
   ],
   "source": [
    "for sitemapTag in sitemapTags:\n",
    "    print(sitemapTag)\n",
    "    r = requests.get(sitemapTag)\n",
    "    xml = r.text\n",
    "    soup = BeautifulSoup(xml)\n",
    "    for i in soup.findAll('url'):\n",
    "        row = pd.Series(list([i.findAll('lastmod')[0].text, i.findAll('loc')[0].text]), index = muckrack.columns)\n",
    "        muckrack = muckrack.append(row, ignore_index = True) "
   ]
  },
  {
   "cell_type": "code",
   "execution_count": 5,
   "metadata": {},
   "outputs": [
    {
     "data": {
      "text/html": [
       "<div>\n",
       "<style scoped>\n",
       "    .dataframe tbody tr th:only-of-type {\n",
       "        vertical-align: middle;\n",
       "    }\n",
       "\n",
       "    .dataframe tbody tr th {\n",
       "        vertical-align: top;\n",
       "    }\n",
       "\n",
       "    .dataframe thead th {\n",
       "        text-align: right;\n",
       "    }\n",
       "</style>\n",
       "<table border=\"1\" class=\"dataframe\">\n",
       "  <thead>\n",
       "    <tr style=\"text-align: right;\">\n",
       "      <th></th>\n",
       "      <th>last_modified</th>\n",
       "      <th>url</th>\n",
       "    </tr>\n",
       "  </thead>\n",
       "  <tbody>\n",
       "    <tr>\n",
       "      <th>0</th>\n",
       "      <td>2020-01-25</td>\n",
       "      <td>https://muckrack.com/__jackguy</td>\n",
       "    </tr>\n",
       "    <tr>\n",
       "      <th>1</th>\n",
       "      <td>2020-05-08</td>\n",
       "      <td>https://muckrack.com/__jbernstein</td>\n",
       "    </tr>\n",
       "    <tr>\n",
       "      <th>2</th>\n",
       "      <td>2019-04-18</td>\n",
       "      <td>https://muckrack.com/__jessclark</td>\n",
       "    </tr>\n",
       "    <tr>\n",
       "      <th>3</th>\n",
       "      <td>2021-01-20</td>\n",
       "      <td>https://muckrack.com/__jevans__</td>\n",
       "    </tr>\n",
       "    <tr>\n",
       "      <th>4</th>\n",
       "      <td>2020-11-19</td>\n",
       "      <td>https://muckrack.com/__katieoconnor</td>\n",
       "    </tr>\n",
       "    <tr>\n",
       "      <th>...</th>\n",
       "      <td>...</td>\n",
       "      <td>...</td>\n",
       "    </tr>\n",
       "    <tr>\n",
       "      <th>233793</th>\n",
       "      <td>2020-06-23</td>\n",
       "      <td>https://muckrack.com/zuzana-strakova-wenzlova-1</td>\n",
       "    </tr>\n",
       "    <tr>\n",
       "      <th>233794</th>\n",
       "      <td>2020-09-01</td>\n",
       "      <td>https://muckrack.com/zvi-solomons</td>\n",
       "    </tr>\n",
       "    <tr>\n",
       "      <th>233795</th>\n",
       "      <td>2019-08-17</td>\n",
       "      <td>https://muckrack.com/zviad-pochkhua</td>\n",
       "    </tr>\n",
       "    <tr>\n",
       "      <th>233796</th>\n",
       "      <td>2020-08-28</td>\n",
       "      <td>https://muckrack.com/zweli-chibs</td>\n",
       "    </tr>\n",
       "    <tr>\n",
       "      <th>233797</th>\n",
       "      <td>2020-08-04</td>\n",
       "      <td>https://muckrack.com/zydalis-bauer</td>\n",
       "    </tr>\n",
       "  </tbody>\n",
       "</table>\n",
       "<p>233798 rows × 2 columns</p>\n",
       "</div>"
      ],
      "text/plain": [
       "       last_modified                                              url\n",
       "0         2020-01-25                   https://muckrack.com/__jackguy\n",
       "1         2020-05-08                https://muckrack.com/__jbernstein\n",
       "2         2019-04-18                 https://muckrack.com/__jessclark\n",
       "3         2021-01-20                  https://muckrack.com/__jevans__\n",
       "4         2020-11-19              https://muckrack.com/__katieoconnor\n",
       "...              ...                                              ...\n",
       "233793    2020-06-23  https://muckrack.com/zuzana-strakova-wenzlova-1\n",
       "233794    2020-09-01                https://muckrack.com/zvi-solomons\n",
       "233795    2019-08-17              https://muckrack.com/zviad-pochkhua\n",
       "233796    2020-08-28                 https://muckrack.com/zweli-chibs\n",
       "233797    2020-08-04               https://muckrack.com/zydalis-bauer\n",
       "\n",
       "[233798 rows x 2 columns]"
      ]
     },
     "execution_count": 5,
     "metadata": {},
     "output_type": "execute_result"
    }
   ],
   "source": [
    "muckrack"
   ]
  },
  {
   "cell_type": "code",
   "execution_count": 6,
   "metadata": {},
   "outputs": [],
   "source": [
    "muckrack.to_csv('muckrack_persons_fetchlist.csv')"
   ]
  }
 ],
 "metadata": {
  "kernelspec": {
   "display_name": "Specrom (Newsentity)",
   "language": "python",
   "name": "specrom"
  },
  "language_info": {
   "codemirror_mode": {
    "name": "ipython",
    "version": 3
   },
   "file_extension": ".py",
   "mimetype": "text/x-python",
   "name": "python",
   "nbconvert_exporter": "python",
   "pygments_lexer": "ipython3",
   "version": "3.8.2"
  }
 },
 "nbformat": 4,
 "nbformat_minor": 4
}
