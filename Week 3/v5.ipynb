{
 "cells": [
  {
   "cell_type": "code",
   "execution_count": 3,
   "metadata": {},
   "outputs": [],
   "source": [
    "import pandas as pd\n",
    "import numpy as np\n",
    "import re\n",
    "import recordlinkage\n",
    "import pickle\n",
    "import matplotlib.pyplot as plt"
   ]
  },
  {
   "cell_type": "code",
   "execution_count": 4,
   "metadata": {},
   "outputs": [],
   "source": [
    "emails = pd.read_csv(\"compression_test.txt.gz\", compression='gzip',sep = '\\t')\n",
    "emails = emails.fillna(\"\")\n",
    "emails = emails[['email_address', 'first_name_df', 'second_name_df']]"
   ]
  },
  {
   "cell_type": "code",
   "execution_count": 5,
   "metadata": {},
   "outputs": [
    {
     "data": {
      "text/html": [
       "<div>\n",
       "<style scoped>\n",
       "    .dataframe tbody tr th:only-of-type {\n",
       "        vertical-align: middle;\n",
       "    }\n",
       "\n",
       "    .dataframe tbody tr th {\n",
       "        vertical-align: top;\n",
       "    }\n",
       "\n",
       "    .dataframe thead th {\n",
       "        text-align: right;\n",
       "    }\n",
       "</style>\n",
       "<table border=\"1\" class=\"dataframe\">\n",
       "  <thead>\n",
       "    <tr style=\"text-align: right;\">\n",
       "      <th></th>\n",
       "      <th>email_address</th>\n",
       "      <th>first_name_df</th>\n",
       "      <th>second_name_df</th>\n",
       "    </tr>\n",
       "  </thead>\n",
       "  <tbody>\n",
       "    <tr>\n",
       "      <th>0</th>\n",
       "      <td>rating@mail.ru</td>\n",
       "      <td></td>\n",
       "      <td></td>\n",
       "    </tr>\n",
       "    <tr>\n",
       "      <th>1</th>\n",
       "      <td>xb3@mail.ru</td>\n",
       "      <td></td>\n",
       "      <td></td>\n",
       "    </tr>\n",
       "    <tr>\n",
       "      <th>2</th>\n",
       "      <td>info@aktiencheck.de</td>\n",
       "      <td></td>\n",
       "      <td></td>\n",
       "    </tr>\n",
       "    <tr>\n",
       "      <th>3</th>\n",
       "      <td>legals@heartmediact.com</td>\n",
       "      <td></td>\n",
       "      <td></td>\n",
       "    </tr>\n",
       "    <tr>\n",
       "      <th>4</th>\n",
       "      <td>8b4e078a51d04e0e9efdf470027f0ec1@sentry.wixpre...</td>\n",
       "      <td></td>\n",
       "      <td></td>\n",
       "    </tr>\n",
       "    <tr>\n",
       "      <th>...</th>\n",
       "      <td>...</td>\n",
       "      <td>...</td>\n",
       "      <td>...</td>\n",
       "    </tr>\n",
       "    <tr>\n",
       "      <th>2574181</th>\n",
       "      <td>hyzhenhua@mail.tzptt.zj.cn</td>\n",
       "      <td></td>\n",
       "      <td></td>\n",
       "    </tr>\n",
       "    <tr>\n",
       "      <th>2574182</th>\n",
       "      <td>hyzgkxni@gmail.com</td>\n",
       "      <td></td>\n",
       "      <td></td>\n",
       "    </tr>\n",
       "    <tr>\n",
       "      <th>2574183</th>\n",
       "      <td>hyzbhtbq@ygfqvw.com</td>\n",
       "      <td></td>\n",
       "      <td></td>\n",
       "    </tr>\n",
       "    <tr>\n",
       "      <th>2574184</th>\n",
       "      <td>hyzb@uibe.edu.cn</td>\n",
       "      <td></td>\n",
       "      <td></td>\n",
       "    </tr>\n",
       "    <tr>\n",
       "      <th>2574185</th>\n",
       "      <td>zzzzzzzzzz7732@mail.ru</td>\n",
       "      <td></td>\n",
       "      <td></td>\n",
       "    </tr>\n",
       "  </tbody>\n",
       "</table>\n",
       "<p>2574186 rows × 3 columns</p>\n",
       "</div>"
      ],
      "text/plain": [
       "                                             email_address first_name_df  \\\n",
       "0                                           rating@mail.ru                 \n",
       "1                                              xb3@mail.ru                 \n",
       "2                                      info@aktiencheck.de                 \n",
       "3                                  legals@heartmediact.com                 \n",
       "4        8b4e078a51d04e0e9efdf470027f0ec1@sentry.wixpre...                 \n",
       "...                                                    ...           ...   \n",
       "2574181                         hyzhenhua@mail.tzptt.zj.cn                 \n",
       "2574182                                 hyzgkxni@gmail.com                 \n",
       "2574183                                hyzbhtbq@ygfqvw.com                 \n",
       "2574184                                   hyzb@uibe.edu.cn                 \n",
       "2574185                             zzzzzzzzzz7732@mail.ru                 \n",
       "\n",
       "        second_name_df  \n",
       "0                       \n",
       "1                       \n",
       "2                       \n",
       "3                       \n",
       "4                       \n",
       "...                ...  \n",
       "2574181                 \n",
       "2574182                 \n",
       "2574183                 \n",
       "2574184                 \n",
       "2574185                 \n",
       "\n",
       "[2574186 rows x 3 columns]"
      ]
     },
     "execution_count": 5,
     "metadata": {},
     "output_type": "execute_result"
    }
   ],
   "source": [
    "emails"
   ]
  },
  {
   "cell_type": "code",
   "execution_count": 6,
   "metadata": {},
   "outputs": [],
   "source": [
    "with open('news.pkl', 'rb') as f:\n",
    "    news = pickle.load(f)\n",
    "    # 3844 unique authors\n",
    "    \n",
    "muckrack = pd.read_csv('../Data/muckrack_persons_fetchlist.csv')"
   ]
  },
  {
   "cell_type": "code",
   "execution_count": 7,
   "metadata": {
    "scrolled": true
   },
   "outputs": [],
   "source": [
    "def first_name():\n",
    "    temp = news[['author', 'article_count']].groupby('author').count().sort_values(['article_count'], ascending = False)\n",
    "    temp = temp.reset_index()\n",
    "    first_names = []\n",
    "    author_and_outlets = []\n",
    "    for i in range(len(temp)):\n",
    "        first_name = temp.loc[i].author.lower()\n",
    "        first_name = re.sub(r'\\|.*$', '', first_name) # remove everything after |\n",
    "        first_name = re.sub(r'\\,.*$', '', first_name) # remove evrything after ,\n",
    "        \n",
    "        punctuations = '''!()[]{};:'\"\\,<>./?#$%^&*_~'''\n",
    "        for x in first_name.lower(): \n",
    "            if x in punctuations: first_name = first_name.replace(x, \"\") # remove punctuations except hyphen\n",
    "        first_name = re.sub(r'(\\d+)', '', first_name) # remove numbers\n",
    "        first_name = re.sub(r'(--)', '', first_name)\n",
    "        first_name = re.sub(r'(\\w+@\\w+)', '', first_name) # remove emails\n",
    "        first_name = ' '.join([i.strip() for i in first_name.split()]) # remove spaces and lowercase\n",
    "        first_name = re.sub(r'(\\s+)(and)(\\s+)(\\w*)(\\s*)(\\w*)', '', first_name) # remove anything after and\n",
    "        keywords = ['sa', 'tulsa', 'editor', 'writer', 'world-herald', 'news', 'world', 'richmond', 'times-dispatch', 'new',\n",
    "                   'hampshire', 'union', 'leader', 'for', 'the', 'state', 'journal', 'correspondant', 'sfgate', 'special',\n",
    "                   'from', 'the', 'gazette', 'times', 'staff', 'senior', 'dr', 'correspondent', 'by', 'editorial board',\n",
    "                   'research', 'wire reports', 'security', 'real', 'estate', 'to', 'post', 'and', 'courier', 'policy',\n",
    "                   'commercial', 'bureau', 'political', 'roanoke', 'college', 'football', 'editorial','democrat-gazette',\n",
    "                   'arizona', 'daily', 'star', '--hamburg', 'column', 'lincoln', 'managing', 'backstage', 'with', 'sports',\n",
    "                   'ii', 'iii', 'capitol', 'media', 'services']\n",
    "        first_name = ' '.join([i for i in first_name.split() if i not in keywords]) # remove other keywords\n",
    "        first_name = re.sub(r'(@)', '', first_name) # remove handles\n",
    "        first_name = first_name.split(' ')[0] # make first_name\n",
    "        first_names.append(first_name)\n",
    "        # get the most common outlet the person writes for\n",
    "        author_and_outlets.append(f\"{temp.loc[i].author} {news[news.author == temp.loc[i].author].site_name.value_counts().index[0]}\")\n",
    "        # print(temp.loc[i].author)\n",
    "        # print(news[news.author == temp.loc[i].author].site_name.value_counts())\n",
    "        # print(news[news.author == temp.loc[i].author].site_name.value_counts().index[0])\n",
    "    temp['first_name_df'] = first_names\n",
    "    temp['author_and_outlet'] = author_and_outlets\n",
    "    return temp"
   ]
  },
  {
   "cell_type": "code",
   "execution_count": 8,
   "metadata": {
    "scrolled": true
   },
   "outputs": [],
   "source": [
    "names = first_name()"
   ]
  },
  {
   "cell_type": "code",
   "execution_count": 9,
   "metadata": {},
   "outputs": [
    {
     "data": {
      "text/html": [
       "<div>\n",
       "<style scoped>\n",
       "    .dataframe tbody tr th:only-of-type {\n",
       "        vertical-align: middle;\n",
       "    }\n",
       "\n",
       "    .dataframe tbody tr th {\n",
       "        vertical-align: top;\n",
       "    }\n",
       "\n",
       "    .dataframe thead th {\n",
       "        text-align: right;\n",
       "    }\n",
       "</style>\n",
       "<table border=\"1\" class=\"dataframe\">\n",
       "  <thead>\n",
       "    <tr style=\"text-align: right;\">\n",
       "      <th></th>\n",
       "      <th>author</th>\n",
       "      <th>article_count</th>\n",
       "      <th>first_name_df</th>\n",
       "      <th>author_and_outlet</th>\n",
       "    </tr>\n",
       "  </thead>\n",
       "  <tbody>\n",
       "    <tr>\n",
       "      <th>0</th>\n",
       "      <td>Neil Shaw</td>\n",
       "      <td>523</td>\n",
       "      <td>neil</td>\n",
       "      <td>Neil Shaw WalesOnline</td>\n",
       "    </tr>\n",
       "    <tr>\n",
       "      <th>1</th>\n",
       "      <td>James Rodger</td>\n",
       "      <td>512</td>\n",
       "      <td>james</td>\n",
       "      <td>James Rodger BirminghamLive</td>\n",
       "    </tr>\n",
       "    <tr>\n",
       "      <th>2</th>\n",
       "      <td>Jack Davis</td>\n",
       "      <td>251</td>\n",
       "      <td>jack</td>\n",
       "      <td>Jack Davis The Western Journal</td>\n",
       "    </tr>\n",
       "    <tr>\n",
       "      <th>3</th>\n",
       "      <td>Adam Wells</td>\n",
       "      <td>223</td>\n",
       "      <td>adam</td>\n",
       "      <td>Adam Wells Bleacher Report</td>\n",
       "    </tr>\n",
       "    <tr>\n",
       "      <th>4</th>\n",
       "      <td>Sophie McCoid</td>\n",
       "      <td>218</td>\n",
       "      <td>sophie</td>\n",
       "      <td>Sophie McCoid Liverpool Echo</td>\n",
       "    </tr>\n",
       "    <tr>\n",
       "      <th>...</th>\n",
       "      <td>...</td>\n",
       "      <td>...</td>\n",
       "      <td>...</td>\n",
       "      <td>...</td>\n",
       "    </tr>\n",
       "    <tr>\n",
       "      <th>3833</th>\n",
       "      <td>Levi Sumagaysay</td>\n",
       "      <td>10</td>\n",
       "      <td>levi</td>\n",
       "      <td>Levi Sumagaysay MarketWatch</td>\n",
       "    </tr>\n",
       "    <tr>\n",
       "      <th>3834</th>\n",
       "      <td>Ben Ashford</td>\n",
       "      <td>10</td>\n",
       "      <td>ben</td>\n",
       "      <td>Ben Ashford Mail Online</td>\n",
       "    </tr>\n",
       "    <tr>\n",
       "      <th>3835</th>\n",
       "      <td>Craig Brown</td>\n",
       "      <td>10</td>\n",
       "      <td>craig</td>\n",
       "      <td>Craig Brown Mail Online</td>\n",
       "    </tr>\n",
       "    <tr>\n",
       "      <th>3836</th>\n",
       "      <td>Courtney Connley</td>\n",
       "      <td>10</td>\n",
       "      <td>courtney</td>\n",
       "      <td>Courtney Connley CNBC</td>\n",
       "    </tr>\n",
       "    <tr>\n",
       "      <th>3837</th>\n",
       "      <td>MATTHEW PERRONE</td>\n",
       "      <td>10</td>\n",
       "      <td>matthew</td>\n",
       "      <td>MATTHEW PERRONE mySA</td>\n",
       "    </tr>\n",
       "  </tbody>\n",
       "</table>\n",
       "<p>3838 rows × 4 columns</p>\n",
       "</div>"
      ],
      "text/plain": [
       "                author  article_count first_name_df  \\\n",
       "0            Neil Shaw            523          neil   \n",
       "1         James Rodger            512         james   \n",
       "2           Jack Davis            251          jack   \n",
       "3           Adam Wells            223          adam   \n",
       "4        Sophie McCoid            218        sophie   \n",
       "...                ...            ...           ...   \n",
       "3833   Levi Sumagaysay             10          levi   \n",
       "3834       Ben Ashford             10           ben   \n",
       "3835       Craig Brown             10         craig   \n",
       "3836  Courtney Connley             10      courtney   \n",
       "3837   MATTHEW PERRONE             10       matthew   \n",
       "\n",
       "                   author_and_outlet  \n",
       "0              Neil Shaw WalesOnline  \n",
       "1        James Rodger BirminghamLive  \n",
       "2     Jack Davis The Western Journal  \n",
       "3         Adam Wells Bleacher Report  \n",
       "4       Sophie McCoid Liverpool Echo  \n",
       "...                              ...  \n",
       "3833     Levi Sumagaysay MarketWatch  \n",
       "3834         Ben Ashford Mail Online  \n",
       "3835         Craig Brown Mail Online  \n",
       "3836           Courtney Connley CNBC  \n",
       "3837            MATTHEW PERRONE mySA  \n",
       "\n",
       "[3838 rows x 4 columns]"
      ]
     },
     "execution_count": 9,
     "metadata": {},
     "output_type": "execute_result"
    }
   ],
   "source": [
    "names"
   ]
  },
  {
   "cell_type": "code",
   "execution_count": 10,
   "metadata": {},
   "outputs": [
    {
     "data": {
      "text/html": [
       "<div>\n",
       "<style scoped>\n",
       "    .dataframe tbody tr th:only-of-type {\n",
       "        vertical-align: middle;\n",
       "    }\n",
       "\n",
       "    .dataframe tbody tr th {\n",
       "        vertical-align: top;\n",
       "    }\n",
       "\n",
       "    .dataframe thead th {\n",
       "        text-align: right;\n",
       "    }\n",
       "</style>\n",
       "<table border=\"1\" class=\"dataframe\">\n",
       "  <thead>\n",
       "    <tr style=\"text-align: right;\">\n",
       "      <th></th>\n",
       "      <th>email_address</th>\n",
       "      <th>first_name_df</th>\n",
       "      <th>second_name_df</th>\n",
       "    </tr>\n",
       "  </thead>\n",
       "  <tbody>\n",
       "    <tr>\n",
       "      <th>0</th>\n",
       "      <td>rating@mail.ru</td>\n",
       "      <td></td>\n",
       "      <td></td>\n",
       "    </tr>\n",
       "    <tr>\n",
       "      <th>1</th>\n",
       "      <td>xb3@mail.ru</td>\n",
       "      <td></td>\n",
       "      <td></td>\n",
       "    </tr>\n",
       "    <tr>\n",
       "      <th>2</th>\n",
       "      <td>info@aktiencheck.de</td>\n",
       "      <td></td>\n",
       "      <td></td>\n",
       "    </tr>\n",
       "    <tr>\n",
       "      <th>3</th>\n",
       "      <td>legals@heartmediact.com</td>\n",
       "      <td></td>\n",
       "      <td></td>\n",
       "    </tr>\n",
       "    <tr>\n",
       "      <th>4</th>\n",
       "      <td>8b4e078a51d04e0e9efdf470027f0ec1@sentry.wixpre...</td>\n",
       "      <td></td>\n",
       "      <td></td>\n",
       "    </tr>\n",
       "    <tr>\n",
       "      <th>...</th>\n",
       "      <td>...</td>\n",
       "      <td>...</td>\n",
       "      <td>...</td>\n",
       "    </tr>\n",
       "    <tr>\n",
       "      <th>2574181</th>\n",
       "      <td>hyzhenhua@mail.tzptt.zj.cn</td>\n",
       "      <td></td>\n",
       "      <td></td>\n",
       "    </tr>\n",
       "    <tr>\n",
       "      <th>2574182</th>\n",
       "      <td>hyzgkxni@gmail.com</td>\n",
       "      <td></td>\n",
       "      <td></td>\n",
       "    </tr>\n",
       "    <tr>\n",
       "      <th>2574183</th>\n",
       "      <td>hyzbhtbq@ygfqvw.com</td>\n",
       "      <td></td>\n",
       "      <td></td>\n",
       "    </tr>\n",
       "    <tr>\n",
       "      <th>2574184</th>\n",
       "      <td>hyzb@uibe.edu.cn</td>\n",
       "      <td></td>\n",
       "      <td></td>\n",
       "    </tr>\n",
       "    <tr>\n",
       "      <th>2574185</th>\n",
       "      <td>zzzzzzzzzz7732@mail.ru</td>\n",
       "      <td></td>\n",
       "      <td></td>\n",
       "    </tr>\n",
       "  </tbody>\n",
       "</table>\n",
       "<p>2574186 rows × 3 columns</p>\n",
       "</div>"
      ],
      "text/plain": [
       "                                             email_address first_name_df  \\\n",
       "0                                           rating@mail.ru                 \n",
       "1                                              xb3@mail.ru                 \n",
       "2                                      info@aktiencheck.de                 \n",
       "3                                  legals@heartmediact.com                 \n",
       "4        8b4e078a51d04e0e9efdf470027f0ec1@sentry.wixpre...                 \n",
       "...                                                    ...           ...   \n",
       "2574181                         hyzhenhua@mail.tzptt.zj.cn                 \n",
       "2574182                                 hyzgkxni@gmail.com                 \n",
       "2574183                                hyzbhtbq@ygfqvw.com                 \n",
       "2574184                                   hyzb@uibe.edu.cn                 \n",
       "2574185                             zzzzzzzzzz7732@mail.ru                 \n",
       "\n",
       "        second_name_df  \n",
       "0                       \n",
       "1                       \n",
       "2                       \n",
       "3                       \n",
       "4                       \n",
       "...                ...  \n",
       "2574181                 \n",
       "2574182                 \n",
       "2574183                 \n",
       "2574184                 \n",
       "2574185                 \n",
       "\n",
       "[2574186 rows x 3 columns]"
      ]
     },
     "execution_count": 10,
     "metadata": {},
     "output_type": "execute_result"
    }
   ],
   "source": [
    "emails"
   ]
  },
  {
   "cell_type": "code",
   "execution_count": 11,
   "metadata": {},
   "outputs": [
    {
     "name": "stdout",
     "output_type": "stream",
     "text": [
      "candidate_links: 1334518\n"
     ]
    }
   ],
   "source": [
    "indexer = recordlinkage.Index()\n",
    "indexer.block('first_name_df')\n",
    "candidate_links = indexer.index(names, emails)\n",
    "print(\"candidate_links:\", len(candidate_links))"
   ]
  },
  {
   "cell_type": "code",
   "execution_count": 12,
   "metadata": {},
   "outputs": [],
   "source": [
    "compare_cl = recordlinkage.Compare()\n",
    "compare_cl.exact('first_name_df', 'first_name_df', label='first_name_df')\n",
    "compare_cl.string('author_and_outlet', 'email_address', label = 'email')\n",
    "features = compare_cl.compute(candidate_links, names, emails)"
   ]
  },
  {
   "cell_type": "code",
   "execution_count": 13,
   "metadata": {},
   "outputs": [
    {
     "data": {
      "text/html": [
       "<div>\n",
       "<style scoped>\n",
       "    .dataframe tbody tr th:only-of-type {\n",
       "        vertical-align: middle;\n",
       "    }\n",
       "\n",
       "    .dataframe tbody tr th {\n",
       "        vertical-align: top;\n",
       "    }\n",
       "\n",
       "    .dataframe thead th {\n",
       "        text-align: right;\n",
       "    }\n",
       "</style>\n",
       "<table border=\"1\" class=\"dataframe\">\n",
       "  <thead>\n",
       "    <tr style=\"text-align: right;\">\n",
       "      <th></th>\n",
       "      <th></th>\n",
       "      <th>first_name_df</th>\n",
       "      <th>email</th>\n",
       "    </tr>\n",
       "  </thead>\n",
       "  <tbody>\n",
       "    <tr>\n",
       "      <th rowspan=\"5\" valign=\"top\">0</th>\n",
       "      <th>7751</th>\n",
       "      <td>1</td>\n",
       "      <td>0.222222</td>\n",
       "    </tr>\n",
       "    <tr>\n",
       "      <th>11897</th>\n",
       "      <td>1</td>\n",
       "      <td>0.222222</td>\n",
       "    </tr>\n",
       "    <tr>\n",
       "      <th>28036</th>\n",
       "      <td>1</td>\n",
       "      <td>0.142857</td>\n",
       "    </tr>\n",
       "    <tr>\n",
       "      <th>30146</th>\n",
       "      <td>1</td>\n",
       "      <td>0.142857</td>\n",
       "    </tr>\n",
       "    <tr>\n",
       "      <th>58595</th>\n",
       "      <td>1</td>\n",
       "      <td>0.206897</td>\n",
       "    </tr>\n",
       "    <tr>\n",
       "      <th>...</th>\n",
       "      <th>...</th>\n",
       "      <td>...</td>\n",
       "      <td>...</td>\n",
       "    </tr>\n",
       "    <tr>\n",
       "      <th rowspan=\"5\" valign=\"top\">3827</th>\n",
       "      <th>1768222</th>\n",
       "      <td>1</td>\n",
       "      <td>0.000000</td>\n",
       "    </tr>\n",
       "    <tr>\n",
       "      <th>1768223</th>\n",
       "      <td>1</td>\n",
       "      <td>0.064516</td>\n",
       "    </tr>\n",
       "    <tr>\n",
       "      <th>1768224</th>\n",
       "      <td>1</td>\n",
       "      <td>0.000000</td>\n",
       "    </tr>\n",
       "    <tr>\n",
       "      <th>1768254</th>\n",
       "      <td>1</td>\n",
       "      <td>0.074074</td>\n",
       "    </tr>\n",
       "    <tr>\n",
       "      <th>1768257</th>\n",
       "      <td>1</td>\n",
       "      <td>0.074074</td>\n",
       "    </tr>\n",
       "  </tbody>\n",
       "</table>\n",
       "<p>1334518 rows × 2 columns</p>\n",
       "</div>"
      ],
      "text/plain": [
       "              first_name_df     email\n",
       "0    7751                 1  0.222222\n",
       "     11897                1  0.222222\n",
       "     28036                1  0.142857\n",
       "     30146                1  0.142857\n",
       "     58595                1  0.206897\n",
       "...                     ...       ...\n",
       "3827 1768222              1  0.000000\n",
       "     1768223              1  0.064516\n",
       "     1768224              1  0.000000\n",
       "     1768254              1  0.074074\n",
       "     1768257              1  0.074074\n",
       "\n",
       "[1334518 rows x 2 columns]"
      ]
     },
     "execution_count": 13,
     "metadata": {},
     "output_type": "execute_result"
    }
   ],
   "source": [
    "features"
   ]
  },
  {
   "cell_type": "code",
   "execution_count": 14,
   "metadata": {},
   "outputs": [
    {
     "data": {
      "text/plain": [
       "0.846154        1\n",
       "0.838710        1\n",
       "0.818182        1\n",
       "0.814815        2\n",
       "0.809524        1\n",
       "            ...  \n",
       "0.021739        2\n",
       "0.021277        1\n",
       "0.020833        2\n",
       "0.016949        1\n",
       "0.000000    17071\n",
       "Name: email, Length: 694, dtype: int64"
      ]
     },
     "execution_count": 14,
     "metadata": {},
     "output_type": "execute_result"
    }
   ],
   "source": [
    "features['email'].value_counts().sort_index(ascending=False)"
   ]
  },
  {
   "cell_type": "code",
   "execution_count": 24,
   "metadata": {},
   "outputs": [
    {
     "data": {
      "text/plain": [
       "<matplotlib.collections.PathCollection at 0x1ac10472148>"
      ]
     },
     "execution_count": 24,
     "metadata": {},
     "output_type": "execute_result"
    },
    {
     "data": {
      "image/png": "[encoded data removed]",
      "text/plain": [
       "<Figure size 432x288 with 1 Axes>"
      ]
     },
     "metadata": {
      "needs_background": "light"
     },
     "output_type": "display_data"
    }
   ],
   "source": [
    "temp = features['email'].value_counts().sort_index(ascending=False)\n",
    "plt.scatter(list(temp.index), list(temp.values), s=10)"
   ]
  },
  {
   "cell_type": "code",
   "execution_count": 25,
   "metadata": {},
   "outputs": [],
   "source": [
    "compare_cl = recordlinkage.Compare()\n",
    "compare_cl.exact('first_name_df', 'first_name_df', label='first_name_df')\n",
    "compare_cl.string('author_and_outlet', 'email_address', label = 'email', threshold = 0.5)\n",
    "features = compare_cl.compute(candidate_links, names, emails)"
   ]
  },
  {
   "cell_type": "code",
   "execution_count": 26,
   "metadata": {},
   "outputs": [
    {
     "data": {
      "text/plain": [
       "1.0       1899\n",
       "0.0    1332619\n",
       "Name: email, dtype: int64"
      ]
     },
     "execution_count": 26,
     "metadata": {},
     "output_type": "execute_result"
    }
   ],
   "source": [
    "features['email'].value_counts().sort_index(ascending=False)"
   ]
  },
  {
   "cell_type": "code",
   "execution_count": 27,
   "metadata": {},
   "outputs": [
    {
     "data": {
      "text/plain": [
       "(author                            Scott Murray\n",
       " article_count                               13\n",
       " first_name_df                            scott\n",
       " author_and_outlet    Scott Murray the Guardian\n",
       " Name: 2876, dtype: object,\n",
       " email_address     scott.murray@theguardian.com\n",
       " first_name_df                            scott\n",
       " second_name_df                          murray\n",
       " Name: 260037, dtype: object)"
      ]
     },
     "execution_count": 27,
     "metadata": {},
     "output_type": "execute_result"
    }
   ],
   "source": [
    "names.iloc[2876], emails.iloc[260037]"
   ]
  },
  {
   "cell_type": "code",
   "execution_count": 28,
   "metadata": {},
   "outputs": [
    {
     "data": {
      "text/plain": [
       "(author                         Vinciane Ngomsi\n",
       " article_count                               14\n",
       " first_name_df                         vinciane\n",
       " author_and_outlet    Vinciane Ngomsi Heavy.com\n",
       " Name: 2820, dtype: object,\n",
       " email_address     vinciane.ngomsi@blavity.com\n",
       " first_name_df                        vinciane\n",
       " second_name_df                         ngomsi\n",
       " Name: 1064708, dtype: object)"
      ]
     },
     "execution_count": 28,
     "metadata": {},
     "output_type": "execute_result"
    }
   ],
   "source": [
    "names.iloc[2820], emails.iloc[1064708]"
   ]
  },
  {
   "cell_type": "code",
   "execution_count": 29,
   "metadata": {},
   "outputs": [
    {
     "data": {
      "text/plain": [
       "(author                           Myra Butterworth\n",
       " article_count                                  10\n",
       " first_name_df                                myra\n",
       " author_and_outlet    Myra Butterworth Mail Online\n",
       " Name: 3750, dtype: object,\n",
       " email_address     myra.butterworth@mailonline.co.uk\n",
       " first_name_df                                  myra\n",
       " second_name_df                          butterworth\n",
       " Name: 567236, dtype: object)"
      ]
     },
     "execution_count": 29,
     "metadata": {},
     "output_type": "execute_result"
    }
   ],
   "source": [
    "names.iloc[3750], emails.iloc[567236]"
   ]
  },
  {
   "cell_type": "code",
   "execution_count": 30,
   "metadata": {
    "scrolled": true
   },
   "outputs": [
    {
     "data": {
      "text/html": [
       "<div>\n",
       "<style scoped>\n",
       "    .dataframe tbody tr th:only-of-type {\n",
       "        vertical-align: middle;\n",
       "    }\n",
       "\n",
       "    .dataframe tbody tr th {\n",
       "        vertical-align: top;\n",
       "    }\n",
       "\n",
       "    .dataframe thead th {\n",
       "        text-align: right;\n",
       "    }\n",
       "</style>\n",
       "<table border=\"1\" class=\"dataframe\">\n",
       "  <thead>\n",
       "    <tr style=\"text-align: right;\">\n",
       "      <th></th>\n",
       "      <th></th>\n",
       "      <th>first_name_df</th>\n",
       "      <th>email</th>\n",
       "    </tr>\n",
       "  </thead>\n",
       "  <tbody>\n",
       "    <tr>\n",
       "      <th>1</th>\n",
       "      <th>2080352</th>\n",
       "      <td>1</td>\n",
       "      <td>1.0</td>\n",
       "    </tr>\n",
       "    <tr>\n",
       "      <th rowspan=\"2\" valign=\"top\">340</th>\n",
       "      <th>168484</th>\n",
       "      <td>1</td>\n",
       "      <td>1.0</td>\n",
       "    </tr>\n",
       "    <tr>\n",
       "      <th>417283</th>\n",
       "      <td>1</td>\n",
       "      <td>1.0</td>\n",
       "    </tr>\n",
       "    <tr>\n",
       "      <th rowspan=\"2\" valign=\"top\">600</th>\n",
       "      <th>2080294</th>\n",
       "      <td>1</td>\n",
       "      <td>1.0</td>\n",
       "    </tr>\n",
       "    <tr>\n",
       "      <th>2080416</th>\n",
       "      <td>1</td>\n",
       "      <td>1.0</td>\n",
       "    </tr>\n",
       "    <tr>\n",
       "      <th>...</th>\n",
       "      <th>...</th>\n",
       "      <td>...</td>\n",
       "      <td>...</td>\n",
       "    </tr>\n",
       "    <tr>\n",
       "      <th rowspan=\"2\" valign=\"top\">3400</th>\n",
       "      <th>162277</th>\n",
       "      <td>1</td>\n",
       "      <td>1.0</td>\n",
       "    </tr>\n",
       "    <tr>\n",
       "      <th>169186</th>\n",
       "      <td>1</td>\n",
       "      <td>1.0</td>\n",
       "    </tr>\n",
       "    <tr>\n",
       "      <th>3544</th>\n",
       "      <th>1354085</th>\n",
       "      <td>1</td>\n",
       "      <td>1.0</td>\n",
       "    </tr>\n",
       "    <tr>\n",
       "      <th>3681</th>\n",
       "      <th>997332</th>\n",
       "      <td>1</td>\n",
       "      <td>1.0</td>\n",
       "    </tr>\n",
       "    <tr>\n",
       "      <th>3750</th>\n",
       "      <th>567236</th>\n",
       "      <td>1</td>\n",
       "      <td>1.0</td>\n",
       "    </tr>\n",
       "  </tbody>\n",
       "</table>\n",
       "<p>1899 rows × 2 columns</p>\n",
       "</div>"
      ],
      "text/plain": [
       "              first_name_df  email\n",
       "1    2080352              1    1.0\n",
       "340  168484               1    1.0\n",
       "     417283               1    1.0\n",
       "600  2080294              1    1.0\n",
       "     2080416              1    1.0\n",
       "...                     ...    ...\n",
       "3400 162277               1    1.0\n",
       "     169186               1    1.0\n",
       "3544 1354085              1    1.0\n",
       "3681 997332               1    1.0\n",
       "3750 567236               1    1.0\n",
       "\n",
       "[1899 rows x 2 columns]"
      ]
     },
     "execution_count": 30,
     "metadata": {},
     "output_type": "execute_result"
    }
   ],
   "source": [
    "features[features.sum(axis=1) > 1]"
   ]
  }
 ],
 "metadata": {
  "kernelspec": {
   "display_name": "Python 3",
   "language": "python",
   "name": "python3"
  },
  "language_info": {
   "codemirror_mode": {
    "name": "ipython",
    "version": 3
   },
   "file_extension": ".py",
   "mimetype": "text/x-python",
   "name": "python",
   "nbconvert_exporter": "python",
   "pygments_lexer": "ipython3",
   "version": "3.7.4"
  }
 },
 "nbformat": 4,
 "nbformat_minor": 4
}
