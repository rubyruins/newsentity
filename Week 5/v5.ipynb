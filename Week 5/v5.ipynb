{
 "cells": [
  {
   "cell_type": "markdown",
   "metadata": {
    "heading_collapsed": true
   },
   "source": [
    "### load and preprocess"
   ]
  },
  {
   "cell_type": "code",
   "execution_count": 1,
   "metadata": {
    "hidden": true
   },
   "outputs": [],
   "source": [
    "import pickle\n",
    "import re\n",
    "import pandas as pd\n",
    "from nltk.stem.porter import PorterStemmer\n",
    "import nltk\n",
    "from nltk.corpus import stopwords\n",
    "import numpy as np\n",
    "from sklearn.model_selection import train_test_split\n",
    "from sklearn.feature_extraction.text import TfidfVectorizer\n",
    "from sklearn.preprocessing import MultiLabelBinarizer\n",
    "from sklearn import metrics\n",
    "from sklearn.naive_bayes import MultinomialNB\n",
    "from sklearn.multiclass import OneVsRestClassifier\n",
    "from sklearn.model_selection import GridSearchCV"
   ]
  },
  {
   "cell_type": "code",
   "execution_count": 2,
   "metadata": {
    "hidden": true
   },
   "outputs": [],
   "source": [
    "def preprocess(text):\n",
    "    if isinstance((text), (str)):\n",
    "        text = re.sub('<[^>]*>', ' ', text)\n",
    "        text = re.sub('[\\W]+', ' ', text.lower())\n",
    "        return text\n",
    "    if isinstance((text), (list)):\n",
    "        return_list = []\n",
    "        for i in range(len(text)):\n",
    "            temp_text = re.sub('<[^>]*>', '', text[i])\n",
    "            temp_text = re.sub('[\\W]+', '', temp_text.lower())\n",
    "            return_list.append(temp_text)\n",
    "        return(return_list)"
   ]
  },
  {
   "cell_type": "code",
   "execution_count": 3,
   "metadata": {
    "hidden": true
   },
   "outputs": [],
   "source": [
    "data = pd.read_csv(\"../Data/IAB/iab_text_tiers.csv\")\n",
    "stop = stopwords.words('english')"
   ]
  },
  {
   "cell_type": "code",
   "execution_count": 4,
   "metadata": {
    "hidden": true
   },
   "outputs": [],
   "source": [
    "data = data[data['with_bs4'].notna()]\n",
    "data = data[data['with_justext'].notna()]\n",
    "data = data[data['with_bs4'] != \"exceeded\"]\n",
    "data = data[data['with_justext'] != \"exceeded\"]\n",
    "data['with_bs4'] = data['with_bs4'].apply(preprocess)\n",
    "data['with_justext'] = data['with_justext'].apply(preprocess)"
   ]
  },
  {
   "cell_type": "code",
   "execution_count": 5,
   "metadata": {
    "hidden": true
   },
   "outputs": [],
   "source": [
    "data = data.reset_index()"
   ]
  },
  {
   "cell_type": "code",
   "execution_count": 6,
   "metadata": {
    "hidden": true,
    "scrolled": true
   },
   "outputs": [
    {
     "data": {
      "text/html": [
       "<div>\n",
       "<style scoped>\n",
       "    .dataframe tbody tr th:only-of-type {\n",
       "        vertical-align: middle;\n",
       "    }\n",
       "\n",
       "    .dataframe tbody tr th {\n",
       "        vertical-align: top;\n",
       "    }\n",
       "\n",
       "    .dataframe thead th {\n",
       "        text-align: right;\n",
       "    }\n",
       "</style>\n",
       "<table border=\"1\" class=\"dataframe\">\n",
       "  <thead>\n",
       "    <tr style=\"text-align: right;\">\n",
       "      <th></th>\n",
       "      <th>index</th>\n",
       "      <th>Unnamed: 0</th>\n",
       "      <th>Unique ID</th>\n",
       "      <th>Parent</th>\n",
       "      <th>Name</th>\n",
       "      <th>Position</th>\n",
       "      <th>URL</th>\n",
       "      <th>Title</th>\n",
       "      <th>Snippet</th>\n",
       "      <th>Tier 1</th>\n",
       "      <th>Tier 2</th>\n",
       "      <th>Tier 3</th>\n",
       "      <th>Tier 4</th>\n",
       "      <th>with_bs4</th>\n",
       "      <th>with_justext</th>\n",
       "    </tr>\n",
       "  </thead>\n",
       "  <tbody>\n",
       "    <tr>\n",
       "      <th>0</th>\n",
       "      <td>0</td>\n",
       "      <td>0</td>\n",
       "      <td>1</td>\n",
       "      <td>-</td>\n",
       "      <td>Automotive</td>\n",
       "      <td>1</td>\n",
       "      <td>https://www.merriam-webster.com/dictionary/aut...</td>\n",
       "      <td>Automotive | Definition of Automotive by …</td>\n",
       "      <td>Automotive definition is - self-propelled. How...</td>\n",
       "      <td>Automotive</td>\n",
       "      <td>-</td>\n",
       "      <td>-</td>\n",
       "      <td>-</td>\n",
       "      <td>automotive definition of automotive by merria...</td>\n",
       "      <td>these example sentences are selected automati...</td>\n",
       "    </tr>\n",
       "    <tr>\n",
       "      <th>1</th>\n",
       "      <td>2</td>\n",
       "      <td>2</td>\n",
       "      <td>1</td>\n",
       "      <td>-</td>\n",
       "      <td>Automotive</td>\n",
       "      <td>3</td>\n",
       "      <td>https://www.dictionary.com/browse/automotive</td>\n",
       "      <td>Automotive | Definition of Automotive at …</td>\n",
       "      <td>Automotive definition, pertaining to the desig...</td>\n",
       "      <td>Automotive</td>\n",
       "      <td>-</td>\n",
       "      <td>-</td>\n",
       "      <td>-</td>\n",
       "      <td>automotive definition of automotive at dictio...</td>\n",
       "      <td>general motors warned that a global semicondu...</td>\n",
       "    </tr>\n",
       "    <tr>\n",
       "      <th>2</th>\n",
       "      <td>3</td>\n",
       "      <td>3</td>\n",
       "      <td>1</td>\n",
       "      <td>-</td>\n",
       "      <td>Automotive</td>\n",
       "      <td>4</td>\n",
       "      <td>https://en.wikipedia.org/wiki/Automotive_industry</td>\n",
       "      <td>Automotive industry - Wikipedia</td>\n",
       "      <td>The automotive industry comprises a wide range...</td>\n",
       "      <td>Automotive</td>\n",
       "      <td>-</td>\n",
       "      <td>-</td>\n",
       "      <td>-</td>\n",
       "      <td>automotive industry wikipedia automotive indu...</td>\n",
       "      <td>the automotive industry began in the 1860s wi...</td>\n",
       "    </tr>\n",
       "    <tr>\n",
       "      <th>3</th>\n",
       "      <td>12</td>\n",
       "      <td>12</td>\n",
       "      <td>2</td>\n",
       "      <td>1</td>\n",
       "      <td>Auto Body Styles</td>\n",
       "      <td>3</td>\n",
       "      <td>https://www.autoevolution.com/news/2021-dacia-...</td>\n",
       "      <td>2021 Dacia Logan Reimagined With Coupe, Pickup, …</td>\n",
       "      <td>As for the Maximum Capacity Vehicle, cargo vol...</td>\n",
       "      <td>Automotive</td>\n",
       "      <td>Auto Body Styles</td>\n",
       "      <td>-</td>\n",
       "      <td>-</td>\n",
       "      <td>2021 dacia logan reimagined with coupe pickup...</td>\n",
       "      <td>2021 dacia logan reimagined with coupe pickup...</td>\n",
       "    </tr>\n",
       "    <tr>\n",
       "      <th>4</th>\n",
       "      <td>15</td>\n",
       "      <td>15</td>\n",
       "      <td>2</td>\n",
       "      <td>1</td>\n",
       "      <td>Auto Body Styles</td>\n",
       "      <td>6</td>\n",
       "      <td>https://autopartsfair.com/exterior_parts/</td>\n",
       "      <td>Auto Body Parts Store - Exterior Body Parts for …</td>\n",
       "      <td>Choose, compare &amp; buy from a wide range of aut...</td>\n",
       "      <td>Automotive</td>\n",
       "      <td>Auto Body Styles</td>\n",
       "      <td>-</td>\n",
       "      <td>-</td>\n",
       "      <td>auto body parts store exterior body parts for...</td>\n",
       "      <td>discount used auto parts store this website i...</td>\n",
       "    </tr>\n",
       "  </tbody>\n",
       "</table>\n",
       "</div>"
      ],
      "text/plain": [
       "   index  Unnamed: 0 Unique ID Parent              Name  Position  \\\n",
       "0      0           0         1      -        Automotive         1   \n",
       "1      2           2         1      -        Automotive         3   \n",
       "2      3           3         1      -        Automotive         4   \n",
       "3     12          12         2      1  Auto Body Styles         3   \n",
       "4     15          15         2      1  Auto Body Styles         6   \n",
       "\n",
       "                                                 URL  \\\n",
       "0  https://www.merriam-webster.com/dictionary/aut...   \n",
       "1       https://www.dictionary.com/browse/automotive   \n",
       "2  https://en.wikipedia.org/wiki/Automotive_industry   \n",
       "3  https://www.autoevolution.com/news/2021-dacia-...   \n",
       "4          https://autopartsfair.com/exterior_parts/   \n",
       "\n",
       "                                               Title  \\\n",
       "0         Automotive | Definition of Automotive by …   \n",
       "1         Automotive | Definition of Automotive at …   \n",
       "2                    Automotive industry - Wikipedia   \n",
       "3  2021 Dacia Logan Reimagined With Coupe, Pickup, …   \n",
       "4  Auto Body Parts Store - Exterior Body Parts for …   \n",
       "\n",
       "                                             Snippet      Tier 1  \\\n",
       "0  Automotive definition is - self-propelled. How...  Automotive   \n",
       "1  Automotive definition, pertaining to the desig...  Automotive   \n",
       "2  The automotive industry comprises a wide range...  Automotive   \n",
       "3  As for the Maximum Capacity Vehicle, cargo vol...  Automotive   \n",
       "4  Choose, compare & buy from a wide range of aut...  Automotive   \n",
       "\n",
       "             Tier 2 Tier 3 Tier 4  \\\n",
       "0                 -      -      -   \n",
       "1                 -      -      -   \n",
       "2                 -      -      -   \n",
       "3  Auto Body Styles      -      -   \n",
       "4  Auto Body Styles      -      -   \n",
       "\n",
       "                                            with_bs4  \\\n",
       "0   automotive definition of automotive by merria...   \n",
       "1   automotive definition of automotive at dictio...   \n",
       "2   automotive industry wikipedia automotive indu...   \n",
       "3   2021 dacia logan reimagined with coupe pickup...   \n",
       "4   auto body parts store exterior body parts for...   \n",
       "\n",
       "                                        with_justext  \n",
       "0   these example sentences are selected automati...  \n",
       "1   general motors warned that a global semicondu...  \n",
       "2   the automotive industry began in the 1860s wi...  \n",
       "3   2021 dacia logan reimagined with coupe pickup...  \n",
       "4   discount used auto parts store this website i...  "
      ]
     },
     "execution_count": 6,
     "metadata": {},
     "output_type": "execute_result"
    }
   ],
   "source": [
    "data.head()"
   ]
  },
  {
   "cell_type": "markdown",
   "metadata": {
    "heading_collapsed": true
   },
   "source": [
    "### using with_bs4 column + NB to train the classifier"
   ]
  },
  {
   "cell_type": "code",
   "execution_count": 7,
   "metadata": {
    "hidden": true
   },
   "outputs": [],
   "source": [
    "tfidf = TfidfVectorizer(max_df = 0.9, min_df = 5)\n",
    "text_count = tfidf.fit_transform(data['with_bs4'])\n",
    "y = np.asarray(data[data.columns[9:13]])"
   ]
  },
  {
   "cell_type": "code",
   "execution_count": 8,
   "metadata": {
    "hidden": true
   },
   "outputs": [],
   "source": [
    "mlb = MultiLabelBinarizer()\n",
    "y = mlb.fit_transform(y)\n",
    "x_train, x_test, y_train, y_test = train_test_split(text_count, y, test_size = 0.25, random_state = 5)"
   ]
  },
  {
   "cell_type": "code",
   "execution_count": 9,
   "metadata": {
    "hidden": true
   },
   "outputs": [
    {
     "data": {
      "text/plain": [
       "(<1x48659 sparse matrix of type '<class 'numpy.float64'>'\n",
       " \twith 450 stored elements in Compressed Sparse Row format>,\n",
       " array([1, 0, 0, ..., 0, 0, 0]))"
      ]
     },
     "execution_count": 9,
     "metadata": {},
     "output_type": "execute_result"
    }
   ],
   "source": [
    "x_train[0], y_train[0]"
   ]
  },
  {
   "cell_type": "code",
   "execution_count": 10,
   "metadata": {
    "hidden": true
   },
   "outputs": [
    {
     "data": {
      "text/plain": [
       "array(['-', '3-D Graphics', 'Abkhaz', ..., 'Zulu', 'eSports',\n",
       "       'the Democratic Republic of the Congo'], dtype=object)"
      ]
     },
     "execution_count": 10,
     "metadata": {},
     "output_type": "execute_result"
    }
   ],
   "source": [
    "mlb.classes_"
   ]
  },
  {
   "cell_type": "code",
   "execution_count": 11,
   "metadata": {
    "hidden": true
   },
   "outputs": [
    {
     "name": "stderr",
     "output_type": "stream",
     "text": [
      "C:\\Users\\ACER\\anaconda3\\lib\\site-packages\\sklearn\\multiclass.py:76: UserWarning: Label not 231 is present in all training examples.\n",
      "  warnings.warn(\"Label %s is present in all training examples.\" %\n",
      "C:\\Users\\ACER\\anaconda3\\lib\\site-packages\\sklearn\\multiclass.py:76: UserWarning: Label not 629 is present in all training examples.\n",
      "  warnings.warn(\"Label %s is present in all training examples.\" %\n"
     ]
    },
    {
     "data": {
      "text/plain": [
       "OneVsRestClassifier(estimator=MultinomialNB(alpha=0.1))"
      ]
     },
     "execution_count": 11,
     "metadata": {},
     "output_type": "execute_result"
    }
   ],
   "source": [
    "model = MultinomialNB(alpha = 0.1)\n",
    "model = OneVsRestClassifier(model)\n",
    "model.fit(x_train, y_train)"
   ]
  },
  {
   "cell_type": "code",
   "execution_count": 12,
   "metadata": {
    "hidden": true
   },
   "outputs": [],
   "source": [
    "y_pred = model.predict(x_test)"
   ]
  },
  {
   "cell_type": "code",
   "execution_count": 13,
   "metadata": {
    "hidden": true
   },
   "outputs": [
    {
     "name": "stdout",
     "output_type": "stream",
     "text": [
      "accuracy_score_KNN 0.005813953488372093\n",
      "recall_macro_score 0.015627826685731032\n",
      "recall_micro_score 0.32972680551798755\n",
      "recall_weighted_score 0.32972680551798755\n",
      "f1_macro_score 0.011565109282088853\n",
      "f1_micro_score 0.3880929640241961\n",
      "f1_weighted_score 0.3241680524447632\n",
      "precision_macro_score 0.13182277115711555\n",
      "precision_micro_score 0.47156673114119924\n",
      "precision_weighted_score 0.3980819385480484\n"
     ]
    }
   ],
   "source": [
    "print('accuracy_score_KNN', metrics.accuracy_score(y_pred, y_test))\n",
    "print('recall_macro_score', metrics.recall_score(y_pred, y_test, average = 'macro', zero_division = 1))\n",
    "print('recall_micro_score', metrics.recall_score(y_pred, y_test, average = 'micro', zero_division = 1))\n",
    "print('recall_weighted_score', metrics.recall_score(y_pred, y_test, average = 'weighted', zero_division = 1))\n",
    "print('f1_macro_score', metrics.f1_score(y_pred, y_test,average = 'macro', zero_division = 1))\n",
    "print('f1_micro_score', metrics.f1_score(y_pred, y_test,average = 'micro', zero_division = 1))\n",
    "print('f1_weighted_score', metrics.f1_score(y_pred, y_test,average = 'weighted', zero_division = 1))\n",
    "print('precision_macro_score', metrics.precision_score(y_pred, y_test,average = 'macro', zero_division = 1))\n",
    "print('precision_micro_score', metrics.precision_score(y_pred, y_test,average = 'micro', zero_division = 1))\n",
    "print('precision_weighted_score', metrics.precision_score(y_pred, y_test,average = 'weighted', zero_division = 1))"
   ]
  },
  {
   "cell_type": "code",
   "execution_count": 14,
   "metadata": {
    "hidden": true,
    "scrolled": true
   },
   "outputs": [
    {
     "name": "stdout",
     "output_type": "stream",
     "text": [
      "4313  10 casual style tips for men who want to look sharp skip to content restart your style main menu home blog men s style guide effortless outfits grooming about contact 10 casual style tips for guys who want to look sharp 144 comments by robert 4367shares share tweet pin annoying isn t it you want to dress better but most style advice revolves around suiting up or just around whatever s trendy this season but that s not what you re looking for you just want to make a better first impression on people you meet in everyday life you just want to look good in your clothes without looking too flashy you just want to look like a better dressed version of you and that version of you still likes to keep it casual so what you re really looking for is some casual style tips for guys who want to look sharp outside of a suit and tie well you ve come to the right place let s begin 1 stop dressing like a boy dress like a grown up many men approach their casual style from the wrong angle they aim to look youthful but if you want to look well dressed you should always aim to look mature because maturity is an attractive quality in men maturity after all is what separates the men from the boys maturity shows masculinity and commands respect and it s a quality you want people to see in you that doesn t mean you have to dress like your dad it doesn t mean you have to dress old it just means you have to avoid portraying yourself as a teenager unless you actually are a teenager just to be clear that means you want to dress like a grown up everything overly flashy like the items pictured here simply become inappropriate past certain age funny or cartoony tees are a definite no go wearing a funny tee is basically like being the guy that makes the same joke over and over and over it might be funny the first time you see the t shirt but t gets old fast also avoid anything with slogans you want to avoid looking like someone who hasn t grown up yet someone who s stuck in his past you want to stop looking like a boy and dress like a man don t worry though i ll give you some more tips on how to do so starting with 2 give up the graphic tees for a more mature look the first thing you should do to shed your boyish look is giving up your graphic tees i know you love them i once did too in fact i wore them non stop but you want to stop wearing them you have so many better options despite popular belief they don t make you look funny edgy or original in fact because every other guy is sporting a graphic tee too you ll just blend into the crowd plus people associate them with guys who refuse to grow up remember tip 1 you don t want that just look at the movies you ll never see a tough masculine action hero or a suave rom com heartthrob wearing a a graphic tee the only time you ll see a graphic tee is when the character is either a man child an actual child or a slacker case in point you don t want people to see you as a man child do you then be a man and stop wearing graphic tees instead opt for solid one color t shirts striped tees or henleys just look at these examples you see how these are an improvement right don t you agree these guys look much cooler and more masculine than the ones above these kinda of t shirts will make you stand out against an ocean of graphic tee wearing men you might also consider wearing polo shirts or casual shirts just because you re dressing casual doesn t mean you can t wear a collar and a simple white shirt looks great with a pair of dark blue jeans which i ll cover in the next section of this list t shirt suggestions asos mango express nordstrom j crew express 3 rock jeans that actually make you look good the go to casual legwear for any guy is a pair of jeans and nothing is wrong with that many men come to my site looking to move on from the t shirt and jeans look but jeans can look amazing as long as you re wearing the right pair and fyi the right pair does not look like any of these these jeans will only make you look like a clown avoid baggy jeans you want to avoid having to pull up your jeans every two seconds they should keep themselves up without a belt also they should not pool around your ankles also avoid embellishments that means no excessive distress no rips and none of that bleaching nonsense and finally this should go without saying but i have to say it anyway avoid big logos on your ass in fact no big logos anywhere on your outfit period instead keep your jeans simple go for a clean dark blue pair that fits like the ones suggested below trust me you ll look awesome you might have to try a few to find which fit works best for you if you re an athletic guy with big thighs the athletic fit might just be a dream come true for you for guys with a more average build any of the others work well personally i m partial to slim fit jeans if you re packing some weight straight fit is probably your best option jeans suggestions levi s 511 slim fit levi s 501 original fit levi s 541 athletic fit levi s 502 regular taper fit these jeans won t just look better but they re more versatile just look at these examples below and see how easily they can be dressed up and down as you see fit dark straight leg jeans look good on every guy note i have received a lot of questions on this so let me clarify i m not saying never ever wear faded jeans ever while you should definitely have a straight dark blue pair of jeans as pictured you can certainly wear jeans with a subtle bit of fading just avoid those that are overly embellished 4 change it up down below jeans are great but they all look kinda the same and they re not your only option for legwear add some variety to your wardrobe by investing in one or two pairs of chinos just look at these examples add some pants in different colors to your wardrobe and change things up all these outfits could be pulled off with jeans but each outfit looks completely different when worn with chinos which gives you a lot more variety adding just one pair to your wardrobe doubles the amount of outfits you can create add one more and you triple that number i suggest one basic pair in camel or grey and get one colored pair to change things up wearing color below the waist is something few men do so it stands out and you don t have to go for fire engine red or lime green you can go for subdued colors like burgundy or army green see some examples below chinos suggestions express gap express mango express express bonobos gap 5 class up your footwear because the ladies they notice okay you may want to sit down for this your dirty beat up sneakers will ruin an otherwise excellent outfit you ll want to replace them with something more dignified and don t think people don t notice your shoes they notice especially women i can t tell you how many compliments i get on my shoes from women and i m hardly shilling out hundreds of dollars for a single pair as some guys recommend wear a pair of brown leather shoes instead of your everyday sneakers and boom you look sharper simple looks elevated by brown leather footwear you have many options for footwear so expand your horizon beyond sneakers but if you re used to wearing sneakers al the time and want to ease your way into something else let me introduce you to the desert boot desert boots clarks clarks red wing heritage born desert boots look much nicer than sneakers but aren t as dressy as some other leather shoes they re right in between which makes them perfect for casual wear plus they re super comfortable get yourself a pair and you won t regret it they re certainly not your only option though here are a few other shoe styles that work well in casual looks other casual shoe styles brooks brothers trask allen edmonds sperry sperry rockport vionic steve madden born 6 decorate your wrists because a naked wrist is boring accessories are another good way to spruce up a dull outfit and i suggest you get in the habit of wearing a wrist accessory first why the wrist because naked wrists are boring you can wear a watch a leather bracelet or both doesn t matter what you wear but wear something on there it just gives your outfit a bit more personality you re saying i don t have to wear this but i like wearing it you go from someone who clothes himself to stay warm to someone who clothes himself with intention personally i love wearing a leather wrap bracelet with a few bead bracelets as an accent but even wearing something as simple as a watch will go a long way watches skagen seiko skagen skagen raymond weil timex bracelets urban jewelry coolla jusnova asos hamoery live allure 7 layer your clothes for more interesting outfits want to know an easy way to make a dull outfit more interesting add a layer many guys feel a bit intimidated by layering because they don t really know how to match clothes all that well but you don t have to know all that much about it it can be done with very simple clothes too imagine a guy wearing a plain grey sweater and jeans nothing wrong with that it s a fine casual outfit but still it s not that interesting now imagine him wearing a simple white shirt underneath his sweater boom instantly more interesting see it s a simple fix and hardly earth shattering but it just gives that bit more detail to the outfit that makes it more visually appealing and you don t have to stop at one additional layer you can wear two three even four layer at a time so play around check these guys out for some examples casual outfits with multiple layers 8 wear a \n"
     ]
    },
    {
     "data": {
      "text/plain": [
       "[('-', 'Style & Fashion')]"
      ]
     },
     "execution_count": 14,
     "metadata": {},
     "output_type": "execute_result"
    }
   ],
   "source": [
    "i = 4313\n",
    "s = data.iloc[i].with_bs4\n",
    "print(i, s)\n",
    "s = tfidf.transform([s])\n",
    "mlb.inverse_transform(model.predict(s))"
   ]
  },
  {
   "cell_type": "markdown",
   "metadata": {
    "heading_collapsed": true
   },
   "source": [
    "### using with_justext column  + NB to train the classifier"
   ]
  },
  {
   "cell_type": "code",
   "execution_count": 15,
   "metadata": {
    "hidden": true
   },
   "outputs": [],
   "source": [
    "tfidf = TfidfVectorizer(max_df = 0.9, min_df = 5)\n",
    "text_count = tfidf.fit_transform(data['with_justext'])\n",
    "y = np.asarray(data[data.columns[9:13]])"
   ]
  },
  {
   "cell_type": "code",
   "execution_count": 16,
   "metadata": {
    "hidden": true
   },
   "outputs": [],
   "source": [
    "mlb = MultiLabelBinarizer()\n",
    "y = mlb.fit_transform(y)\n",
    "x_train, x_test, y_train, y_test = train_test_split(text_count, y, test_size = 0.25, random_state = 5)"
   ]
  },
  {
   "cell_type": "code",
   "execution_count": 17,
   "metadata": {
    "hidden": true
   },
   "outputs": [
    {
     "data": {
      "text/plain": [
       "(<1x30955 sparse matrix of type '<class 'numpy.float64'>'\n",
       " \twith 411 stored elements in Compressed Sparse Row format>,\n",
       " array([1, 0, 0, ..., 0, 0, 0]))"
      ]
     },
     "execution_count": 17,
     "metadata": {},
     "output_type": "execute_result"
    }
   ],
   "source": [
    "x_train[0], y_train[0]"
   ]
  },
  {
   "cell_type": "code",
   "execution_count": 18,
   "metadata": {
    "hidden": true
   },
   "outputs": [
    {
     "data": {
      "text/plain": [
       "1177"
      ]
     },
     "execution_count": 18,
     "metadata": {},
     "output_type": "execute_result"
    }
   ],
   "source": [
    "len(mlb.classes_)"
   ]
  },
  {
   "cell_type": "code",
   "execution_count": 19,
   "metadata": {
    "hidden": true
   },
   "outputs": [
    {
     "name": "stderr",
     "output_type": "stream",
     "text": [
      "C:\\Users\\ACER\\anaconda3\\lib\\site-packages\\sklearn\\multiclass.py:76: UserWarning: Label not 231 is present in all training examples.\n",
      "  warnings.warn(\"Label %s is present in all training examples.\" %\n",
      "C:\\Users\\ACER\\anaconda3\\lib\\site-packages\\sklearn\\multiclass.py:76: UserWarning: Label not 629 is present in all training examples.\n",
      "  warnings.warn(\"Label %s is present in all training examples.\" %\n"
     ]
    },
    {
     "data": {
      "text/plain": [
       "OneVsRestClassifier(estimator=MultinomialNB(alpha=0.1))"
      ]
     },
     "execution_count": 19,
     "metadata": {},
     "output_type": "execute_result"
    }
   ],
   "source": [
    "model = MultinomialNB(alpha = 0.1)\n",
    "model = OneVsRestClassifier(model)\n",
    "model.fit(x_train, y_train)"
   ]
  },
  {
   "cell_type": "code",
   "execution_count": 20,
   "metadata": {
    "hidden": true
   },
   "outputs": [],
   "source": [
    "y_pred = model.predict(x_test)"
   ]
  },
  {
   "cell_type": "code",
   "execution_count": 21,
   "metadata": {
    "hidden": true
   },
   "outputs": [
    {
     "name": "stdout",
     "output_type": "stream",
     "text": [
      "accuracy_score_KNN 0.007602862254025045\n",
      "recall_macro_score 0.9943962619243805\n",
      "recall_micro_score 0.8860042482888837\n",
      "recall_weighted_score 0.8860042482888837\n",
      "f1_macro_score 0.13422977523656038\n",
      "f1_micro_score 0.6260840560373583\n",
      "f1_weighted_score 0.8604080138736665\n",
      "precision_macro_score 0.1314882021268148\n",
      "precision_micro_score 0.4840747904577692\n",
      "precision_weighted_score 0.8546483491913421\n"
     ]
    }
   ],
   "source": [
    "print('accuracy_score_KNN', metrics.accuracy_score(y_pred, y_test))\n",
    "print('recall_macro_score', metrics.recall_score(y_pred, y_test, average = 'macro', zero_division = 1))\n",
    "print('recall_micro_score', metrics.recall_score(y_pred, y_test, average = 'micro', zero_division = 1))\n",
    "print('recall_weighted_score', metrics.recall_score(y_pred, y_test, average = 'weighted', zero_division = 1))\n",
    "print('f1_macro_score', metrics.f1_score(y_pred, y_test,average = 'macro', zero_division = 1))\n",
    "print('f1_micro_score', metrics.f1_score(y_pred, y_test,average = 'micro', zero_division = 1))\n",
    "print('f1_weighted_score', metrics.f1_score(y_pred, y_test,average = 'weighted', zero_division = 1))\n",
    "print('precision_macro_score', metrics.precision_score(y_pred, y_test,average = 'macro', zero_division = 1))\n",
    "print('precision_micro_score', metrics.precision_score(y_pred, y_test,average = 'micro', zero_division = 1))\n",
    "print('precision_weighted_score', metrics.precision_score(y_pred, y_test,average = 'weighted', zero_division = 1))"
   ]
  }
 ],
 "metadata": {
  "kernelspec": {
   "display_name": "Python 3",
   "language": "python",
   "name": "python3"
  },
  "language_info": {
   "codemirror_mode": {
    "name": "ipython",
    "version": 3
   },
   "file_extension": ".py",
   "mimetype": "text/x-python",
   "name": "python",
   "nbconvert_exporter": "python",
   "pygments_lexer": "ipython3",
   "version": "3.8.5"
  },
  "notify_time": "30",
  "varInspector": {
   "cols": {
    "lenName": 16,
    "lenType": 16,
    "lenVar": 40
   },
   "kernels_config": {
    "python": {
     "delete_cmd_postfix": "",
     "delete_cmd_prefix": "del ",
     "library": "var_list.py",
     "varRefreshCmd": "print(var_dic_list())"
    },
    "r": {
     "delete_cmd_postfix": ") ",
     "delete_cmd_prefix": "rm(",
     "library": "var_list.r",
     "varRefreshCmd": "cat(var_dic_list()) "
    }
   },
   "types_to_exclude": [
    "module",
    "function",
    "builtin_function_or_method",
    "instance",
    "_Feature"
   ],
   "window_display": false
  }
 },
 "nbformat": 4,
 "nbformat_minor": 4
}
