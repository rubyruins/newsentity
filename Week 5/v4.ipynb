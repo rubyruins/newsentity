{
 "cells": [
  {
   "cell_type": "code",
   "execution_count": 1,
   "metadata": {},
   "outputs": [],
   "source": [
    "import pickle\n",
    "import re\n",
    "import pandas as pd\n",
    "from nltk.stem.porter import PorterStemmer\n",
    "import nltk\n",
    "from nltk.corpus import stopwords\n",
    "import numpy as np\n",
    "from sklearn.model_selection import train_test_split\n",
    "from sklearn.feature_extraction.text import TfidfVectorizer\n",
    "from sklearn.preprocessing import MultiLabelBinarizer\n",
    "from sklearn.neighbors import KNeighborsClassifier\n",
    "from sklearn import metrics"
   ]
  },
  {
   "cell_type": "code",
   "execution_count": 2,
   "metadata": {},
   "outputs": [],
   "source": [
    "def preprocess(text):\n",
    "    if isinstance((text), (str)):\n",
    "        text = re.sub('<[^>]*>', ' ', text)\n",
    "        text = re.sub('[\\W]+', ' ', text.lower())\n",
    "        return text\n",
    "    if isinstance((text), (list)):\n",
    "        return_list = []\n",
    "        for i in range(len(text)):\n",
    "            temp_text = re.sub('<[^>]*>', '', text[i])\n",
    "            temp_text = re.sub('[\\W]+', '', temp_text.lower())\n",
    "            return_list.append(temp_text)\n",
    "        return(return_list)"
   ]
  },
  {
   "cell_type": "code",
   "execution_count": 3,
   "metadata": {},
   "outputs": [],
   "source": [
    "data = pd.read_csv(\"../Data/IAB/iab_text_tiers.csv\")\n",
    "stop = stopwords.words('english')"
   ]
  },
  {
   "cell_type": "code",
   "execution_count": 4,
   "metadata": {},
   "outputs": [],
   "source": [
    "data = data[data['with_bs4'].notna()]\n",
    "data = data[data['with_justext'].notna()]\n",
    "data = data[data['with_bs4'] != \"exceeded\"]\n",
    "data = data[data['with_justext'] != \"exceeded\"]\n",
    "data['with_bs4'] = data['with_bs4'].apply(preprocess)\n",
    "data['with_justext'] = data['with_justext'].apply(preprocess)"
   ]
  },
  {
   "cell_type": "code",
   "execution_count": 5,
   "metadata": {},
   "outputs": [],
   "source": [
    "data = data.reset_index()"
   ]
  },
  {
   "cell_type": "code",
   "execution_count": 6,
   "metadata": {
    "scrolled": true
   },
   "outputs": [
    {
     "data": {
      "text/html": [
       "<div>\n",
       "<style scoped>\n",
       "    .dataframe tbody tr th:only-of-type {\n",
       "        vertical-align: middle;\n",
       "    }\n",
       "\n",
       "    .dataframe tbody tr th {\n",
       "        vertical-align: top;\n",
       "    }\n",
       "\n",
       "    .dataframe thead th {\n",
       "        text-align: right;\n",
       "    }\n",
       "</style>\n",
       "<table border=\"1\" class=\"dataframe\">\n",
       "  <thead>\n",
       "    <tr style=\"text-align: right;\">\n",
       "      <th></th>\n",
       "      <th>index</th>\n",
       "      <th>Unnamed: 0</th>\n",
       "      <th>Unique ID</th>\n",
       "      <th>Parent</th>\n",
       "      <th>Name</th>\n",
       "      <th>Position</th>\n",
       "      <th>URL</th>\n",
       "      <th>Title</th>\n",
       "      <th>Snippet</th>\n",
       "      <th>Tier 1</th>\n",
       "      <th>Tier 2</th>\n",
       "      <th>Tier 3</th>\n",
       "      <th>Tier 4</th>\n",
       "      <th>with_bs4</th>\n",
       "      <th>with_justext</th>\n",
       "    </tr>\n",
       "  </thead>\n",
       "  <tbody>\n",
       "    <tr>\n",
       "      <th>0</th>\n",
       "      <td>0</td>\n",
       "      <td>0</td>\n",
       "      <td>1</td>\n",
       "      <td>-</td>\n",
       "      <td>Automotive</td>\n",
       "      <td>1</td>\n",
       "      <td>https://www.merriam-webster.com/dictionary/aut...</td>\n",
       "      <td>Automotive | Definition of Automotive by …</td>\n",
       "      <td>Automotive definition is - self-propelled. How...</td>\n",
       "      <td>Automotive</td>\n",
       "      <td>-</td>\n",
       "      <td>-</td>\n",
       "      <td>-</td>\n",
       "      <td>automotive definition of automotive by merria...</td>\n",
       "      <td>these example sentences are selected automati...</td>\n",
       "    </tr>\n",
       "    <tr>\n",
       "      <th>1</th>\n",
       "      <td>2</td>\n",
       "      <td>2</td>\n",
       "      <td>1</td>\n",
       "      <td>-</td>\n",
       "      <td>Automotive</td>\n",
       "      <td>3</td>\n",
       "      <td>https://www.dictionary.com/browse/automotive</td>\n",
       "      <td>Automotive | Definition of Automotive at …</td>\n",
       "      <td>Automotive definition, pertaining to the desig...</td>\n",
       "      <td>Automotive</td>\n",
       "      <td>-</td>\n",
       "      <td>-</td>\n",
       "      <td>-</td>\n",
       "      <td>automotive definition of automotive at dictio...</td>\n",
       "      <td>general motors warned that a global semicondu...</td>\n",
       "    </tr>\n",
       "    <tr>\n",
       "      <th>2</th>\n",
       "      <td>3</td>\n",
       "      <td>3</td>\n",
       "      <td>1</td>\n",
       "      <td>-</td>\n",
       "      <td>Automotive</td>\n",
       "      <td>4</td>\n",
       "      <td>https://en.wikipedia.org/wiki/Automotive_industry</td>\n",
       "      <td>Automotive industry - Wikipedia</td>\n",
       "      <td>The automotive industry comprises a wide range...</td>\n",
       "      <td>Automotive</td>\n",
       "      <td>-</td>\n",
       "      <td>-</td>\n",
       "      <td>-</td>\n",
       "      <td>automotive industry wikipedia automotive indu...</td>\n",
       "      <td>the automotive industry began in the 1860s wi...</td>\n",
       "    </tr>\n",
       "    <tr>\n",
       "      <th>3</th>\n",
       "      <td>12</td>\n",
       "      <td>12</td>\n",
       "      <td>2</td>\n",
       "      <td>1</td>\n",
       "      <td>Auto Body Styles</td>\n",
       "      <td>3</td>\n",
       "      <td>https://www.autoevolution.com/news/2021-dacia-...</td>\n",
       "      <td>2021 Dacia Logan Reimagined With Coupe, Pickup, …</td>\n",
       "      <td>As for the Maximum Capacity Vehicle, cargo vol...</td>\n",
       "      <td>Automotive</td>\n",
       "      <td>Auto Body Styles</td>\n",
       "      <td>-</td>\n",
       "      <td>-</td>\n",
       "      <td>2021 dacia logan reimagined with coupe pickup...</td>\n",
       "      <td>2021 dacia logan reimagined with coupe pickup...</td>\n",
       "    </tr>\n",
       "    <tr>\n",
       "      <th>4</th>\n",
       "      <td>15</td>\n",
       "      <td>15</td>\n",
       "      <td>2</td>\n",
       "      <td>1</td>\n",
       "      <td>Auto Body Styles</td>\n",
       "      <td>6</td>\n",
       "      <td>https://autopartsfair.com/exterior_parts/</td>\n",
       "      <td>Auto Body Parts Store - Exterior Body Parts for …</td>\n",
       "      <td>Choose, compare &amp; buy from a wide range of aut...</td>\n",
       "      <td>Automotive</td>\n",
       "      <td>Auto Body Styles</td>\n",
       "      <td>-</td>\n",
       "      <td>-</td>\n",
       "      <td>auto body parts store exterior body parts for...</td>\n",
       "      <td>discount used auto parts store this website i...</td>\n",
       "    </tr>\n",
       "  </tbody>\n",
       "</table>\n",
       "</div>"
      ],
      "text/plain": [
       "   index  Unnamed: 0 Unique ID Parent              Name  Position  \\\n",
       "0      0           0         1      -        Automotive         1   \n",
       "1      2           2         1      -        Automotive         3   \n",
       "2      3           3         1      -        Automotive         4   \n",
       "3     12          12         2      1  Auto Body Styles         3   \n",
       "4     15          15         2      1  Auto Body Styles         6   \n",
       "\n",
       "                                                 URL  \\\n",
       "0  https://www.merriam-webster.com/dictionary/aut...   \n",
       "1       https://www.dictionary.com/browse/automotive   \n",
       "2  https://en.wikipedia.org/wiki/Automotive_industry   \n",
       "3  https://www.autoevolution.com/news/2021-dacia-...   \n",
       "4          https://autopartsfair.com/exterior_parts/   \n",
       "\n",
       "                                               Title  \\\n",
       "0         Automotive | Definition of Automotive by …   \n",
       "1         Automotive | Definition of Automotive at …   \n",
       "2                    Automotive industry - Wikipedia   \n",
       "3  2021 Dacia Logan Reimagined With Coupe, Pickup, …   \n",
       "4  Auto Body Parts Store - Exterior Body Parts for …   \n",
       "\n",
       "                                             Snippet      Tier 1  \\\n",
       "0  Automotive definition is - self-propelled. How...  Automotive   \n",
       "1  Automotive definition, pertaining to the desig...  Automotive   \n",
       "2  The automotive industry comprises a wide range...  Automotive   \n",
       "3  As for the Maximum Capacity Vehicle, cargo vol...  Automotive   \n",
       "4  Choose, compare & buy from a wide range of aut...  Automotive   \n",
       "\n",
       "             Tier 2 Tier 3 Tier 4  \\\n",
       "0                 -      -      -   \n",
       "1                 -      -      -   \n",
       "2                 -      -      -   \n",
       "3  Auto Body Styles      -      -   \n",
       "4  Auto Body Styles      -      -   \n",
       "\n",
       "                                            with_bs4  \\\n",
       "0   automotive definition of automotive by merria...   \n",
       "1   automotive definition of automotive at dictio...   \n",
       "2   automotive industry wikipedia automotive indu...   \n",
       "3   2021 dacia logan reimagined with coupe pickup...   \n",
       "4   auto body parts store exterior body parts for...   \n",
       "\n",
       "                                        with_justext  \n",
       "0   these example sentences are selected automati...  \n",
       "1   general motors warned that a global semicondu...  \n",
       "2   the automotive industry began in the 1860s wi...  \n",
       "3   2021 dacia logan reimagined with coupe pickup...  \n",
       "4   discount used auto parts store this website i...  "
      ]
     },
     "execution_count": 6,
     "metadata": {},
     "output_type": "execute_result"
    }
   ],
   "source": [
    "data.head()"
   ]
  },
  {
   "cell_type": "markdown",
   "metadata": {},
   "source": [
    "### using with_bs4 column to train the classifier"
   ]
  },
  {
   "cell_type": "code",
   "execution_count": 7,
   "metadata": {},
   "outputs": [],
   "source": [
    "tfidf = TfidfVectorizer()\n",
    "text_count = tfidf.fit_transform(data['with_bs4'])\n",
    "y = np.asarray(data[data.columns[9:13]])"
   ]
  },
  {
   "cell_type": "code",
   "execution_count": 8,
   "metadata": {},
   "outputs": [],
   "source": [
    "mlb = MultiLabelBinarizer()\n",
    "y = mlb.fit_transform(y)\n",
    "x_train, x_test, y_train, y_test = train_test_split(text_count, y, test_size = 0.25, random_state = 5)"
   ]
  },
  {
   "cell_type": "code",
   "execution_count": 9,
   "metadata": {},
   "outputs": [
    {
     "data": {
      "text/plain": [
       "1177"
      ]
     },
     "execution_count": 9,
     "metadata": {},
     "output_type": "execute_result"
    }
   ],
   "source": [
    "len(mlb.classes_)"
   ]
  },
  {
   "cell_type": "code",
   "execution_count": 10,
   "metadata": {},
   "outputs": [],
   "source": [
    "knnClf = KNeighborsClassifier()\n",
    "knnClf.fit(x_train, y_train)\n",
    "knnpred = knnClf.predict(x_test)"
   ]
  },
  {
   "cell_type": "code",
   "execution_count": 11,
   "metadata": {},
   "outputs": [
    {
     "name": "stdout",
     "output_type": "stream",
     "text": [
      "accuracy_score_KNN 0.3300536672629696\n",
      "recall_macro_score 0.9259824019645818\n",
      "recall_micro_score 0.8782608695652174\n",
      "recall_weighted_score 0.8782608695652174\n",
      "f1_macro_score 0.45082797272703645\n",
      "f1_micro_score 0.7563876651982379\n",
      "f1_weighted_score 0.8359921651500484\n",
      "precision_macro_score 0.44160518563590745\n",
      "precision_micro_score 0.6642166344294004\n",
      "precision_weighted_score 0.8260345197355742\n"
     ]
    }
   ],
   "source": [
    "print('accuracy_score_KNN', metrics.accuracy_score(knnpred, y_test))\n",
    "print('recall_macro_score', metrics.recall_score(knnpred, y_test,average = 'macro', zero_division = 1))\n",
    "print('recall_micro_score', metrics.recall_score(knnpred, y_test,average = 'micro', zero_division = 1))\n",
    "print('recall_weighted_score', metrics.recall_score(knnpred, y_test,average = 'weighted', zero_division = 1))\n",
    "print('f1_macro_score', metrics.f1_score(knnpred, y_test,average = 'macro', zero_division = 1))\n",
    "print('f1_micro_score', metrics.f1_score(knnpred, y_test,average = 'micro', zero_division = 1))\n",
    "print('f1_weighted_score', metrics.f1_score(knnpred, y_test,average = 'weighted', zero_division = 1))\n",
    "print('precision_macro_score', metrics.precision_score(knnpred, y_test,average = 'macro', zero_division = 1))\n",
    "print('precision_micro_score', metrics.precision_score(knnpred, y_test,average = 'micro', zero_division = 1))\n",
    "print('precision_weighted_score', metrics.precision_score(knnpred, y_test,average = 'weighted', zero_division = 1))"
   ]
  },
  {
   "cell_type": "markdown",
   "metadata": {},
   "source": [
    "### using with_justext column to train the classifier"
   ]
  },
  {
   "cell_type": "code",
   "execution_count": 12,
   "metadata": {},
   "outputs": [],
   "source": [
    "tfidf = TfidfVectorizer()\n",
    "text_count = tfidf.fit_transform(data['with_justext'])\n",
    "y = np.asarray(data[data.columns[9:13]])"
   ]
  },
  {
   "cell_type": "code",
   "execution_count": 13,
   "metadata": {},
   "outputs": [],
   "source": [
    "mlb = MultiLabelBinarizer()\n",
    "y = mlb.fit_transform(y)\n",
    "x_train, x_test, y_train, y_test = train_test_split(text_count, y, test_size = 0.25, random_state = 5)"
   ]
  },
  {
   "cell_type": "code",
   "execution_count": 14,
   "metadata": {},
   "outputs": [
    {
     "data": {
      "text/plain": [
       "1177"
      ]
     },
     "execution_count": 14,
     "metadata": {},
     "output_type": "execute_result"
    }
   ],
   "source": [
    "len(mlb.classes_)"
   ]
  },
  {
   "cell_type": "code",
   "execution_count": null,
   "metadata": {},
   "outputs": [],
   "source": [
    "knnClf = KNeighborsClassifier()\n",
    "knnClf.fit(x_train, y_train)\n",
    "knnpred = knnClf.predict(x_test)"
   ]
  },
  {
   "cell_type": "code",
   "execution_count": null,
   "metadata": {},
   "outputs": [],
   "source": [
    "print('accuracy_score_KNN', metrics.accuracy_score(knnpred, y_test))\n",
    "print('recall_macro_score', metrics.recall_score(knnpred, y_test,average = 'macro', zero_division = 1))\n",
    "print('recall_micro_score', metrics.recall_score(knnpred, y_test,average = 'micro', zero_division = 1))\n",
    "print('recall_weighted_score', metrics.recall_score(knnpred, y_test,average = 'weighted', zero_division = 1))\n",
    "print('f1_macro_score', metrics.f1_score(knnpred, y_test,average = 'macro', zero_division = 1))\n",
    "print('f1_micro_score', metrics.f1_score(knnpred, y_test,average = 'micro', zero_division = 1))\n",
    "print('f1_weighted_score', metrics.f1_score(knnpred, y_test,average = 'weighted', zero_division = 1))\n",
    "print('precision_macro_score', metrics.precision_score(knnpred, y_test,average = 'macro', zero_division = 1))\n",
    "print('precision_micro_score', metrics.precision_score(knnpred, y_test,average = 'micro', zero_division = 1))\n",
    "print('precision_weighted_score', metrics.precision_score(knnpred, y_test,average = 'weighted', zero_division = 1))"
   ]
  }
 ],
 "metadata": {
  "kernelspec": {
   "display_name": "Python 3",
   "language": "python",
   "name": "python3"
  },
  "language_info": {
   "codemirror_mode": {
    "name": "ipython",
    "version": 3
   },
   "file_extension": ".py",
   "mimetype": "text/x-python",
   "name": "python",
   "nbconvert_exporter": "python",
   "pygments_lexer": "ipython3",
   "version": "3.7.4"
  }
 },
 "nbformat": 4,
 "nbformat_minor": 4
}
