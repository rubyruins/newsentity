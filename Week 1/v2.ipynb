{
 "cells": [
  {
   "cell_type": "code",
   "execution_count": 1,
   "metadata": {},
   "outputs": [],
   "source": [
    "import pickle\n",
    "import pandas as pd\n",
    "import json\n",
    "from afinn import Afinn\n",
    "import plotly.express as px"
   ]
  },
  {
   "cell_type": "code",
   "execution_count": 2,
   "metadata": {},
   "outputs": [],
   "source": [
    "with open('pickled_df.pkl', 'rb') as f:\n",
    "    news = pickle.load(f)\n",
    "news = news.reset_index()\n",
    "news.pop('index')\n",
    "news = news[['author', 'site_name', 'title']]"
   ]
  },
  {
   "cell_type": "code",
   "execution_count": 3,
   "metadata": {
    "scrolled": true
   },
   "outputs": [
    {
     "data": {
      "text/html": [
       "<div>\n",
       "<style scoped>\n",
       "    .dataframe tbody tr th:only-of-type {\n",
       "        vertical-align: middle;\n",
       "    }\n",
       "\n",
       "    .dataframe tbody tr th {\n",
       "        vertical-align: top;\n",
       "    }\n",
       "\n",
       "    .dataframe thead th {\n",
       "        text-align: right;\n",
       "    }\n",
       "</style>\n",
       "<table border=\"1\" class=\"dataframe\">\n",
       "  <thead>\n",
       "    <tr style=\"text-align: right;\">\n",
       "      <th></th>\n",
       "      <th>author</th>\n",
       "      <th>site_name</th>\n",
       "      <th>title</th>\n",
       "    </tr>\n",
       "  </thead>\n",
       "  <tbody>\n",
       "    <tr>\n",
       "      <th>0</th>\n",
       "      <td>[\"Liz Josaitis, Michigan State University Exte...</td>\n",
       "      <td>The Western Journal</td>\n",
       "      <td>Health Scammers Prey on the Elderly, Here's Ho...</td>\n",
       "    </tr>\n",
       "    <tr>\n",
       "      <th>1</th>\n",
       "      <td>[\"Aja Styles\"]</td>\n",
       "      <td>Brisbane Times</td>\n",
       "      <td>'Pack Lego': Perth family caught in hard borde...</td>\n",
       "    </tr>\n",
       "    <tr>\n",
       "      <th>2</th>\n",
       "      <td>[\"Jake Johnson\"]</td>\n",
       "      <td>Truthout</td>\n",
       "      <td>Congress Passes COVID Relief With Billions in ...</td>\n",
       "    </tr>\n",
       "    <tr>\n",
       "      <th>3</th>\n",
       "      <td>[\"Christine Favocci\"]</td>\n",
       "      <td>The Western Journal</td>\n",
       "      <td>PA Man Facing Charges of Unlawful Voting After...</td>\n",
       "    </tr>\n",
       "    <tr>\n",
       "      <th>4</th>\n",
       "      <td>[\"Igor Derysh\"]</td>\n",
       "      <td>Truthout</td>\n",
       "      <td>Fox News Forced to Debunk Its Own False Voting...</td>\n",
       "    </tr>\n",
       "  </tbody>\n",
       "</table>\n",
       "</div>"
      ],
      "text/plain": [
       "                                              author            site_name  \\\n",
       "0  [\"Liz Josaitis, Michigan State University Exte...  The Western Journal   \n",
       "1                                     [\"Aja Styles\"]       Brisbane Times   \n",
       "2                                   [\"Jake Johnson\"]             Truthout   \n",
       "3                              [\"Christine Favocci\"]  The Western Journal   \n",
       "4                                    [\"Igor Derysh\"]             Truthout   \n",
       "\n",
       "                                               title  \n",
       "0  Health Scammers Prey on the Elderly, Here's Ho...  \n",
       "1  'Pack Lego': Perth family caught in hard borde...  \n",
       "2  Congress Passes COVID Relief With Billions in ...  \n",
       "3  PA Man Facing Charges of Unlawful Voting After...  \n",
       "4  Fox News Forced to Debunk Its Own False Voting...  "
      ]
     },
     "execution_count": 3,
     "metadata": {},
     "output_type": "execute_result"
    }
   ],
   "source": [
    "news.head()"
   ]
  },
  {
   "cell_type": "code",
   "execution_count": 4,
   "metadata": {},
   "outputs": [],
   "source": [
    "data = []\n",
    "def convert_type(authors, site, title):\n",
    "    try: \n",
    "        temp = [i for i in json.loads(authors) if i]\n",
    "        if len(temp) > 1: \n",
    "            for author in temp[1:]:\n",
    "                data.append([author, site, title])\n",
    "        return temp[0] if temp else None\n",
    "    except:\n",
    "        return None"
   ]
  },
  {
   "cell_type": "code",
   "execution_count": 5,
   "metadata": {},
   "outputs": [],
   "source": [
    "news['author'] = news.apply(lambda x: convert_type(x['author'], x['site_name'], x['title']), axis=1)"
   ]
  },
  {
   "cell_type": "code",
   "execution_count": 6,
   "metadata": {},
   "outputs": [
    {
     "data": {
      "text/plain": [
       "4588"
      ]
     },
     "execution_count": 6,
     "metadata": {},
     "output_type": "execute_result"
    }
   ],
   "source": [
    "len(data)"
   ]
  },
  {
   "cell_type": "code",
   "execution_count": 7,
   "metadata": {},
   "outputs": [],
   "source": [
    "news = news.append(pd.DataFrame(data, columns=['author', 'site_name', 'title']), ignore_index=True)"
   ]
  },
  {
   "cell_type": "code",
   "execution_count": 8,
   "metadata": {},
   "outputs": [
    {
     "data": {
      "text/html": [
       "<div>\n",
       "<style scoped>\n",
       "    .dataframe tbody tr th:only-of-type {\n",
       "        vertical-align: middle;\n",
       "    }\n",
       "\n",
       "    .dataframe tbody tr th {\n",
       "        vertical-align: top;\n",
       "    }\n",
       "\n",
       "    .dataframe thead th {\n",
       "        text-align: right;\n",
       "    }\n",
       "</style>\n",
       "<table border=\"1\" class=\"dataframe\">\n",
       "  <thead>\n",
       "    <tr style=\"text-align: right;\">\n",
       "      <th></th>\n",
       "      <th>author</th>\n",
       "      <th>site_name</th>\n",
       "      <th>title</th>\n",
       "    </tr>\n",
       "  </thead>\n",
       "  <tbody>\n",
       "    <tr>\n",
       "      <th>0</th>\n",
       "      <td>Liz Josaitis, Michigan State University Extension</td>\n",
       "      <td>The Western Journal</td>\n",
       "      <td>Health Scammers Prey on the Elderly, Here's Ho...</td>\n",
       "    </tr>\n",
       "    <tr>\n",
       "      <th>1</th>\n",
       "      <td>Aja Styles</td>\n",
       "      <td>Brisbane Times</td>\n",
       "      <td>'Pack Lego': Perth family caught in hard borde...</td>\n",
       "    </tr>\n",
       "    <tr>\n",
       "      <th>2</th>\n",
       "      <td>Jake Johnson</td>\n",
       "      <td>Truthout</td>\n",
       "      <td>Congress Passes COVID Relief With Billions in ...</td>\n",
       "    </tr>\n",
       "    <tr>\n",
       "      <th>3</th>\n",
       "      <td>Christine Favocci</td>\n",
       "      <td>The Western Journal</td>\n",
       "      <td>PA Man Facing Charges of Unlawful Voting After...</td>\n",
       "    </tr>\n",
       "    <tr>\n",
       "      <th>4</th>\n",
       "      <td>Igor Derysh</td>\n",
       "      <td>Truthout</td>\n",
       "      <td>Fox News Forced to Debunk Its Own False Voting...</td>\n",
       "    </tr>\n",
       "    <tr>\n",
       "      <th>...</th>\n",
       "      <td>...</td>\n",
       "      <td>...</td>\n",
       "      <td>...</td>\n",
       "    </tr>\n",
       "    <tr>\n",
       "      <th>272293</th>\n",
       "      <td>Caitlin Mahy</td>\n",
       "      <td>WalesOnline</td>\n",
       "      <td>How to teach saving and spending to kids as yo...</td>\n",
       "    </tr>\n",
       "    <tr>\n",
       "      <th>272294</th>\n",
       "      <td>Victoria Jones</td>\n",
       "      <td>WalesOnline</td>\n",
       "      <td>How to teach saving and spending to kids as yo...</td>\n",
       "    </tr>\n",
       "    <tr>\n",
       "      <th>272295</th>\n",
       "      <td>Victoria Jones</td>\n",
       "      <td>WalesOnline</td>\n",
       "      <td>Space experiment could unlock resources for mi...</td>\n",
       "    </tr>\n",
       "    <tr>\n",
       "      <th>272296</th>\n",
       "      <td>Nisha Mal</td>\n",
       "      <td>WalesOnline</td>\n",
       "      <td>Woman's home is in Tier 2 while her garden fal...</td>\n",
       "    </tr>\n",
       "    <tr>\n",
       "      <th>272297</th>\n",
       "      <td>Victoria Jones</td>\n",
       "      <td>WalesOnline</td>\n",
       "      <td>Britannia ranked the UK's worst hotel chain fo...</td>\n",
       "    </tr>\n",
       "  </tbody>\n",
       "</table>\n",
       "<p>272298 rows × 3 columns</p>\n",
       "</div>"
      ],
      "text/plain": [
       "                                                   author  \\\n",
       "0       Liz Josaitis, Michigan State University Extension   \n",
       "1                                              Aja Styles   \n",
       "2                                            Jake Johnson   \n",
       "3                                       Christine Favocci   \n",
       "4                                             Igor Derysh   \n",
       "...                                                   ...   \n",
       "272293                                       Caitlin Mahy   \n",
       "272294                                     Victoria Jones   \n",
       "272295                                     Victoria Jones   \n",
       "272296                                          Nisha Mal   \n",
       "272297                                     Victoria Jones   \n",
       "\n",
       "                  site_name                                              title  \n",
       "0       The Western Journal  Health Scammers Prey on the Elderly, Here's Ho...  \n",
       "1            Brisbane Times  'Pack Lego': Perth family caught in hard borde...  \n",
       "2                  Truthout  Congress Passes COVID Relief With Billions in ...  \n",
       "3       The Western Journal  PA Man Facing Charges of Unlawful Voting After...  \n",
       "4                  Truthout  Fox News Forced to Debunk Its Own False Voting...  \n",
       "...                     ...                                                ...  \n",
       "272293          WalesOnline  How to teach saving and spending to kids as yo...  \n",
       "272294          WalesOnline  How to teach saving and spending to kids as yo...  \n",
       "272295          WalesOnline  Space experiment could unlock resources for mi...  \n",
       "272296          WalesOnline  Woman's home is in Tier 2 while her garden fal...  \n",
       "272297          WalesOnline  Britannia ranked the UK's worst hotel chain fo...  \n",
       "\n",
       "[272298 rows x 3 columns]"
      ]
     },
     "execution_count": 8,
     "metadata": {},
     "output_type": "execute_result"
    }
   ],
   "source": [
    "news"
   ]
  },
  {
   "cell_type": "code",
   "execution_count": 9,
   "metadata": {},
   "outputs": [],
   "source": [
    "news['article_count'] = news.groupby('author')['author'].transform('count')"
   ]
  },
  {
   "cell_type": "code",
   "execution_count": 10,
   "metadata": {},
   "outputs": [
    {
     "data": {
      "text/plain": [
       "Reuters                              11983\n",
       "Reuters Staff                         7238\n",
       "Associated                            5159\n",
       "Vanguard                              3797\n",
       "ABC News                              3287\n",
       "                                     ...  \n",
       "Pedro Fonseca, Rodrigo Viga Gaier        1\n",
       "Sara Zeff Geber                          1\n",
       "Martin Fletcher                          1\n",
       "HAL CONTE, Lebanon Daily News            1\n",
       "Mike Federle                             1\n",
       "Name: author, Length: 32290, dtype: int64"
      ]
     },
     "execution_count": 10,
     "metadata": {},
     "output_type": "execute_result"
    }
   ],
   "source": [
    "news.author.value_counts()"
   ]
  },
  {
   "cell_type": "code",
   "execution_count": 11,
   "metadata": {},
   "outputs": [
    {
     "data": {
      "text/html": [
       "<div>\n",
       "<style scoped>\n",
       "    .dataframe tbody tr th:only-of-type {\n",
       "        vertical-align: middle;\n",
       "    }\n",
       "\n",
       "    .dataframe tbody tr th {\n",
       "        vertical-align: top;\n",
       "    }\n",
       "\n",
       "    .dataframe thead th {\n",
       "        text-align: right;\n",
       "    }\n",
       "</style>\n",
       "<table border=\"1\" class=\"dataframe\">\n",
       "  <thead>\n",
       "    <tr style=\"text-align: right;\">\n",
       "      <th></th>\n",
       "      <th>author</th>\n",
       "      <th>site_name</th>\n",
       "      <th>title</th>\n",
       "      <th>article_count</th>\n",
       "    </tr>\n",
       "  </thead>\n",
       "  <tbody>\n",
       "    <tr>\n",
       "      <th>3466</th>\n",
       "      <td>Victoria Jones</td>\n",
       "      <td>WalesOnline</td>\n",
       "      <td>Mum will give secondhand or homemade gifts wra...</td>\n",
       "      <td>92.0</td>\n",
       "    </tr>\n",
       "    <tr>\n",
       "      <th>11544</th>\n",
       "      <td>Victoria Jones</td>\n",
       "      <td>WalesOnline</td>\n",
       "      <td>Isolation could drive young people to extremis...</td>\n",
       "      <td>92.0</td>\n",
       "    </tr>\n",
       "    <tr>\n",
       "      <th>11548</th>\n",
       "      <td>Victoria Jones</td>\n",
       "      <td>WalesOnline</td>\n",
       "      <td>How to see Saturn and Jupiter align for first ...</td>\n",
       "      <td>92.0</td>\n",
       "    </tr>\n",
       "    <tr>\n",
       "      <th>12235</th>\n",
       "      <td>Victoria Jones</td>\n",
       "      <td>WalesOnline</td>\n",
       "      <td>Mum with incurable ovarian cancer prepares for...</td>\n",
       "      <td>92.0</td>\n",
       "    </tr>\n",
       "    <tr>\n",
       "      <th>14030</th>\n",
       "      <td>Victoria Jones</td>\n",
       "      <td>WalesOnline</td>\n",
       "      <td>The reason people get 'the fear' the morning a...</td>\n",
       "      <td>92.0</td>\n",
       "    </tr>\n",
       "    <tr>\n",
       "      <th>...</th>\n",
       "      <td>...</td>\n",
       "      <td>...</td>\n",
       "      <td>...</td>\n",
       "      <td>...</td>\n",
       "    </tr>\n",
       "    <tr>\n",
       "      <th>272113</th>\n",
       "      <td>Victoria Jones</td>\n",
       "      <td>WalesOnline</td>\n",
       "      <td>Young couple split up to spare her the pain of...</td>\n",
       "      <td>92.0</td>\n",
       "    </tr>\n",
       "    <tr>\n",
       "      <th>272146</th>\n",
       "      <td>Victoria Jones</td>\n",
       "      <td>WalesOnline</td>\n",
       "      <td>The full list of priority groups for the new C...</td>\n",
       "      <td>92.0</td>\n",
       "    </tr>\n",
       "    <tr>\n",
       "      <th>272294</th>\n",
       "      <td>Victoria Jones</td>\n",
       "      <td>WalesOnline</td>\n",
       "      <td>How to teach saving and spending to kids as yo...</td>\n",
       "      <td>92.0</td>\n",
       "    </tr>\n",
       "    <tr>\n",
       "      <th>272295</th>\n",
       "      <td>Victoria Jones</td>\n",
       "      <td>WalesOnline</td>\n",
       "      <td>Space experiment could unlock resources for mi...</td>\n",
       "      <td>92.0</td>\n",
       "    </tr>\n",
       "    <tr>\n",
       "      <th>272297</th>\n",
       "      <td>Victoria Jones</td>\n",
       "      <td>WalesOnline</td>\n",
       "      <td>Britannia ranked the UK's worst hotel chain fo...</td>\n",
       "      <td>92.0</td>\n",
       "    </tr>\n",
       "  </tbody>\n",
       "</table>\n",
       "<p>92 rows × 4 columns</p>\n",
       "</div>"
      ],
      "text/plain": [
       "                author    site_name  \\\n",
       "3466    Victoria Jones  WalesOnline   \n",
       "11544   Victoria Jones  WalesOnline   \n",
       "11548   Victoria Jones  WalesOnline   \n",
       "12235   Victoria Jones  WalesOnline   \n",
       "14030   Victoria Jones  WalesOnline   \n",
       "...                ...          ...   \n",
       "272113  Victoria Jones  WalesOnline   \n",
       "272146  Victoria Jones  WalesOnline   \n",
       "272294  Victoria Jones  WalesOnline   \n",
       "272295  Victoria Jones  WalesOnline   \n",
       "272297  Victoria Jones  WalesOnline   \n",
       "\n",
       "                                                    title  article_count  \n",
       "3466    Mum will give secondhand or homemade gifts wra...           92.0  \n",
       "11544   Isolation could drive young people to extremis...           92.0  \n",
       "11548   How to see Saturn and Jupiter align for first ...           92.0  \n",
       "12235   Mum with incurable ovarian cancer prepares for...           92.0  \n",
       "14030   The reason people get 'the fear' the morning a...           92.0  \n",
       "...                                                   ...            ...  \n",
       "272113  Young couple split up to spare her the pain of...           92.0  \n",
       "272146  The full list of priority groups for the new C...           92.0  \n",
       "272294  How to teach saving and spending to kids as yo...           92.0  \n",
       "272295  Space experiment could unlock resources for mi...           92.0  \n",
       "272297  Britannia ranked the UK's worst hotel chain fo...           92.0  \n",
       "\n",
       "[92 rows x 4 columns]"
      ]
     },
     "execution_count": 11,
     "metadata": {},
     "output_type": "execute_result"
    }
   ],
   "source": [
    "news[news.author == 'Victoria Jones']"
   ]
  },
  {
   "cell_type": "code",
   "execution_count": 12,
   "metadata": {},
   "outputs": [],
   "source": [
    "news = news[news.article_count >= 10]"
   ]
  },
  {
   "cell_type": "code",
   "execution_count": 13,
   "metadata": {},
   "outputs": [
    {
     "data": {
      "text/html": [
       "<div>\n",
       "<style scoped>\n",
       "    .dataframe tbody tr th:only-of-type {\n",
       "        vertical-align: middle;\n",
       "    }\n",
       "\n",
       "    .dataframe tbody tr th {\n",
       "        vertical-align: top;\n",
       "    }\n",
       "\n",
       "    .dataframe thead th {\n",
       "        text-align: right;\n",
       "    }\n",
       "</style>\n",
       "<table border=\"1\" class=\"dataframe\">\n",
       "  <thead>\n",
       "    <tr style=\"text-align: right;\">\n",
       "      <th></th>\n",
       "      <th>author</th>\n",
       "      <th>site_name</th>\n",
       "      <th>title</th>\n",
       "      <th>article_count</th>\n",
       "    </tr>\n",
       "  </thead>\n",
       "  <tbody>\n",
       "    <tr>\n",
       "      <th>1</th>\n",
       "      <td>Aja Styles</td>\n",
       "      <td>Brisbane Times</td>\n",
       "      <td>'Pack Lego': Perth family caught in hard borde...</td>\n",
       "      <td>14.0</td>\n",
       "    </tr>\n",
       "    <tr>\n",
       "      <th>2</th>\n",
       "      <td>Jake Johnson</td>\n",
       "      <td>Truthout</td>\n",
       "      <td>Congress Passes COVID Relief With Billions in ...</td>\n",
       "      <td>33.0</td>\n",
       "    </tr>\n",
       "    <tr>\n",
       "      <th>3</th>\n",
       "      <td>Christine Favocci</td>\n",
       "      <td>The Western Journal</td>\n",
       "      <td>PA Man Facing Charges of Unlawful Voting After...</td>\n",
       "      <td>19.0</td>\n",
       "    </tr>\n",
       "    <tr>\n",
       "      <th>8</th>\n",
       "      <td>William Rivers Pitt</td>\n",
       "      <td>Truthout</td>\n",
       "      <td>What Will Trump Attempt in His Last Days? We M...</td>\n",
       "      <td>14.0</td>\n",
       "    </tr>\n",
       "    <tr>\n",
       "      <th>9</th>\n",
       "      <td>Truthout</td>\n",
       "      <td>Truthout</td>\n",
       "      <td>Bernard J. Wolfson | Truthout</td>\n",
       "      <td>18.0</td>\n",
       "    </tr>\n",
       "    <tr>\n",
       "      <th>...</th>\n",
       "      <td>...</td>\n",
       "      <td>...</td>\n",
       "      <td>...</td>\n",
       "      <td>...</td>\n",
       "    </tr>\n",
       "    <tr>\n",
       "      <th>272292</th>\n",
       "      <td>Simon Bajkowski</td>\n",
       "      <td>Manchester Evening News</td>\n",
       "      <td>How Man City should line up vs Fulham in the P...</td>\n",
       "      <td>87.0</td>\n",
       "    </tr>\n",
       "    <tr>\n",
       "      <th>272294</th>\n",
       "      <td>Victoria Jones</td>\n",
       "      <td>WalesOnline</td>\n",
       "      <td>How to teach saving and spending to kids as yo...</td>\n",
       "      <td>92.0</td>\n",
       "    </tr>\n",
       "    <tr>\n",
       "      <th>272295</th>\n",
       "      <td>Victoria Jones</td>\n",
       "      <td>WalesOnline</td>\n",
       "      <td>Space experiment could unlock resources for mi...</td>\n",
       "      <td>92.0</td>\n",
       "    </tr>\n",
       "    <tr>\n",
       "      <th>272296</th>\n",
       "      <td>Nisha Mal</td>\n",
       "      <td>WalesOnline</td>\n",
       "      <td>Woman's home is in Tier 2 while her garden fal...</td>\n",
       "      <td>66.0</td>\n",
       "    </tr>\n",
       "    <tr>\n",
       "      <th>272297</th>\n",
       "      <td>Victoria Jones</td>\n",
       "      <td>WalesOnline</td>\n",
       "      <td>Britannia ranked the UK's worst hotel chain fo...</td>\n",
       "      <td>92.0</td>\n",
       "    </tr>\n",
       "  </tbody>\n",
       "</table>\n",
       "<p>199030 rows × 4 columns</p>\n",
       "</div>"
      ],
      "text/plain": [
       "                     author                site_name  \\\n",
       "1                Aja Styles           Brisbane Times   \n",
       "2              Jake Johnson                 Truthout   \n",
       "3         Christine Favocci      The Western Journal   \n",
       "8       William Rivers Pitt                 Truthout   \n",
       "9                  Truthout                 Truthout   \n",
       "...                     ...                      ...   \n",
       "272292      Simon Bajkowski  Manchester Evening News   \n",
       "272294       Victoria Jones              WalesOnline   \n",
       "272295       Victoria Jones              WalesOnline   \n",
       "272296            Nisha Mal              WalesOnline   \n",
       "272297       Victoria Jones              WalesOnline   \n",
       "\n",
       "                                                    title  article_count  \n",
       "1       'Pack Lego': Perth family caught in hard borde...           14.0  \n",
       "2       Congress Passes COVID Relief With Billions in ...           33.0  \n",
       "3       PA Man Facing Charges of Unlawful Voting After...           19.0  \n",
       "8       What Will Trump Attempt in His Last Days? We M...           14.0  \n",
       "9                           Bernard J. Wolfson | Truthout           18.0  \n",
       "...                                                   ...            ...  \n",
       "272292  How Man City should line up vs Fulham in the P...           87.0  \n",
       "272294  How to teach saving and spending to kids as yo...           92.0  \n",
       "272295  Space experiment could unlock resources for mi...           92.0  \n",
       "272296  Woman's home is in Tier 2 while her garden fal...           66.0  \n",
       "272297  Britannia ranked the UK's worst hotel chain fo...           92.0  \n",
       "\n",
       "[199030 rows x 4 columns]"
      ]
     },
     "execution_count": 13,
     "metadata": {},
     "output_type": "execute_result"
    }
   ],
   "source": [
    "news"
   ]
  },
  {
   "cell_type": "code",
   "execution_count": 14,
   "metadata": {},
   "outputs": [],
   "source": [
    "remove = {'', 'Reuters', 'Reuters Staff', 'Associated', 'Vanguard', 'ABC News', \n",
    "          'The Washington Times http://www.washingtontimes.com', 'BWW News Desk', 'Press Trust of India', \n",
    "          'Press Association', 'PTI', 'Capital Market', 'PA Media', 'The Korea Herald', 'SA Transcripts',\n",
    "          'Deutsche Welle (www.dw.com)', 'Associated Press', 'Afp', 'India.com News Desk', 'The Associated Press',\n",
    "          'Australian Associated', 'FE Online', 'www.ETAuto.com', 'www.ETTelecom.com', 'F_488', 'Staff Writer',\n",
    "          'India.com Sports Desk', 'www.ETEnergyworld.com', 'IANS', 'TV News Desk', 'ANI Press Release', 'AP', \n",
    "          'www.ETHealthworld.com', 'WRAL', 'India.com Entertainment Desk', 'ANI', 'HT Auto Desk', \n",
    "          'WND News Services', 'Stage Tube', 'Staff report', 'The Economist', 'AFP', 'F_300926', \n",
    "          'www.ETBrandEquity.com', 'FE Bureau', 'The Christian Science Monitor', 'Flanders News', 'BS Web Team',\n",
    "          'India.com Lifestyle Staff', 'VietNamNet News', 'India.com Lifestyle Staff', 'India.com Viral News Desk',\n",
    "          'Dailymail.com', 'The Moscow Times', 'www.ETCIO.com', 'www.ETCIO.com', 'SI Reporter', \n",
    "          'From Staff Reports','BWW', 'Entrepreneur en Español', 'Trefis Team', 'azfamily.com News Staff', \n",
    "          'From staff reports', 'Compiled by Democrat-Gazette Staff From Wire Reports', \n",
    "          'Classifieds Arizona Daily Star', '', 'Daily Express newspaper', 'www.ETRealty.com', 'Daily', 'Livemint',\n",
    "          'Kyodo', 'India.com Business Desk', 'The Editorial Board', 'F_300833', 'HNN Staff','F_126', 'F_127',\n",
    "          'India.com Education Desk', 'F_300824', 'Staff', 'doctor.ndtv.com', 'Daily News Editorial Board',\n",
    "          'Expert Panel®', 'Staff Report', 'Entrepreneur Store',  'BWW Staff', 'to the editor', 'Dawn.com', \n",
    "          'WND Staff', 'Arizona Daily Star',  'F_300832', 'TV Scoop', None, 'STLNEWS', \n",
    "          'India.com Hindi News Desk', 'news18', \"The Newspaper's Staff Reporter\", \n",
    "          'Business Standard Editorial Comment', 'Business Standard', 'THE ASSOCIATED PRESS',  'Associated Press staff',\n",
    "          'THE EDITORIAL STAFF', 'The Value Portfolio', 'Breakingviews columnists', 'StatBot | STLhighschoolSPORTS.com',\n",
    "          'Team YS', 'F_200745', 'F_300923', 'Special to The Commercial', 'Tarot Astrologers',\n",
    "          'Voice of the People', 'TNW Deals', 'Guardian community team', 'Baltimore Sun staff', 'News18',\n",
    "          'Mail', 'AP Reporters', 'Avisol Capital Partners', 'Agencies', 'News staff', 'CNBC.com staff',\n",
    "          'BroadwayWorld TV', 'The Conversation', 'F_200798', ' birminghammail.co.uk', 'ASSOCIATED PRESS',\n",
    "          'F_200805', \"The Age's View\", 'BOOX Research', 'Associated Press Staff', 'Fun Trading', 'The Gazette',\n",
    "          'American Heart Association News', 'Record Reporter', 'The Investment Doctor', 'Roadshow staff',\n",
    "          'the Times Union Editorial Board', 'Baltimore Sun Editorial Board', 'The Editors of\\xa0GQ', \n",
    "          'The Roanoke Times', 'The Spectator', 'Editorial staff', 'Individual Trader', 'Univision', None,\n",
    "          'Arkansas Democrat-Gazette', 'Mirror.co.uk', 'ASSOCIATED PRESS STAFF', 'DerWesten - derwesten.de',\n",
    "          'The New York Times', 'Wolf Report', 'The Gazette editorial board', 'Real Vision', \n",
    "          'Sun Sentinel Editorial Board', 'Voice of the Mirror', '@adwait', 'Expert Panel', 'The Buy Area Staff',\n",
    "          'Volatility Surfer', 'Special To The Arizona Daily Star', 'NFL Staff', 'CNN Staff',\n",
    "          'PJ Brown Special to the Arizona Daily Star', 'Invesco US', 'Bloomberg News', 'Quora', 'CNN Wire',\n",
    "          'IP Banking Research', 'Daile Cross', 'The Washington Post', 'Bears of Wall Street', 'Teen Vogue Staff',\n",
    "          'ICICI Securities', 'WIRED Staff', 'This Is', 'Cinemanía', 'STAFF EDITORIAL', 'StackCommerce', 'Axios',\n",
    "         'Lincoln Journal Star', 'The Sunday Times', 'IE Online', 'Bloomberg', 'Associated Press Reporter' ,'Behance',\n",
    "         'The Financial Express', 'Firstpost', '20minutos', 'Daily Herald report', 'Staff reports', 'MarketWatch',\n",
    "         'Times Staff', 'Trapping Value', 'Q.ai - Investing Reimagined', 'CNET staff', 'YEC', 'Catholic Online', \n",
    "         'Stone Fox Capital', 'PA Sport Staff', 'Entrepreneur Staff', 'Keystone-SDA/ts', 'Associated Press reporters',\n",
    "         \"The Herald's View\", 'Autoblog Staff', 'finanzen.net GmbH', 'Rolling Stone', 'AP | PTI', 'Story by Reuters',\n",
    "         'PA reporters', 'Sports Hotline', 'Pioneer Press Staff', 'PA', 'Ticked Off!', 'Gazette readers', 'ValueZen',\n",
    "         'India Knight', 'RMC SPORT', 'Truthout', 'MailOnline', 'Variety Staff', 'News Service of Florida', 'From wire reports',\n",
    "         'Elephant Analytics', 'Chowhound Staff', 'Quad 7 Capital', 'The Associated Press, Associated Press',\n",
    "         'undefined undefined', 'Orlando Sentinel Editorial Board', 'Clarín.com', 'Staff and wire reports', 'IndiaToday.in',\n",
    "         'East Kilbride News', 'Retirement Pot', 'QuandaryFX', 'Perthshire Advertiser', 'The Inquirer Editorial Board',\n",
    "         'CondÃ© Nast', 'WRITE TO LETTERS@THETIMES.CO.UK', 'Entrepreneur Middle East Staff', 'Editorial', 'WWD Staff',\n",
    "         'STATE JOURNAL WIRE SERVICES', 'Think Change India', 'Shock Exchange', 'News4Jax staff', 'CNN staff',\n",
    "         'The A.V. Club', 'Journal Star editorial board', 'Record View', 'Renaissance Capital IPO Research'}\n",
    "# atleast 10 articles"
   ]
  },
  {
   "cell_type": "code",
   "execution_count": 15,
   "metadata": {},
   "outputs": [],
   "source": [
    "for i in range(len(news)):\n",
    "    if not ''.join(filter(lambda character:ord(character) < 0x3000, news.iloc[i].author)):\n",
    "        remove.add(news.iloc[i].author)"
   ]
  },
  {
   "cell_type": "code",
   "execution_count": 17,
   "metadata": {},
   "outputs": [],
   "source": [
    "news = news[~news['author'].isin(remove)]"
   ]
  },
  {
   "cell_type": "code",
   "execution_count": 20,
   "metadata": {},
   "outputs": [
    {
     "data": {
      "text/html": [
       "<div>\n",
       "<style scoped>\n",
       "    .dataframe tbody tr th:only-of-type {\n",
       "        vertical-align: middle;\n",
       "    }\n",
       "\n",
       "    .dataframe tbody tr th {\n",
       "        vertical-align: top;\n",
       "    }\n",
       "\n",
       "    .dataframe thead th {\n",
       "        text-align: right;\n",
       "    }\n",
       "</style>\n",
       "<table border=\"1\" class=\"dataframe\">\n",
       "  <thead>\n",
       "    <tr style=\"text-align: right;\">\n",
       "      <th></th>\n",
       "      <th>author</th>\n",
       "      <th>site_name</th>\n",
       "      <th>title</th>\n",
       "      <th>article_count</th>\n",
       "    </tr>\n",
       "  </thead>\n",
       "  <tbody>\n",
       "    <tr>\n",
       "      <th>1</th>\n",
       "      <td>Aja Styles</td>\n",
       "      <td>Brisbane Times</td>\n",
       "      <td>'Pack Lego': Perth family caught in hard borde...</td>\n",
       "      <td>14.0</td>\n",
       "    </tr>\n",
       "    <tr>\n",
       "      <th>2</th>\n",
       "      <td>Jake Johnson</td>\n",
       "      <td>Truthout</td>\n",
       "      <td>Congress Passes COVID Relief With Billions in ...</td>\n",
       "      <td>33.0</td>\n",
       "    </tr>\n",
       "    <tr>\n",
       "      <th>3</th>\n",
       "      <td>Christine Favocci</td>\n",
       "      <td>The Western Journal</td>\n",
       "      <td>PA Man Facing Charges of Unlawful Voting After...</td>\n",
       "      <td>19.0</td>\n",
       "    </tr>\n",
       "    <tr>\n",
       "      <th>8</th>\n",
       "      <td>William Rivers Pitt</td>\n",
       "      <td>Truthout</td>\n",
       "      <td>What Will Trump Attempt in His Last Days? We M...</td>\n",
       "      <td>14.0</td>\n",
       "    </tr>\n",
       "    <tr>\n",
       "      <th>11</th>\n",
       "      <td>Amy Goodman</td>\n",
       "      <td>Truthout</td>\n",
       "      <td>The Insufficient COVID Stimulus Must Not Be Fo...</td>\n",
       "      <td>19.0</td>\n",
       "    </tr>\n",
       "    <tr>\n",
       "      <th>...</th>\n",
       "      <td>...</td>\n",
       "      <td>...</td>\n",
       "      <td>...</td>\n",
       "      <td>...</td>\n",
       "    </tr>\n",
       "    <tr>\n",
       "      <th>272292</th>\n",
       "      <td>Simon Bajkowski</td>\n",
       "      <td>Manchester Evening News</td>\n",
       "      <td>How Man City should line up vs Fulham in the P...</td>\n",
       "      <td>87.0</td>\n",
       "    </tr>\n",
       "    <tr>\n",
       "      <th>272294</th>\n",
       "      <td>Victoria Jones</td>\n",
       "      <td>WalesOnline</td>\n",
       "      <td>How to teach saving and spending to kids as yo...</td>\n",
       "      <td>92.0</td>\n",
       "    </tr>\n",
       "    <tr>\n",
       "      <th>272295</th>\n",
       "      <td>Victoria Jones</td>\n",
       "      <td>WalesOnline</td>\n",
       "      <td>Space experiment could unlock resources for mi...</td>\n",
       "      <td>92.0</td>\n",
       "    </tr>\n",
       "    <tr>\n",
       "      <th>272296</th>\n",
       "      <td>Nisha Mal</td>\n",
       "      <td>WalesOnline</td>\n",
       "      <td>Woman's home is in Tier 2 while her garden fal...</td>\n",
       "      <td>66.0</td>\n",
       "    </tr>\n",
       "    <tr>\n",
       "      <th>272297</th>\n",
       "      <td>Victoria Jones</td>\n",
       "      <td>WalesOnline</td>\n",
       "      <td>Britannia ranked the UK's worst hotel chain fo...</td>\n",
       "      <td>92.0</td>\n",
       "    </tr>\n",
       "  </tbody>\n",
       "</table>\n",
       "<p>121131 rows × 4 columns</p>\n",
       "</div>"
      ],
      "text/plain": [
       "                     author                site_name  \\\n",
       "1                Aja Styles           Brisbane Times   \n",
       "2              Jake Johnson                 Truthout   \n",
       "3         Christine Favocci      The Western Journal   \n",
       "8       William Rivers Pitt                 Truthout   \n",
       "11              Amy Goodman                 Truthout   \n",
       "...                     ...                      ...   \n",
       "272292      Simon Bajkowski  Manchester Evening News   \n",
       "272294       Victoria Jones              WalesOnline   \n",
       "272295       Victoria Jones              WalesOnline   \n",
       "272296            Nisha Mal              WalesOnline   \n",
       "272297       Victoria Jones              WalesOnline   \n",
       "\n",
       "                                                    title  article_count  \n",
       "1       'Pack Lego': Perth family caught in hard borde...           14.0  \n",
       "2       Congress Passes COVID Relief With Billions in ...           33.0  \n",
       "3       PA Man Facing Charges of Unlawful Voting After...           19.0  \n",
       "8       What Will Trump Attempt in His Last Days? We M...           14.0  \n",
       "11      The Insufficient COVID Stimulus Must Not Be Fo...           19.0  \n",
       "...                                                   ...            ...  \n",
       "272292  How Man City should line up vs Fulham in the P...           87.0  \n",
       "272294  How to teach saving and spending to kids as yo...           92.0  \n",
       "272295  Space experiment could unlock resources for mi...           92.0  \n",
       "272296  Woman's home is in Tier 2 while her garden fal...           66.0  \n",
       "272297  Britannia ranked the UK's worst hotel chain fo...           92.0  \n",
       "\n",
       "[121131 rows x 4 columns]"
      ]
     },
     "execution_count": 20,
     "metadata": {},
     "output_type": "execute_result"
    }
   ],
   "source": [
    "news"
   ]
  },
  {
   "cell_type": "code",
   "execution_count": 21,
   "metadata": {},
   "outputs": [],
   "source": [
    "afinn = Afinn(language='en')\n",
    "def get_title_sentiment(text):\n",
    "    return round(afinn.score(text) / len(text.split()) * 100, 2)"
   ]
  },
  {
   "cell_type": "code",
   "execution_count": 27,
   "metadata": {},
   "outputs": [
    {
     "name": "stderr",
     "output_type": "stream",
     "text": [
      "C:\\Users\\ACER\\Anaconda3\\lib\\site-packages\\ipykernel_launcher.py:1: SettingWithCopyWarning: \n",
      "A value is trying to be set on a copy of a slice from a DataFrame.\n",
      "Try using .loc[row_indexer,col_indexer] = value instead\n",
      "\n",
      "See the caveats in the documentation: https://pandas.pydata.org/pandas-docs/stable/user_guide/indexing.html#returning-a-view-versus-a-copy\n",
      "  \"\"\"Entry point for launching an IPython kernel.\n"
     ]
    }
   ],
   "source": [
    "news['title_sentiment'] = news.apply(lambda x: get_title_sentiment(x['title']), axis=1)"
   ]
  },
  {
   "cell_type": "code",
   "execution_count": 28,
   "metadata": {},
   "outputs": [
    {
     "data": {
      "text/plain": [
       "count    121131.000000\n",
       "mean         -0.787697\n",
       "std          17.202567\n",
       "min        -160.000000\n",
       "25%          -9.090000\n",
       "50%           0.000000\n",
       "75%           6.670000\n",
       "max         150.000000\n",
       "Name: title_sentiment, dtype: float64"
      ]
     },
     "execution_count": 28,
     "metadata": {},
     "output_type": "execute_result"
    }
   ],
   "source": [
    "news.title_sentiment.describe()"
   ]
  },
  {
   "cell_type": "code",
   "execution_count": 26,
   "metadata": {},
   "outputs": [
    {
     "data": {
      "text/plain": [
       " 0.00      46997\n",
       "-16.67      1525\n",
       "-20.00      1519\n",
       "-14.29      1501\n",
       " 16.67      1454\n",
       "           ...  \n",
       "-24.24         1\n",
       " 55.00         1\n",
       "-160.00        1\n",
       "-125.00        1\n",
       "-2.94          1\n",
       "Name: title_sentiment, Length: 411, dtype: int64"
      ]
     },
     "execution_count": 26,
     "metadata": {},
     "output_type": "execute_result"
    }
   ],
   "source": [
    "news.title_sentiment.value_counts()"
   ]
  },
  {
   "cell_type": "code",
   "execution_count": 31,
   "metadata": {},
   "outputs": [],
   "source": [
    "def get_top_journalists(source):\n",
    "    temp = news[news.site_name == source]\n",
    "    temp = temp.sort_values(by = ['article_count'], ascending = False)\n",
    "    temp['article_count'] = temp.groupby('author')['author'].transform('count')\n",
    "    temp = temp.author.value_counts().reset_index()\n",
    "    temp = temp.rename(columns = {\"author\": \"articles\"})\n",
    "    temp = temp.rename(columns = {\"index\": \"author\"})\n",
    "    return temp"
   ]
  },
  {
   "cell_type": "code",
   "execution_count": 35,
   "metadata": {},
   "outputs": [
    {
     "data": {
      "application/vnd.plotly.v1+json": {
       "config": {
        "plotlyServerURL": "https://plot.ly"
       },
       "data": [
        {
         "alignmentgroup": "True",
         "hovertemplate": "author=%{x}<br>articles=%{y}<extra></extra>",
         "legendgroup": "",
         "marker": {
          "color": "#636efa"
         },
         "name": "",
         "offsetgroup": "",
         "orientation": "v",
         "showlegend": false,
         "textposition": "auto",
         "type": "bar",
         "x": [
          "KEVIN FOOTE | Staff writer",
          "ROBIN FAMBROUGH | Staff writer",
          "SHELDON MICKLES | Staff writer",
          "BROOKS KUBENA | Staff writer",
          "KATIE GAGLIANO | Staff writer",
          "ADAM DAIGLE | Acadiana business editor",
          "KRISTEN MOSBRUCKER | Staff writer",
          "TIMOTHY BOONE | Staff writer",
          "SCOTT RABALAIS | Sports columnist",
          "SAM KARLIN | Staff writer",
          "CHARLES SALZER | Contributing writer",
          "WILSON ALEXANDER | Staff writer",
          "AMANDA MCELFRESH | Branded content specialist",
          "JOE GYAN JR. | Staff writer",
          "ROBIN MILLER | Staff writer",
          "DAVID J. MITCHELL | Staff writer",
          "SPENCER URQUHART | Staff writer",
          "LEA SKENE | Staff writer",
          "JUDY BERGERON | Staff writer",
          "SMILEY ANDERS | Columnist",
          "CLAIRE TAYLOR | Staff writer",
          "MARK BALLARD | Capitol Bureau editor",
          "CHARLES LUSSIER | Staff writer",
          "MEGAN WYATT | Staff writer",
          "KEN STICKNEY | Staff writer",
          "PAUL COBLER | Staff Writer",
          "JIM KLEINPETER | Contributing writer",
          "LEILA PITCHFORD | Staff writer",
          "ELLYN COUVILLION | Staff writer",
          "MIKE COPPAGE | Contributing writer",
          "BEN MYERS | Staff writer",
          "BLAKE PATERSON | Staff writer",
          "WILL SENTELL | Staff writer",
          "VIC COUVILLION | Contributing writer",
          "JEFF NOWAK | Staff writer",
          "MELINDA DESLATTE",
          "CARLIE KOLLATH WELLS | Staff writer"
         ],
         "xaxis": "x",
         "y": [
          69,
          45,
          42,
          40,
          35,
          33,
          32,
          30,
          29,
          21,
          20,
          19,
          17,
          16,
          15,
          15,
          15,
          14,
          14,
          14,
          14,
          12,
          12,
          11,
          11,
          11,
          11,
          11,
          10,
          10,
          10,
          10,
          10,
          10,
          9,
          3,
          2
         ],
         "yaxis": "y"
        }
       ],
       "layout": {
        "barmode": "relative",
        "legend": {
         "tracegroupgap": 0
        },
        "margin": {
         "t": 60
        },
        "template": {
         "data": {
          "bar": [
           {
            "error_x": {
             "color": "#2a3f5f"
            },
            "error_y": {
             "color": "#2a3f5f"
            },
            "marker": {
             "line": {
              "color": "#E5ECF6",
              "width": 0.5
             }
            },
            "type": "bar"
           }
          ],
          "barpolar": [
           {
            "marker": {
             "line": {
              "color": "#E5ECF6",
              "width": 0.5
             }
            },
            "type": "barpolar"
           }
          ],
          "carpet": [
           {
            "aaxis": {
             "endlinecolor": "#2a3f5f",
             "gridcolor": "white",
             "linecolor": "white",
             "minorgridcolor": "white",
             "startlinecolor": "#2a3f5f"
            },
            "baxis": {
             "endlinecolor": "#2a3f5f",
             "gridcolor": "white",
             "linecolor": "white",
             "minorgridcolor": "white",
             "startlinecolor": "#2a3f5f"
            },
            "type": "carpet"
           }
          ],
          "choropleth": [
           {
            "colorbar": {
             "outlinewidth": 0,
             "ticks": ""
            },
            "type": "choropleth"
           }
          ],
          "contour": [
           {
            "colorbar": {
             "outlinewidth": 0,
             "ticks": ""
            },
            "colorscale": [
             [
              0,
              "#0d0887"
             ],
             [
              0.1111111111111111,
              "#46039f"
             ],
             [
              0.2222222222222222,
              "#7201a8"
             ],
             [
              0.3333333333333333,
              "#9c179e"
             ],
             [
              0.4444444444444444,
              "#bd3786"
             ],
             [
              0.5555555555555556,
              "#d8576b"
             ],
             [
              0.6666666666666666,
              "#ed7953"
             ],
             [
              0.7777777777777778,
              "#fb9f3a"
             ],
             [
              0.8888888888888888,
              "#fdca26"
             ],
             [
              1,
              "#f0f921"
             ]
            ],
            "type": "contour"
           }
          ],
          "contourcarpet": [
           {
            "colorbar": {
             "outlinewidth": 0,
             "ticks": ""
            },
            "type": "contourcarpet"
           }
          ],
          "heatmap": [
           {
            "colorbar": {
             "outlinewidth": 0,
             "ticks": ""
            },
            "colorscale": [
             [
              0,
              "#0d0887"
             ],
             [
              0.1111111111111111,
              "#46039f"
             ],
             [
              0.2222222222222222,
              "#7201a8"
             ],
             [
              0.3333333333333333,
              "#9c179e"
             ],
             [
              0.4444444444444444,
              "#bd3786"
             ],
             [
              0.5555555555555556,
              "#d8576b"
             ],
             [
              0.6666666666666666,
              "#ed7953"
             ],
             [
              0.7777777777777778,
              "#fb9f3a"
             ],
             [
              0.8888888888888888,
              "#fdca26"
             ],
             [
              1,
              "#f0f921"
             ]
            ],
            "type": "heatmap"
           }
          ],
          "heatmapgl": [
           {
            "colorbar": {
             "outlinewidth": 0,
             "ticks": ""
            },
            "colorscale": [
             [
              0,
              "#0d0887"
             ],
             [
              0.1111111111111111,
              "#46039f"
             ],
             [
              0.2222222222222222,
              "#7201a8"
             ],
             [
              0.3333333333333333,
              "#9c179e"
             ],
             [
              0.4444444444444444,
              "#bd3786"
             ],
             [
              0.5555555555555556,
              "#d8576b"
             ],
             [
              0.6666666666666666,
              "#ed7953"
             ],
             [
              0.7777777777777778,
              "#fb9f3a"
             ],
             [
              0.8888888888888888,
              "#fdca26"
             ],
             [
              1,
              "#f0f921"
             ]
            ],
            "type": "heatmapgl"
           }
          ],
          "histogram": [
           {
            "marker": {
             "colorbar": {
              "outlinewidth": 0,
              "ticks": ""
             }
            },
            "type": "histogram"
           }
          ],
          "histogram2d": [
           {
            "colorbar": {
             "outlinewidth": 0,
             "ticks": ""
            },
            "colorscale": [
             [
              0,
              "#0d0887"
             ],
             [
              0.1111111111111111,
              "#46039f"
             ],
             [
              0.2222222222222222,
              "#7201a8"
             ],
             [
              0.3333333333333333,
              "#9c179e"
             ],
             [
              0.4444444444444444,
              "#bd3786"
             ],
             [
              0.5555555555555556,
              "#d8576b"
             ],
             [
              0.6666666666666666,
              "#ed7953"
             ],
             [
              0.7777777777777778,
              "#fb9f3a"
             ],
             [
              0.8888888888888888,
              "#fdca26"
             ],
             [
              1,
              "#f0f921"
             ]
            ],
            "type": "histogram2d"
           }
          ],
          "histogram2dcontour": [
           {
            "colorbar": {
             "outlinewidth": 0,
             "ticks": ""
            },
            "colorscale": [
             [
              0,
              "#0d0887"
             ],
             [
              0.1111111111111111,
              "#46039f"
             ],
             [
              0.2222222222222222,
              "#7201a8"
             ],
             [
              0.3333333333333333,
              "#9c179e"
             ],
             [
              0.4444444444444444,
              "#bd3786"
             ],
             [
              0.5555555555555556,
              "#d8576b"
             ],
             [
              0.6666666666666666,
              "#ed7953"
             ],
             [
              0.7777777777777778,
              "#fb9f3a"
             ],
             [
              0.8888888888888888,
              "#fdca26"
             ],
             [
              1,
              "#f0f921"
             ]
            ],
            "type": "histogram2dcontour"
           }
          ],
          "mesh3d": [
           {
            "colorbar": {
             "outlinewidth": 0,
             "ticks": ""
            },
            "type": "mesh3d"
           }
          ],
          "parcoords": [
           {
            "line": {
             "colorbar": {
              "outlinewidth": 0,
              "ticks": ""
             }
            },
            "type": "parcoords"
           }
          ],
          "pie": [
           {
            "automargin": true,
            "type": "pie"
           }
          ],
          "scatter": [
           {
            "marker": {
             "colorbar": {
              "outlinewidth": 0,
              "ticks": ""
             }
            },
            "type": "scatter"
           }
          ],
          "scatter3d": [
           {
            "line": {
             "colorbar": {
              "outlinewidth": 0,
              "ticks": ""
             }
            },
            "marker": {
             "colorbar": {
              "outlinewidth": 0,
              "ticks": ""
             }
            },
            "type": "scatter3d"
           }
          ],
          "scattercarpet": [
           {
            "marker": {
             "colorbar": {
              "outlinewidth": 0,
              "ticks": ""
             }
            },
            "type": "scattercarpet"
           }
          ],
          "scattergeo": [
           {
            "marker": {
             "colorbar": {
              "outlinewidth": 0,
              "ticks": ""
             }
            },
            "type": "scattergeo"
           }
          ],
          "scattergl": [
           {
            "marker": {
             "colorbar": {
              "outlinewidth": 0,
              "ticks": ""
             }
            },
            "type": "scattergl"
           }
          ],
          "scattermapbox": [
           {
            "marker": {
             "colorbar": {
              "outlinewidth": 0,
              "ticks": ""
             }
            },
            "type": "scattermapbox"
           }
          ],
          "scatterpolar": [
           {
            "marker": {
             "colorbar": {
              "outlinewidth": 0,
              "ticks": ""
             }
            },
            "type": "scatterpolar"
           }
          ],
          "scatterpolargl": [
           {
            "marker": {
             "colorbar": {
              "outlinewidth": 0,
              "ticks": ""
             }
            },
            "type": "scatterpolargl"
           }
          ],
          "scatterternary": [
           {
            "marker": {
             "colorbar": {
              "outlinewidth": 0,
              "ticks": ""
             }
            },
            "type": "scatterternary"
           }
          ],
          "surface": [
           {
            "colorbar": {
             "outlinewidth": 0,
             "ticks": ""
            },
            "colorscale": [
             [
              0,
              "#0d0887"
             ],
             [
              0.1111111111111111,
              "#46039f"
             ],
             [
              0.2222222222222222,
              "#7201a8"
             ],
             [
              0.3333333333333333,
              "#9c179e"
             ],
             [
              0.4444444444444444,
              "#bd3786"
             ],
             [
              0.5555555555555556,
              "#d8576b"
             ],
             [
              0.6666666666666666,
              "#ed7953"
             ],
             [
              0.7777777777777778,
              "#fb9f3a"
             ],
             [
              0.8888888888888888,
              "#fdca26"
             ],
             [
              1,
              "#f0f921"
             ]
            ],
            "type": "surface"
           }
          ],
          "table": [
           {
            "cells": {
             "fill": {
              "color": "#EBF0F8"
             },
             "line": {
              "color": "white"
             }
            },
            "header": {
             "fill": {
              "color": "#C8D4E3"
             },
             "line": {
              "color": "white"
             }
            },
            "type": "table"
           }
          ]
         },
         "layout": {
          "annotationdefaults": {
           "arrowcolor": "#2a3f5f",
           "arrowhead": 0,
           "arrowwidth": 1
          },
          "coloraxis": {
           "colorbar": {
            "outlinewidth": 0,
            "ticks": ""
           }
          },
          "colorscale": {
           "diverging": [
            [
             0,
             "#8e0152"
            ],
            [
             0.1,
             "#c51b7d"
            ],
            [
             0.2,
             "#de77ae"
            ],
            [
             0.3,
             "#f1b6da"
            ],
            [
             0.4,
             "#fde0ef"
            ],
            [
             0.5,
             "#f7f7f7"
            ],
            [
             0.6,
             "#e6f5d0"
            ],
            [
             0.7,
             "#b8e186"
            ],
            [
             0.8,
             "#7fbc41"
            ],
            [
             0.9,
             "#4d9221"
            ],
            [
             1,
             "#276419"
            ]
           ],
           "sequential": [
            [
             0,
             "#0d0887"
            ],
            [
             0.1111111111111111,
             "#46039f"
            ],
            [
             0.2222222222222222,
             "#7201a8"
            ],
            [
             0.3333333333333333,
             "#9c179e"
            ],
            [
             0.4444444444444444,
             "#bd3786"
            ],
            [
             0.5555555555555556,
             "#d8576b"
            ],
            [
             0.6666666666666666,
             "#ed7953"
            ],
            [
             0.7777777777777778,
             "#fb9f3a"
            ],
            [
             0.8888888888888888,
             "#fdca26"
            ],
            [
             1,
             "#f0f921"
            ]
           ],
           "sequentialminus": [
            [
             0,
             "#0d0887"
            ],
            [
             0.1111111111111111,
             "#46039f"
            ],
            [
             0.2222222222222222,
             "#7201a8"
            ],
            [
             0.3333333333333333,
             "#9c179e"
            ],
            [
             0.4444444444444444,
             "#bd3786"
            ],
            [
             0.5555555555555556,
             "#d8576b"
            ],
            [
             0.6666666666666666,
             "#ed7953"
            ],
            [
             0.7777777777777778,
             "#fb9f3a"
            ],
            [
             0.8888888888888888,
             "#fdca26"
            ],
            [
             1,
             "#f0f921"
            ]
           ]
          },
          "colorway": [
           "#636efa",
           "#EF553B",
           "#00cc96",
           "#ab63fa",
           "#FFA15A",
           "#19d3f3",
           "#FF6692",
           "#B6E880",
           "#FF97FF",
           "#FECB52"
          ],
          "font": {
           "color": "#2a3f5f"
          },
          "geo": {
           "bgcolor": "white",
           "lakecolor": "white",
           "landcolor": "#E5ECF6",
           "showlakes": true,
           "showland": true,
           "subunitcolor": "white"
          },
          "hoverlabel": {
           "align": "left"
          },
          "hovermode": "closest",
          "mapbox": {
           "style": "light"
          },
          "paper_bgcolor": "white",
          "plot_bgcolor": "#E5ECF6",
          "polar": {
           "angularaxis": {
            "gridcolor": "white",
            "linecolor": "white",
            "ticks": ""
           },
           "bgcolor": "#E5ECF6",
           "radialaxis": {
            "gridcolor": "white",
            "linecolor": "white",
            "ticks": ""
           }
          },
          "scene": {
           "xaxis": {
            "backgroundcolor": "#E5ECF6",
            "gridcolor": "white",
            "gridwidth": 2,
            "linecolor": "white",
            "showbackground": true,
            "ticks": "",
            "zerolinecolor": "white"
           },
           "yaxis": {
            "backgroundcolor": "#E5ECF6",
            "gridcolor": "white",
            "gridwidth": 2,
            "linecolor": "white",
            "showbackground": true,
            "ticks": "",
            "zerolinecolor": "white"
           },
           "zaxis": {
            "backgroundcolor": "#E5ECF6",
            "gridcolor": "white",
            "gridwidth": 2,
            "linecolor": "white",
            "showbackground": true,
            "ticks": "",
            "zerolinecolor": "white"
           }
          },
          "shapedefaults": {
           "line": {
            "color": "#2a3f5f"
           }
          },
          "ternary": {
           "aaxis": {
            "gridcolor": "white",
            "linecolor": "white",
            "ticks": ""
           },
           "baxis": {
            "gridcolor": "white",
            "linecolor": "white",
            "ticks": ""
           },
           "bgcolor": "#E5ECF6",
           "caxis": {
            "gridcolor": "white",
            "linecolor": "white",
            "ticks": ""
           }
          },
          "title": {
           "x": 0.05
          },
          "xaxis": {
           "automargin": true,
           "gridcolor": "white",
           "linecolor": "white",
           "ticks": "",
           "title": {
            "standoff": 15
           },
           "zerolinecolor": "white",
           "zerolinewidth": 2
          },
          "yaxis": {
           "automargin": true,
           "gridcolor": "white",
           "linecolor": "white",
           "ticks": "",
           "title": {
            "standoff": 15
           },
           "zerolinecolor": "white",
           "zerolinewidth": 2
          }
         }
        },
        "xaxis": {
         "anchor": "y",
         "domain": [
          0,
          1
         ],
         "title": {
          "text": "author"
         }
        },
        "yaxis": {
         "anchor": "x",
         "domain": [
          0,
          1
         ],
         "title": {
          "text": "articles"
         }
        }
       }
      },
      "text/html": [
       "<div>\n",
       "        \n",
       "        \n",
       "            <div id=\"09eb4cc2-e189-4385-b633-9fe08f2d4769\" class=\"plotly-graph-div\" style=\"height:525px; width:100%;\"></div>\n",
       "            <script type=\"text/javascript\">\n",
       "                require([\"plotly\"], function(Plotly) {\n",
       "                    window.PLOTLYENV=window.PLOTLYENV || {};\n",
       "                    \n",
       "                if (document.getElementById(\"09eb4cc2-e189-4385-b633-9fe08f2d4769\")) {\n",
       "                    Plotly.newPlot(\n",
       "                        '09eb4cc2-e189-4385-b633-9fe08f2d4769',\n",
       "                        [{\"alignmentgroup\": \"True\", \"hovertemplate\": \"author=%{x}<br>articles=%{y}<extra></extra>\", \"legendgroup\": \"\", \"marker\": {\"color\": \"#636efa\"}, \"name\": \"\", \"offsetgroup\": \"\", \"orientation\": \"v\", \"showlegend\": false, \"textposition\": \"auto\", \"type\": \"bar\", \"x\": [\"KEVIN FOOTE | Staff writer\", \"ROBIN FAMBROUGH | Staff writer\", \"SHELDON MICKLES | Staff writer\", \"BROOKS KUBENA | Staff writer\", \"KATIE GAGLIANO | Staff writer\", \"ADAM DAIGLE | Acadiana business editor\", \"KRISTEN MOSBRUCKER | Staff writer\", \"TIMOTHY BOONE | Staff writer\", \"SCOTT RABALAIS | Sports columnist\", \"SAM KARLIN | Staff writer\", \"CHARLES SALZER | Contributing writer\", \"WILSON ALEXANDER | Staff writer\", \"AMANDA MCELFRESH | Branded content specialist\", \"JOE GYAN JR. | Staff writer\", \"ROBIN MILLER | Staff writer\", \"DAVID J. MITCHELL | Staff writer\", \"SPENCER URQUHART | Staff writer\", \"LEA SKENE | Staff writer\", \"JUDY BERGERON | Staff writer\", \"SMILEY ANDERS | Columnist\", \"CLAIRE TAYLOR | Staff writer\", \"MARK BALLARD | Capitol Bureau editor\", \"CHARLES LUSSIER | Staff writer\", \"MEGAN WYATT | Staff writer\", \"KEN STICKNEY | Staff writer\", \"PAUL COBLER | Staff Writer\", \"JIM KLEINPETER | Contributing writer\", \"LEILA PITCHFORD | Staff writer\", \"ELLYN COUVILLION | Staff writer\", \"MIKE COPPAGE | Contributing writer\", \"BEN MYERS | Staff writer\", \"BLAKE PATERSON | Staff writer\", \"WILL SENTELL | Staff writer\", \"VIC COUVILLION | Contributing writer\", \"JEFF NOWAK | Staff writer\", \"MELINDA DESLATTE\", \"CARLIE KOLLATH WELLS | Staff writer\"], \"xaxis\": \"x\", \"y\": [69, 45, 42, 40, 35, 33, 32, 30, 29, 21, 20, 19, 17, 16, 15, 15, 15, 14, 14, 14, 14, 12, 12, 11, 11, 11, 11, 11, 10, 10, 10, 10, 10, 10, 9, 3, 2], \"yaxis\": \"y\"}],\n",
       "                        {\"barmode\": \"relative\", \"legend\": {\"tracegroupgap\": 0}, \"margin\": {\"t\": 60}, \"template\": {\"data\": {\"bar\": [{\"error_x\": {\"color\": \"#2a3f5f\"}, \"error_y\": {\"color\": \"#2a3f5f\"}, \"marker\": {\"line\": {\"color\": \"#E5ECF6\", \"width\": 0.5}}, \"type\": \"bar\"}], \"barpolar\": [{\"marker\": {\"line\": {\"color\": \"#E5ECF6\", \"width\": 0.5}}, \"type\": \"barpolar\"}], \"carpet\": [{\"aaxis\": {\"endlinecolor\": \"#2a3f5f\", \"gridcolor\": \"white\", \"linecolor\": \"white\", \"minorgridcolor\": \"white\", \"startlinecolor\": \"#2a3f5f\"}, \"baxis\": {\"endlinecolor\": \"#2a3f5f\", \"gridcolor\": \"white\", \"linecolor\": \"white\", \"minorgridcolor\": \"white\", \"startlinecolor\": \"#2a3f5f\"}, \"type\": \"carpet\"}], \"choropleth\": [{\"colorbar\": {\"outlinewidth\": 0, \"ticks\": \"\"}, \"type\": \"choropleth\"}], \"contour\": [{\"colorbar\": {\"outlinewidth\": 0, \"ticks\": \"\"}, \"colorscale\": [[0.0, \"#0d0887\"], [0.1111111111111111, \"#46039f\"], [0.2222222222222222, \"#7201a8\"], [0.3333333333333333, \"#9c179e\"], [0.4444444444444444, \"#bd3786\"], [0.5555555555555556, \"#d8576b\"], [0.6666666666666666, \"#ed7953\"], [0.7777777777777778, \"#fb9f3a\"], [0.8888888888888888, \"#fdca26\"], [1.0, \"#f0f921\"]], \"type\": \"contour\"}], \"contourcarpet\": [{\"colorbar\": {\"outlinewidth\": 0, \"ticks\": \"\"}, \"type\": \"contourcarpet\"}], \"heatmap\": [{\"colorbar\": {\"outlinewidth\": 0, \"ticks\": \"\"}, \"colorscale\": [[0.0, \"#0d0887\"], [0.1111111111111111, \"#46039f\"], [0.2222222222222222, \"#7201a8\"], [0.3333333333333333, \"#9c179e\"], [0.4444444444444444, \"#bd3786\"], [0.5555555555555556, \"#d8576b\"], [0.6666666666666666, \"#ed7953\"], [0.7777777777777778, \"#fb9f3a\"], [0.8888888888888888, \"#fdca26\"], [1.0, \"#f0f921\"]], \"type\": \"heatmap\"}], \"heatmapgl\": [{\"colorbar\": {\"outlinewidth\": 0, \"ticks\": \"\"}, \"colorscale\": [[0.0, \"#0d0887\"], [0.1111111111111111, \"#46039f\"], [0.2222222222222222, \"#7201a8\"], [0.3333333333333333, \"#9c179e\"], [0.4444444444444444, \"#bd3786\"], [0.5555555555555556, \"#d8576b\"], [0.6666666666666666, \"#ed7953\"], [0.7777777777777778, \"#fb9f3a\"], [0.8888888888888888, \"#fdca26\"], [1.0, \"#f0f921\"]], \"type\": \"heatmapgl\"}], \"histogram\": [{\"marker\": {\"colorbar\": {\"outlinewidth\": 0, \"ticks\": \"\"}}, \"type\": \"histogram\"}], \"histogram2d\": [{\"colorbar\": {\"outlinewidth\": 0, \"ticks\": \"\"}, \"colorscale\": [[0.0, \"#0d0887\"], [0.1111111111111111, \"#46039f\"], [0.2222222222222222, \"#7201a8\"], [0.3333333333333333, \"#9c179e\"], [0.4444444444444444, \"#bd3786\"], [0.5555555555555556, \"#d8576b\"], [0.6666666666666666, \"#ed7953\"], [0.7777777777777778, \"#fb9f3a\"], [0.8888888888888888, \"#fdca26\"], [1.0, \"#f0f921\"]], \"type\": \"histogram2d\"}], \"histogram2dcontour\": [{\"colorbar\": {\"outlinewidth\": 0, \"ticks\": \"\"}, \"colorscale\": [[0.0, \"#0d0887\"], [0.1111111111111111, \"#46039f\"], [0.2222222222222222, \"#7201a8\"], [0.3333333333333333, \"#9c179e\"], [0.4444444444444444, \"#bd3786\"], [0.5555555555555556, \"#d8576b\"], [0.6666666666666666, \"#ed7953\"], [0.7777777777777778, \"#fb9f3a\"], [0.8888888888888888, \"#fdca26\"], [1.0, \"#f0f921\"]], \"type\": \"histogram2dcontour\"}], \"mesh3d\": [{\"colorbar\": {\"outlinewidth\": 0, \"ticks\": \"\"}, \"type\": \"mesh3d\"}], \"parcoords\": [{\"line\": {\"colorbar\": {\"outlinewidth\": 0, \"ticks\": \"\"}}, \"type\": \"parcoords\"}], \"pie\": [{\"automargin\": true, \"type\": \"pie\"}], \"scatter\": [{\"marker\": {\"colorbar\": {\"outlinewidth\": 0, \"ticks\": \"\"}}, \"type\": \"scatter\"}], \"scatter3d\": [{\"line\": {\"colorbar\": {\"outlinewidth\": 0, \"ticks\": \"\"}}, \"marker\": {\"colorbar\": {\"outlinewidth\": 0, \"ticks\": \"\"}}, \"type\": \"scatter3d\"}], \"scattercarpet\": [{\"marker\": {\"colorbar\": {\"outlinewidth\": 0, \"ticks\": \"\"}}, \"type\": \"scattercarpet\"}], \"scattergeo\": [{\"marker\": {\"colorbar\": {\"outlinewidth\": 0, \"ticks\": \"\"}}, \"type\": \"scattergeo\"}], \"scattergl\": [{\"marker\": {\"colorbar\": {\"outlinewidth\": 0, \"ticks\": \"\"}}, \"type\": \"scattergl\"}], \"scattermapbox\": [{\"marker\": {\"colorbar\": {\"outlinewidth\": 0, \"ticks\": \"\"}}, \"type\": \"scattermapbox\"}], \"scatterpolar\": [{\"marker\": {\"colorbar\": {\"outlinewidth\": 0, \"ticks\": \"\"}}, \"type\": \"scatterpolar\"}], \"scatterpolargl\": [{\"marker\": {\"colorbar\": {\"outlinewidth\": 0, \"ticks\": \"\"}}, \"type\": \"scatterpolargl\"}], \"scatterternary\": [{\"marker\": {\"colorbar\": {\"outlinewidth\": 0, \"ticks\": \"\"}}, \"type\": \"scatterternary\"}], \"surface\": [{\"colorbar\": {\"outlinewidth\": 0, \"ticks\": \"\"}, \"colorscale\": [[0.0, \"#0d0887\"], [0.1111111111111111, \"#46039f\"], [0.2222222222222222, \"#7201a8\"], [0.3333333333333333, \"#9c179e\"], [0.4444444444444444, \"#bd3786\"], [0.5555555555555556, \"#d8576b\"], [0.6666666666666666, \"#ed7953\"], [0.7777777777777778, \"#fb9f3a\"], [0.8888888888888888, \"#fdca26\"], [1.0, \"#f0f921\"]], \"type\": \"surface\"}], \"table\": [{\"cells\": {\"fill\": {\"color\": \"#EBF0F8\"}, \"line\": {\"color\": \"white\"}}, \"header\": {\"fill\": {\"color\": \"#C8D4E3\"}, \"line\": {\"color\": \"white\"}}, \"type\": \"table\"}]}, \"layout\": {\"annotationdefaults\": {\"arrowcolor\": \"#2a3f5f\", \"arrowhead\": 0, \"arrowwidth\": 1}, \"coloraxis\": {\"colorbar\": {\"outlinewidth\": 0, \"ticks\": \"\"}}, \"colorscale\": {\"diverging\": [[0, \"#8e0152\"], [0.1, \"#c51b7d\"], [0.2, \"#de77ae\"], [0.3, \"#f1b6da\"], [0.4, \"#fde0ef\"], [0.5, \"#f7f7f7\"], [0.6, \"#e6f5d0\"], [0.7, \"#b8e186\"], [0.8, \"#7fbc41\"], [0.9, \"#4d9221\"], [1, \"#276419\"]], \"sequential\": [[0.0, \"#0d0887\"], [0.1111111111111111, \"#46039f\"], [0.2222222222222222, \"#7201a8\"], [0.3333333333333333, \"#9c179e\"], [0.4444444444444444, \"#bd3786\"], [0.5555555555555556, \"#d8576b\"], [0.6666666666666666, \"#ed7953\"], [0.7777777777777778, \"#fb9f3a\"], [0.8888888888888888, \"#fdca26\"], [1.0, \"#f0f921\"]], \"sequentialminus\": [[0.0, \"#0d0887\"], [0.1111111111111111, \"#46039f\"], [0.2222222222222222, \"#7201a8\"], [0.3333333333333333, \"#9c179e\"], [0.4444444444444444, \"#bd3786\"], [0.5555555555555556, \"#d8576b\"], [0.6666666666666666, \"#ed7953\"], [0.7777777777777778, \"#fb9f3a\"], [0.8888888888888888, \"#fdca26\"], [1.0, \"#f0f921\"]]}, \"colorway\": [\"#636efa\", \"#EF553B\", \"#00cc96\", \"#ab63fa\", \"#FFA15A\", \"#19d3f3\", \"#FF6692\", \"#B6E880\", \"#FF97FF\", \"#FECB52\"], \"font\": {\"color\": \"#2a3f5f\"}, \"geo\": {\"bgcolor\": \"white\", \"lakecolor\": \"white\", \"landcolor\": \"#E5ECF6\", \"showlakes\": true, \"showland\": true, \"subunitcolor\": \"white\"}, \"hoverlabel\": {\"align\": \"left\"}, \"hovermode\": \"closest\", \"mapbox\": {\"style\": \"light\"}, \"paper_bgcolor\": \"white\", \"plot_bgcolor\": \"#E5ECF6\", \"polar\": {\"angularaxis\": {\"gridcolor\": \"white\", \"linecolor\": \"white\", \"ticks\": \"\"}, \"bgcolor\": \"#E5ECF6\", \"radialaxis\": {\"gridcolor\": \"white\", \"linecolor\": \"white\", \"ticks\": \"\"}}, \"scene\": {\"xaxis\": {\"backgroundcolor\": \"#E5ECF6\", \"gridcolor\": \"white\", \"gridwidth\": 2, \"linecolor\": \"white\", \"showbackground\": true, \"ticks\": \"\", \"zerolinecolor\": \"white\"}, \"yaxis\": {\"backgroundcolor\": \"#E5ECF6\", \"gridcolor\": \"white\", \"gridwidth\": 2, \"linecolor\": \"white\", \"showbackground\": true, \"ticks\": \"\", \"zerolinecolor\": \"white\"}, \"zaxis\": {\"backgroundcolor\": \"#E5ECF6\", \"gridcolor\": \"white\", \"gridwidth\": 2, \"linecolor\": \"white\", \"showbackground\": true, \"ticks\": \"\", \"zerolinecolor\": \"white\"}}, \"shapedefaults\": {\"line\": {\"color\": \"#2a3f5f\"}}, \"ternary\": {\"aaxis\": {\"gridcolor\": \"white\", \"linecolor\": \"white\", \"ticks\": \"\"}, \"baxis\": {\"gridcolor\": \"white\", \"linecolor\": \"white\", \"ticks\": \"\"}, \"bgcolor\": \"#E5ECF6\", \"caxis\": {\"gridcolor\": \"white\", \"linecolor\": \"white\", \"ticks\": \"\"}}, \"title\": {\"x\": 0.05}, \"xaxis\": {\"automargin\": true, \"gridcolor\": \"white\", \"linecolor\": \"white\", \"ticks\": \"\", \"title\": {\"standoff\": 15}, \"zerolinecolor\": \"white\", \"zerolinewidth\": 2}, \"yaxis\": {\"automargin\": true, \"gridcolor\": \"white\", \"linecolor\": \"white\", \"ticks\": \"\", \"title\": {\"standoff\": 15}, \"zerolinecolor\": \"white\", \"zerolinewidth\": 2}}}, \"xaxis\": {\"anchor\": \"y\", \"domain\": [0.0, 1.0], \"title\": {\"text\": \"author\"}}, \"yaxis\": {\"anchor\": \"x\", \"domain\": [0.0, 1.0], \"title\": {\"text\": \"articles\"}}},\n",
       "                        {\"responsive\": true}\n",
       "                    ).then(function(){\n",
       "                            \n",
       "var gd = document.getElementById('09eb4cc2-e189-4385-b633-9fe08f2d4769');\n",
       "var x = new MutationObserver(function (mutations, observer) {{\n",
       "        var display = window.getComputedStyle(gd).display;\n",
       "        if (!display || display === 'none') {{\n",
       "            console.log([gd, 'removed!']);\n",
       "            Plotly.purge(gd);\n",
       "            observer.disconnect();\n",
       "        }}\n",
       "}});\n",
       "\n",
       "// Listen for the removal of the full notebook cells\n",
       "var notebookContainer = gd.closest('#notebook-container');\n",
       "if (notebookContainer) {{\n",
       "    x.observe(notebookContainer, {childList: true});\n",
       "}}\n",
       "\n",
       "// Listen for the clearing of the current output cell\n",
       "var outputEl = gd.closest('.output');\n",
       "if (outputEl) {{\n",
       "    x.observe(outputEl, {childList: true});\n",
       "}}\n",
       "\n",
       "                        })\n",
       "                };\n",
       "                });\n",
       "            </script>\n",
       "        </div>"
      ]
     },
     "metadata": {},
     "output_type": "display_data"
    }
   ],
   "source": [
    "fig = px.bar(get_top_journalists('The Advocate'), x = 'author', y = 'articles')\n",
    "fig.show()"
   ]
  },
  {
   "cell_type": "code",
   "execution_count": 36,
   "metadata": {},
   "outputs": [],
   "source": [
    "def source_sentiments(source):\n",
    "    temp = news[news.site_name == source]\n",
    "    temp = temp.sort_values(by = ['title_sentiment'], ascending = False)\n",
    "    temp = temp.groupby('author')['title_sentiment'].mean()\n",
    "    temp = temp.reset_index()\n",
    "    temp = temp.sort_values(by = ['title_sentiment'])\n",
    "    return temp"
   ]
  },
  {
   "cell_type": "code",
   "execution_count": 38,
   "metadata": {},
   "outputs": [
    {
     "data": {
      "application/vnd.plotly.v1+json": {
       "config": {
        "plotlyServerURL": "https://plot.ly"
       },
       "data": [
        {
         "alignmentgroup": "True",
         "hovertemplate": "author=%{x}<br>title_sentiment=%{y}<extra></extra>",
         "legendgroup": "",
         "marker": {
          "color": "#636efa"
         },
         "name": "",
         "offsetgroup": "",
         "orientation": "v",
         "showlegend": false,
         "textposition": "auto",
         "type": "bar",
         "x": [
          "KATIE GAGLIANO | Staff writer",
          "LEA SKENE | Staff writer",
          "PAUL COBLER | Staff Writer",
          "JOE GYAN JR. | Staff writer",
          "MEGAN WYATT | Staff writer",
          "BEN MYERS | Staff writer",
          "CLAIRE TAYLOR | Staff writer",
          "JEFF NOWAK | Staff writer",
          "BROOKS KUBENA | Staff writer",
          "KRISTEN MOSBRUCKER | Staff writer",
          "MELINDA DESLATTE",
          "DAVID J. MITCHELL | Staff writer",
          "KEN STICKNEY | Staff writer",
          "BLAKE PATERSON | Staff writer",
          "CARLIE KOLLATH WELLS | Staff writer",
          "SPENCER URQUHART | Staff writer",
          "SAM KARLIN | Staff writer",
          "WILSON ALEXANDER | Staff writer",
          "JIM KLEINPETER | Contributing writer",
          "CHARLES LUSSIER | Staff writer",
          "LEILA PITCHFORD | Staff writer",
          "SMILEY ANDERS | Columnist",
          "SHELDON MICKLES | Staff writer",
          "TIMOTHY BOONE | Staff writer",
          "AMANDA MCELFRESH | Branded content specialist",
          "MIKE COPPAGE | Contributing writer",
          "SCOTT RABALAIS | Sports columnist",
          "WILL SENTELL | Staff writer",
          "ADAM DAIGLE | Acadiana business editor",
          "KEVIN FOOTE | Staff writer",
          "ROBIN MILLER | Staff writer",
          "VIC COUVILLION | Contributing writer",
          "ROBIN FAMBROUGH | Staff writer",
          "MARK BALLARD | Capitol Bureau editor",
          "CHARLES SALZER | Contributing writer",
          "ELLYN COUVILLION | Staff writer",
          "JUDY BERGERON | Staff writer"
         ],
         "xaxis": "x",
         "y": [
          -31.699714285714293,
          -28.254285714285714,
          -17.712727272727275,
          -13.2725,
          -11.774545454545454,
          -10.239,
          -6.346428571428571,
          -5.223333333333333,
          -4.22725,
          -2.8681249999999996,
          -2.0633333333333335,
          -1.8946666666666663,
          -1.038181818181818,
          -0.44399999999999995,
          0,
          0.5233333333333331,
          1.0404761904761906,
          1.121052631578948,
          1.4572727272727273,
          1.4699999999999998,
          1.7,
          2.5428571428571423,
          2.683571428571429,
          2.775,
          3.581176470588235,
          4.353,
          4.582413793103448,
          4.613,
          4.920303030303031,
          4.999710144927538,
          5.230666666666667,
          6.927,
          7.389111111111112,
          8.079166666666667,
          8.447,
          9.18,
          9.954999999999998
         ],
         "yaxis": "y"
        }
       ],
       "layout": {
        "barmode": "relative",
        "legend": {
         "tracegroupgap": 0
        },
        "margin": {
         "t": 60
        },
        "template": {
         "data": {
          "bar": [
           {
            "error_x": {
             "color": "#2a3f5f"
            },
            "error_y": {
             "color": "#2a3f5f"
            },
            "marker": {
             "line": {
              "color": "#E5ECF6",
              "width": 0.5
             }
            },
            "type": "bar"
           }
          ],
          "barpolar": [
           {
            "marker": {
             "line": {
              "color": "#E5ECF6",
              "width": 0.5
             }
            },
            "type": "barpolar"
           }
          ],
          "carpet": [
           {
            "aaxis": {
             "endlinecolor": "#2a3f5f",
             "gridcolor": "white",
             "linecolor": "white",
             "minorgridcolor": "white",
             "startlinecolor": "#2a3f5f"
            },
            "baxis": {
             "endlinecolor": "#2a3f5f",
             "gridcolor": "white",
             "linecolor": "white",
             "minorgridcolor": "white",
             "startlinecolor": "#2a3f5f"
            },
            "type": "carpet"
           }
          ],
          "choropleth": [
           {
            "colorbar": {
             "outlinewidth": 0,
             "ticks": ""
            },
            "type": "choropleth"
           }
          ],
          "contour": [
           {
            "colorbar": {
             "outlinewidth": 0,
             "ticks": ""
            },
            "colorscale": [
             [
              0,
              "#0d0887"
             ],
             [
              0.1111111111111111,
              "#46039f"
             ],
             [
              0.2222222222222222,
              "#7201a8"
             ],
             [
              0.3333333333333333,
              "#9c179e"
             ],
             [
              0.4444444444444444,
              "#bd3786"
             ],
             [
              0.5555555555555556,
              "#d8576b"
             ],
             [
              0.6666666666666666,
              "#ed7953"
             ],
             [
              0.7777777777777778,
              "#fb9f3a"
             ],
             [
              0.8888888888888888,
              "#fdca26"
             ],
             [
              1,
              "#f0f921"
             ]
            ],
            "type": "contour"
           }
          ],
          "contourcarpet": [
           {
            "colorbar": {
             "outlinewidth": 0,
             "ticks": ""
            },
            "type": "contourcarpet"
           }
          ],
          "heatmap": [
           {
            "colorbar": {
             "outlinewidth": 0,
             "ticks": ""
            },
            "colorscale": [
             [
              0,
              "#0d0887"
             ],
             [
              0.1111111111111111,
              "#46039f"
             ],
             [
              0.2222222222222222,
              "#7201a8"
             ],
             [
              0.3333333333333333,
              "#9c179e"
             ],
             [
              0.4444444444444444,
              "#bd3786"
             ],
             [
              0.5555555555555556,
              "#d8576b"
             ],
             [
              0.6666666666666666,
              "#ed7953"
             ],
             [
              0.7777777777777778,
              "#fb9f3a"
             ],
             [
              0.8888888888888888,
              "#fdca26"
             ],
             [
              1,
              "#f0f921"
             ]
            ],
            "type": "heatmap"
           }
          ],
          "heatmapgl": [
           {
            "colorbar": {
             "outlinewidth": 0,
             "ticks": ""
            },
            "colorscale": [
             [
              0,
              "#0d0887"
             ],
             [
              0.1111111111111111,
              "#46039f"
             ],
             [
              0.2222222222222222,
              "#7201a8"
             ],
             [
              0.3333333333333333,
              "#9c179e"
             ],
             [
              0.4444444444444444,
              "#bd3786"
             ],
             [
              0.5555555555555556,
              "#d8576b"
             ],
             [
              0.6666666666666666,
              "#ed7953"
             ],
             [
              0.7777777777777778,
              "#fb9f3a"
             ],
             [
              0.8888888888888888,
              "#fdca26"
             ],
             [
              1,
              "#f0f921"
             ]
            ],
            "type": "heatmapgl"
           }
          ],
          "histogram": [
           {
            "marker": {
             "colorbar": {
              "outlinewidth": 0,
              "ticks": ""
             }
            },
            "type": "histogram"
           }
          ],
          "histogram2d": [
           {
            "colorbar": {
             "outlinewidth": 0,
             "ticks": ""
            },
            "colorscale": [
             [
              0,
              "#0d0887"
             ],
             [
              0.1111111111111111,
              "#46039f"
             ],
             [
              0.2222222222222222,
              "#7201a8"
             ],
             [
              0.3333333333333333,
              "#9c179e"
             ],
             [
              0.4444444444444444,
              "#bd3786"
             ],
             [
              0.5555555555555556,
              "#d8576b"
             ],
             [
              0.6666666666666666,
              "#ed7953"
             ],
             [
              0.7777777777777778,
              "#fb9f3a"
             ],
             [
              0.8888888888888888,
              "#fdca26"
             ],
             [
              1,
              "#f0f921"
             ]
            ],
            "type": "histogram2d"
           }
          ],
          "histogram2dcontour": [
           {
            "colorbar": {
             "outlinewidth": 0,
             "ticks": ""
            },
            "colorscale": [
             [
              0,
              "#0d0887"
             ],
             [
              0.1111111111111111,
              "#46039f"
             ],
             [
              0.2222222222222222,
              "#7201a8"
             ],
             [
              0.3333333333333333,
              "#9c179e"
             ],
             [
              0.4444444444444444,
              "#bd3786"
             ],
             [
              0.5555555555555556,
              "#d8576b"
             ],
             [
              0.6666666666666666,
              "#ed7953"
             ],
             [
              0.7777777777777778,
              "#fb9f3a"
             ],
             [
              0.8888888888888888,
              "#fdca26"
             ],
             [
              1,
              "#f0f921"
             ]
            ],
            "type": "histogram2dcontour"
           }
          ],
          "mesh3d": [
           {
            "colorbar": {
             "outlinewidth": 0,
             "ticks": ""
            },
            "type": "mesh3d"
           }
          ],
          "parcoords": [
           {
            "line": {
             "colorbar": {
              "outlinewidth": 0,
              "ticks": ""
             }
            },
            "type": "parcoords"
           }
          ],
          "pie": [
           {
            "automargin": true,
            "type": "pie"
           }
          ],
          "scatter": [
           {
            "marker": {
             "colorbar": {
              "outlinewidth": 0,
              "ticks": ""
             }
            },
            "type": "scatter"
           }
          ],
          "scatter3d": [
           {
            "line": {
             "colorbar": {
              "outlinewidth": 0,
              "ticks": ""
             }
            },
            "marker": {
             "colorbar": {
              "outlinewidth": 0,
              "ticks": ""
             }
            },
            "type": "scatter3d"
           }
          ],
          "scattercarpet": [
           {
            "marker": {
             "colorbar": {
              "outlinewidth": 0,
              "ticks": ""
             }
            },
            "type": "scattercarpet"
           }
          ],
          "scattergeo": [
           {
            "marker": {
             "colorbar": {
              "outlinewidth": 0,
              "ticks": ""
             }
            },
            "type": "scattergeo"
           }
          ],
          "scattergl": [
           {
            "marker": {
             "colorbar": {
              "outlinewidth": 0,
              "ticks": ""
             }
            },
            "type": "scattergl"
           }
          ],
          "scattermapbox": [
           {
            "marker": {
             "colorbar": {
              "outlinewidth": 0,
              "ticks": ""
             }
            },
            "type": "scattermapbox"
           }
          ],
          "scatterpolar": [
           {
            "marker": {
             "colorbar": {
              "outlinewidth": 0,
              "ticks": ""
             }
            },
            "type": "scatterpolar"
           }
          ],
          "scatterpolargl": [
           {
            "marker": {
             "colorbar": {
              "outlinewidth": 0,
              "ticks": ""
             }
            },
            "type": "scatterpolargl"
           }
          ],
          "scatterternary": [
           {
            "marker": {
             "colorbar": {
              "outlinewidth": 0,
              "ticks": ""
             }
            },
            "type": "scatterternary"
           }
          ],
          "surface": [
           {
            "colorbar": {
             "outlinewidth": 0,
             "ticks": ""
            },
            "colorscale": [
             [
              0,
              "#0d0887"
             ],
             [
              0.1111111111111111,
              "#46039f"
             ],
             [
              0.2222222222222222,
              "#7201a8"
             ],
             [
              0.3333333333333333,
              "#9c179e"
             ],
             [
              0.4444444444444444,
              "#bd3786"
             ],
             [
              0.5555555555555556,
              "#d8576b"
             ],
             [
              0.6666666666666666,
              "#ed7953"
             ],
             [
              0.7777777777777778,
              "#fb9f3a"
             ],
             [
              0.8888888888888888,
              "#fdca26"
             ],
             [
              1,
              "#f0f921"
             ]
            ],
            "type": "surface"
           }
          ],
          "table": [
           {
            "cells": {
             "fill": {
              "color": "#EBF0F8"
             },
             "line": {
              "color": "white"
             }
            },
            "header": {
             "fill": {
              "color": "#C8D4E3"
             },
             "line": {
              "color": "white"
             }
            },
            "type": "table"
           }
          ]
         },
         "layout": {
          "annotationdefaults": {
           "arrowcolor": "#2a3f5f",
           "arrowhead": 0,
           "arrowwidth": 1
          },
          "coloraxis": {
           "colorbar": {
            "outlinewidth": 0,
            "ticks": ""
           }
          },
          "colorscale": {
           "diverging": [
            [
             0,
             "#8e0152"
            ],
            [
             0.1,
             "#c51b7d"
            ],
            [
             0.2,
             "#de77ae"
            ],
            [
             0.3,
             "#f1b6da"
            ],
            [
             0.4,
             "#fde0ef"
            ],
            [
             0.5,
             "#f7f7f7"
            ],
            [
             0.6,
             "#e6f5d0"
            ],
            [
             0.7,
             "#b8e186"
            ],
            [
             0.8,
             "#7fbc41"
            ],
            [
             0.9,
             "#4d9221"
            ],
            [
             1,
             "#276419"
            ]
           ],
           "sequential": [
            [
             0,
             "#0d0887"
            ],
            [
             0.1111111111111111,
             "#46039f"
            ],
            [
             0.2222222222222222,
             "#7201a8"
            ],
            [
             0.3333333333333333,
             "#9c179e"
            ],
            [
             0.4444444444444444,
             "#bd3786"
            ],
            [
             0.5555555555555556,
             "#d8576b"
            ],
            [
             0.6666666666666666,
             "#ed7953"
            ],
            [
             0.7777777777777778,
             "#fb9f3a"
            ],
            [
             0.8888888888888888,
             "#fdca26"
            ],
            [
             1,
             "#f0f921"
            ]
           ],
           "sequentialminus": [
            [
             0,
             "#0d0887"
            ],
            [
             0.1111111111111111,
             "#46039f"
            ],
            [
             0.2222222222222222,
             "#7201a8"
            ],
            [
             0.3333333333333333,
             "#9c179e"
            ],
            [
             0.4444444444444444,
             "#bd3786"
            ],
            [
             0.5555555555555556,
             "#d8576b"
            ],
            [
             0.6666666666666666,
             "#ed7953"
            ],
            [
             0.7777777777777778,
             "#fb9f3a"
            ],
            [
             0.8888888888888888,
             "#fdca26"
            ],
            [
             1,
             "#f0f921"
            ]
           ]
          },
          "colorway": [
           "#636efa",
           "#EF553B",
           "#00cc96",
           "#ab63fa",
           "#FFA15A",
           "#19d3f3",
           "#FF6692",
           "#B6E880",
           "#FF97FF",
           "#FECB52"
          ],
          "font": {
           "color": "#2a3f5f"
          },
          "geo": {
           "bgcolor": "white",
           "lakecolor": "white",
           "landcolor": "#E5ECF6",
           "showlakes": true,
           "showland": true,
           "subunitcolor": "white"
          },
          "hoverlabel": {
           "align": "left"
          },
          "hovermode": "closest",
          "mapbox": {
           "style": "light"
          },
          "paper_bgcolor": "white",
          "plot_bgcolor": "#E5ECF6",
          "polar": {
           "angularaxis": {
            "gridcolor": "white",
            "linecolor": "white",
            "ticks": ""
           },
           "bgcolor": "#E5ECF6",
           "radialaxis": {
            "gridcolor": "white",
            "linecolor": "white",
            "ticks": ""
           }
          },
          "scene": {
           "xaxis": {
            "backgroundcolor": "#E5ECF6",
            "gridcolor": "white",
            "gridwidth": 2,
            "linecolor": "white",
            "showbackground": true,
            "ticks": "",
            "zerolinecolor": "white"
           },
           "yaxis": {
            "backgroundcolor": "#E5ECF6",
            "gridcolor": "white",
            "gridwidth": 2,
            "linecolor": "white",
            "showbackground": true,
            "ticks": "",
            "zerolinecolor": "white"
           },
           "zaxis": {
            "backgroundcolor": "#E5ECF6",
            "gridcolor": "white",
            "gridwidth": 2,
            "linecolor": "white",
            "showbackground": true,
            "ticks": "",
            "zerolinecolor": "white"
           }
          },
          "shapedefaults": {
           "line": {
            "color": "#2a3f5f"
           }
          },
          "ternary": {
           "aaxis": {
            "gridcolor": "white",
            "linecolor": "white",
            "ticks": ""
           },
           "baxis": {
            "gridcolor": "white",
            "linecolor": "white",
            "ticks": ""
           },
           "bgcolor": "#E5ECF6",
           "caxis": {
            "gridcolor": "white",
            "linecolor": "white",
            "ticks": ""
           }
          },
          "title": {
           "x": 0.05
          },
          "xaxis": {
           "automargin": true,
           "gridcolor": "white",
           "linecolor": "white",
           "ticks": "",
           "title": {
            "standoff": 15
           },
           "zerolinecolor": "white",
           "zerolinewidth": 2
          },
          "yaxis": {
           "automargin": true,
           "gridcolor": "white",
           "linecolor": "white",
           "ticks": "",
           "title": {
            "standoff": 15
           },
           "zerolinecolor": "white",
           "zerolinewidth": 2
          }
         }
        },
        "xaxis": {
         "anchor": "y",
         "domain": [
          0,
          1
         ],
         "title": {
          "text": "author"
         }
        },
        "yaxis": {
         "anchor": "x",
         "domain": [
          0,
          1
         ],
         "title": {
          "text": "title_sentiment"
         }
        }
       }
      },
      "text/html": [
       "<div>\n",
       "        \n",
       "        \n",
       "            <div id=\"6610a47d-eb75-48a2-91af-2a06fa90925e\" class=\"plotly-graph-div\" style=\"height:525px; width:100%;\"></div>\n",
       "            <script type=\"text/javascript\">\n",
       "                require([\"plotly\"], function(Plotly) {\n",
       "                    window.PLOTLYENV=window.PLOTLYENV || {};\n",
       "                    \n",
       "                if (document.getElementById(\"6610a47d-eb75-48a2-91af-2a06fa90925e\")) {\n",
       "                    Plotly.newPlot(\n",
       "                        '6610a47d-eb75-48a2-91af-2a06fa90925e',\n",
       "                        [{\"alignmentgroup\": \"True\", \"hovertemplate\": \"author=%{x}<br>title_sentiment=%{y}<extra></extra>\", \"legendgroup\": \"\", \"marker\": {\"color\": \"#636efa\"}, \"name\": \"\", \"offsetgroup\": \"\", \"orientation\": \"v\", \"showlegend\": false, \"textposition\": \"auto\", \"type\": \"bar\", \"x\": [\"KATIE GAGLIANO | Staff writer\", \"LEA SKENE | Staff writer\", \"PAUL COBLER | Staff Writer\", \"JOE GYAN JR. | Staff writer\", \"MEGAN WYATT | Staff writer\", \"BEN MYERS | Staff writer\", \"CLAIRE TAYLOR | Staff writer\", \"JEFF NOWAK | Staff writer\", \"BROOKS KUBENA | Staff writer\", \"KRISTEN MOSBRUCKER | Staff writer\", \"MELINDA DESLATTE\", \"DAVID J. MITCHELL | Staff writer\", \"KEN STICKNEY | Staff writer\", \"BLAKE PATERSON | Staff writer\", \"CARLIE KOLLATH WELLS | Staff writer\", \"SPENCER URQUHART | Staff writer\", \"SAM KARLIN | Staff writer\", \"WILSON ALEXANDER | Staff writer\", \"JIM KLEINPETER | Contributing writer\", \"CHARLES LUSSIER | Staff writer\", \"LEILA PITCHFORD | Staff writer\", \"SMILEY ANDERS | Columnist\", \"SHELDON MICKLES | Staff writer\", \"TIMOTHY BOONE | Staff writer\", \"AMANDA MCELFRESH | Branded content specialist\", \"MIKE COPPAGE | Contributing writer\", \"SCOTT RABALAIS | Sports columnist\", \"WILL SENTELL | Staff writer\", \"ADAM DAIGLE | Acadiana business editor\", \"KEVIN FOOTE | Staff writer\", \"ROBIN MILLER | Staff writer\", \"VIC COUVILLION | Contributing writer\", \"ROBIN FAMBROUGH | Staff writer\", \"MARK BALLARD | Capitol Bureau editor\", \"CHARLES SALZER | Contributing writer\", \"ELLYN COUVILLION | Staff writer\", \"JUDY BERGERON | Staff writer\"], \"xaxis\": \"x\", \"y\": [-31.699714285714293, -28.254285714285714, -17.712727272727275, -13.2725, -11.774545454545454, -10.239, -6.346428571428571, -5.223333333333333, -4.22725, -2.8681249999999996, -2.0633333333333335, -1.8946666666666663, -1.038181818181818, -0.44399999999999995, 0.0, 0.5233333333333331, 1.0404761904761906, 1.121052631578948, 1.4572727272727273, 1.4699999999999998, 1.7, 2.5428571428571423, 2.683571428571429, 2.775, 3.581176470588235, 4.353, 4.582413793103448, 4.613, 4.920303030303031, 4.999710144927538, 5.230666666666667, 6.927, 7.389111111111112, 8.079166666666667, 8.447, 9.18, 9.954999999999998], \"yaxis\": \"y\"}],\n",
       "                        {\"barmode\": \"relative\", \"legend\": {\"tracegroupgap\": 0}, \"margin\": {\"t\": 60}, \"template\": {\"data\": {\"bar\": [{\"error_x\": {\"color\": \"#2a3f5f\"}, \"error_y\": {\"color\": \"#2a3f5f\"}, \"marker\": {\"line\": {\"color\": \"#E5ECF6\", \"width\": 0.5}}, \"type\": \"bar\"}], \"barpolar\": [{\"marker\": {\"line\": {\"color\": \"#E5ECF6\", \"width\": 0.5}}, \"type\": \"barpolar\"}], \"carpet\": [{\"aaxis\": {\"endlinecolor\": \"#2a3f5f\", \"gridcolor\": \"white\", \"linecolor\": \"white\", \"minorgridcolor\": \"white\", \"startlinecolor\": \"#2a3f5f\"}, \"baxis\": {\"endlinecolor\": \"#2a3f5f\", \"gridcolor\": \"white\", \"linecolor\": \"white\", \"minorgridcolor\": \"white\", \"startlinecolor\": \"#2a3f5f\"}, \"type\": \"carpet\"}], \"choropleth\": [{\"colorbar\": {\"outlinewidth\": 0, \"ticks\": \"\"}, \"type\": \"choropleth\"}], \"contour\": [{\"colorbar\": {\"outlinewidth\": 0, \"ticks\": \"\"}, \"colorscale\": [[0.0, \"#0d0887\"], [0.1111111111111111, \"#46039f\"], [0.2222222222222222, \"#7201a8\"], [0.3333333333333333, \"#9c179e\"], [0.4444444444444444, \"#bd3786\"], [0.5555555555555556, \"#d8576b\"], [0.6666666666666666, \"#ed7953\"], [0.7777777777777778, \"#fb9f3a\"], [0.8888888888888888, \"#fdca26\"], [1.0, \"#f0f921\"]], \"type\": \"contour\"}], \"contourcarpet\": [{\"colorbar\": {\"outlinewidth\": 0, \"ticks\": \"\"}, \"type\": \"contourcarpet\"}], \"heatmap\": [{\"colorbar\": {\"outlinewidth\": 0, \"ticks\": \"\"}, \"colorscale\": [[0.0, \"#0d0887\"], [0.1111111111111111, \"#46039f\"], [0.2222222222222222, \"#7201a8\"], [0.3333333333333333, \"#9c179e\"], [0.4444444444444444, \"#bd3786\"], [0.5555555555555556, \"#d8576b\"], [0.6666666666666666, \"#ed7953\"], [0.7777777777777778, \"#fb9f3a\"], [0.8888888888888888, \"#fdca26\"], [1.0, \"#f0f921\"]], \"type\": \"heatmap\"}], \"heatmapgl\": [{\"colorbar\": {\"outlinewidth\": 0, \"ticks\": \"\"}, \"colorscale\": [[0.0, \"#0d0887\"], [0.1111111111111111, \"#46039f\"], [0.2222222222222222, \"#7201a8\"], [0.3333333333333333, \"#9c179e\"], [0.4444444444444444, \"#bd3786\"], [0.5555555555555556, \"#d8576b\"], [0.6666666666666666, \"#ed7953\"], [0.7777777777777778, \"#fb9f3a\"], [0.8888888888888888, \"#fdca26\"], [1.0, \"#f0f921\"]], \"type\": \"heatmapgl\"}], \"histogram\": [{\"marker\": {\"colorbar\": {\"outlinewidth\": 0, \"ticks\": \"\"}}, \"type\": \"histogram\"}], \"histogram2d\": [{\"colorbar\": {\"outlinewidth\": 0, \"ticks\": \"\"}, \"colorscale\": [[0.0, \"#0d0887\"], [0.1111111111111111, \"#46039f\"], [0.2222222222222222, \"#7201a8\"], [0.3333333333333333, \"#9c179e\"], [0.4444444444444444, \"#bd3786\"], [0.5555555555555556, \"#d8576b\"], [0.6666666666666666, \"#ed7953\"], [0.7777777777777778, \"#fb9f3a\"], [0.8888888888888888, \"#fdca26\"], [1.0, \"#f0f921\"]], \"type\": \"histogram2d\"}], \"histogram2dcontour\": [{\"colorbar\": {\"outlinewidth\": 0, \"ticks\": \"\"}, \"colorscale\": [[0.0, \"#0d0887\"], [0.1111111111111111, \"#46039f\"], [0.2222222222222222, \"#7201a8\"], [0.3333333333333333, \"#9c179e\"], [0.4444444444444444, \"#bd3786\"], [0.5555555555555556, \"#d8576b\"], [0.6666666666666666, \"#ed7953\"], [0.7777777777777778, \"#fb9f3a\"], [0.8888888888888888, \"#fdca26\"], [1.0, \"#f0f921\"]], \"type\": \"histogram2dcontour\"}], \"mesh3d\": [{\"colorbar\": {\"outlinewidth\": 0, \"ticks\": \"\"}, \"type\": \"mesh3d\"}], \"parcoords\": [{\"line\": {\"colorbar\": {\"outlinewidth\": 0, \"ticks\": \"\"}}, \"type\": \"parcoords\"}], \"pie\": [{\"automargin\": true, \"type\": \"pie\"}], \"scatter\": [{\"marker\": {\"colorbar\": {\"outlinewidth\": 0, \"ticks\": \"\"}}, \"type\": \"scatter\"}], \"scatter3d\": [{\"line\": {\"colorbar\": {\"outlinewidth\": 0, \"ticks\": \"\"}}, \"marker\": {\"colorbar\": {\"outlinewidth\": 0, \"ticks\": \"\"}}, \"type\": \"scatter3d\"}], \"scattercarpet\": [{\"marker\": {\"colorbar\": {\"outlinewidth\": 0, \"ticks\": \"\"}}, \"type\": \"scattercarpet\"}], \"scattergeo\": [{\"marker\": {\"colorbar\": {\"outlinewidth\": 0, \"ticks\": \"\"}}, \"type\": \"scattergeo\"}], \"scattergl\": [{\"marker\": {\"colorbar\": {\"outlinewidth\": 0, \"ticks\": \"\"}}, \"type\": \"scattergl\"}], \"scattermapbox\": [{\"marker\": {\"colorbar\": {\"outlinewidth\": 0, \"ticks\": \"\"}}, \"type\": \"scattermapbox\"}], \"scatterpolar\": [{\"marker\": {\"colorbar\": {\"outlinewidth\": 0, \"ticks\": \"\"}}, \"type\": \"scatterpolar\"}], \"scatterpolargl\": [{\"marker\": {\"colorbar\": {\"outlinewidth\": 0, \"ticks\": \"\"}}, \"type\": \"scatterpolargl\"}], \"scatterternary\": [{\"marker\": {\"colorbar\": {\"outlinewidth\": 0, \"ticks\": \"\"}}, \"type\": \"scatterternary\"}], \"surface\": [{\"colorbar\": {\"outlinewidth\": 0, \"ticks\": \"\"}, \"colorscale\": [[0.0, \"#0d0887\"], [0.1111111111111111, \"#46039f\"], [0.2222222222222222, \"#7201a8\"], [0.3333333333333333, \"#9c179e\"], [0.4444444444444444, \"#bd3786\"], [0.5555555555555556, \"#d8576b\"], [0.6666666666666666, \"#ed7953\"], [0.7777777777777778, \"#fb9f3a\"], [0.8888888888888888, \"#fdca26\"], [1.0, \"#f0f921\"]], \"type\": \"surface\"}], \"table\": [{\"cells\": {\"fill\": {\"color\": \"#EBF0F8\"}, \"line\": {\"color\": \"white\"}}, \"header\": {\"fill\": {\"color\": \"#C8D4E3\"}, \"line\": {\"color\": \"white\"}}, \"type\": \"table\"}]}, \"layout\": {\"annotationdefaults\": {\"arrowcolor\": \"#2a3f5f\", \"arrowhead\": 0, \"arrowwidth\": 1}, \"coloraxis\": {\"colorbar\": {\"outlinewidth\": 0, \"ticks\": \"\"}}, \"colorscale\": {\"diverging\": [[0, \"#8e0152\"], [0.1, \"#c51b7d\"], [0.2, \"#de77ae\"], [0.3, \"#f1b6da\"], [0.4, \"#fde0ef\"], [0.5, \"#f7f7f7\"], [0.6, \"#e6f5d0\"], [0.7, \"#b8e186\"], [0.8, \"#7fbc41\"], [0.9, \"#4d9221\"], [1, \"#276419\"]], \"sequential\": [[0.0, \"#0d0887\"], [0.1111111111111111, \"#46039f\"], [0.2222222222222222, \"#7201a8\"], [0.3333333333333333, \"#9c179e\"], [0.4444444444444444, \"#bd3786\"], [0.5555555555555556, \"#d8576b\"], [0.6666666666666666, \"#ed7953\"], [0.7777777777777778, \"#fb9f3a\"], [0.8888888888888888, \"#fdca26\"], [1.0, \"#f0f921\"]], \"sequentialminus\": [[0.0, \"#0d0887\"], [0.1111111111111111, \"#46039f\"], [0.2222222222222222, \"#7201a8\"], [0.3333333333333333, \"#9c179e\"], [0.4444444444444444, \"#bd3786\"], [0.5555555555555556, \"#d8576b\"], [0.6666666666666666, \"#ed7953\"], [0.7777777777777778, \"#fb9f3a\"], [0.8888888888888888, \"#fdca26\"], [1.0, \"#f0f921\"]]}, \"colorway\": [\"#636efa\", \"#EF553B\", \"#00cc96\", \"#ab63fa\", \"#FFA15A\", \"#19d3f3\", \"#FF6692\", \"#B6E880\", \"#FF97FF\", \"#FECB52\"], \"font\": {\"color\": \"#2a3f5f\"}, \"geo\": {\"bgcolor\": \"white\", \"lakecolor\": \"white\", \"landcolor\": \"#E5ECF6\", \"showlakes\": true, \"showland\": true, \"subunitcolor\": \"white\"}, \"hoverlabel\": {\"align\": \"left\"}, \"hovermode\": \"closest\", \"mapbox\": {\"style\": \"light\"}, \"paper_bgcolor\": \"white\", \"plot_bgcolor\": \"#E5ECF6\", \"polar\": {\"angularaxis\": {\"gridcolor\": \"white\", \"linecolor\": \"white\", \"ticks\": \"\"}, \"bgcolor\": \"#E5ECF6\", \"radialaxis\": {\"gridcolor\": \"white\", \"linecolor\": \"white\", \"ticks\": \"\"}}, \"scene\": {\"xaxis\": {\"backgroundcolor\": \"#E5ECF6\", \"gridcolor\": \"white\", \"gridwidth\": 2, \"linecolor\": \"white\", \"showbackground\": true, \"ticks\": \"\", \"zerolinecolor\": \"white\"}, \"yaxis\": {\"backgroundcolor\": \"#E5ECF6\", \"gridcolor\": \"white\", \"gridwidth\": 2, \"linecolor\": \"white\", \"showbackground\": true, \"ticks\": \"\", \"zerolinecolor\": \"white\"}, \"zaxis\": {\"backgroundcolor\": \"#E5ECF6\", \"gridcolor\": \"white\", \"gridwidth\": 2, \"linecolor\": \"white\", \"showbackground\": true, \"ticks\": \"\", \"zerolinecolor\": \"white\"}}, \"shapedefaults\": {\"line\": {\"color\": \"#2a3f5f\"}}, \"ternary\": {\"aaxis\": {\"gridcolor\": \"white\", \"linecolor\": \"white\", \"ticks\": \"\"}, \"baxis\": {\"gridcolor\": \"white\", \"linecolor\": \"white\", \"ticks\": \"\"}, \"bgcolor\": \"#E5ECF6\", \"caxis\": {\"gridcolor\": \"white\", \"linecolor\": \"white\", \"ticks\": \"\"}}, \"title\": {\"x\": 0.05}, \"xaxis\": {\"automargin\": true, \"gridcolor\": \"white\", \"linecolor\": \"white\", \"ticks\": \"\", \"title\": {\"standoff\": 15}, \"zerolinecolor\": \"white\", \"zerolinewidth\": 2}, \"yaxis\": {\"automargin\": true, \"gridcolor\": \"white\", \"linecolor\": \"white\", \"ticks\": \"\", \"title\": {\"standoff\": 15}, \"zerolinecolor\": \"white\", \"zerolinewidth\": 2}}}, \"xaxis\": {\"anchor\": \"y\", \"domain\": [0.0, 1.0], \"title\": {\"text\": \"author\"}}, \"yaxis\": {\"anchor\": \"x\", \"domain\": [0.0, 1.0], \"title\": {\"text\": \"title_sentiment\"}}},\n",
       "                        {\"responsive\": true}\n",
       "                    ).then(function(){\n",
       "                            \n",
       "var gd = document.getElementById('6610a47d-eb75-48a2-91af-2a06fa90925e');\n",
       "var x = new MutationObserver(function (mutations, observer) {{\n",
       "        var display = window.getComputedStyle(gd).display;\n",
       "        if (!display || display === 'none') {{\n",
       "            console.log([gd, 'removed!']);\n",
       "            Plotly.purge(gd);\n",
       "            observer.disconnect();\n",
       "        }}\n",
       "}});\n",
       "\n",
       "// Listen for the removal of the full notebook cells\n",
       "var notebookContainer = gd.closest('#notebook-container');\n",
       "if (notebookContainer) {{\n",
       "    x.observe(notebookContainer, {childList: true});\n",
       "}}\n",
       "\n",
       "// Listen for the clearing of the current output cell\n",
       "var outputEl = gd.closest('.output');\n",
       "if (outputEl) {{\n",
       "    x.observe(outputEl, {childList: true});\n",
       "}}\n",
       "\n",
       "                        })\n",
       "                };\n",
       "                });\n",
       "            </script>\n",
       "        </div>"
      ]
     },
     "metadata": {},
     "output_type": "display_data"
    }
   ],
   "source": [
    "fig = px.bar(source_sentiments('The Advocate'), x = 'author', y = 'title_sentiment')\n",
    "fig.show()"
   ]
  }
 ],
 "metadata": {
  "kernelspec": {
   "display_name": "Python 3",
   "language": "python",
   "name": "python3"
  },
  "language_info": {
   "codemirror_mode": {
    "name": "ipython",
    "version": 3
   },
   "file_extension": ".py",
   "mimetype": "text/x-python",
   "name": "python",
   "nbconvert_exporter": "python",
   "pygments_lexer": "ipython3",
   "version": "3.7.4"
  }
 },
 "nbformat": 4,
 "nbformat_minor": 4
}
